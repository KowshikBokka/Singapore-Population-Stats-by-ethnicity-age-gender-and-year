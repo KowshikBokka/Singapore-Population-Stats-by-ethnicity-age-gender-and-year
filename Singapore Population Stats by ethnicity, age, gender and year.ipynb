{
 "cells": [
  {
   "cell_type": "code",
   "execution_count": 1,
   "metadata": {},
   "outputs": [
    {
     "data": {
      "text/html": [
       "        <script type=\"text/javascript\">\n",
       "        window.PlotlyConfig = {MathJaxConfig: 'local'};\n",
       "        if (window.MathJax) {MathJax.Hub.Config({SVG: {font: \"STIX-Web\"}});}\n",
       "        if (typeof require !== 'undefined') {\n",
       "        require.undef(\"plotly\");\n",
       "        requirejs.config({\n",
       "            paths: {\n",
       "                'plotly': ['https://cdn.plot.ly/plotly-latest.min']\n",
       "            }\n",
       "        });\n",
       "        require(['plotly'], function(Plotly) {\n",
       "            window._Plotly = Plotly;\n",
       "        });\n",
       "        }\n",
       "        </script>\n",
       "        "
      ]
     },
     "metadata": {},
     "output_type": "display_data"
    },
    {
     "data": {
      "text/html": [
       "        <script type=\"text/javascript\">\n",
       "        window.PlotlyConfig = {MathJaxConfig: 'local'};\n",
       "        if (window.MathJax) {MathJax.Hub.Config({SVG: {font: \"STIX-Web\"}});}\n",
       "        if (typeof require !== 'undefined') {\n",
       "        require.undef(\"plotly\");\n",
       "        requirejs.config({\n",
       "            paths: {\n",
       "                'plotly': ['https://cdn.plot.ly/plotly-latest.min']\n",
       "            }\n",
       "        });\n",
       "        require(['plotly'], function(Plotly) {\n",
       "            window._Plotly = Plotly;\n",
       "        });\n",
       "        }\n",
       "        </script>\n",
       "        "
      ]
     },
     "metadata": {},
     "output_type": "display_data"
    }
   ],
   "source": [
    "#importing necessary libraries \n",
    "import numpy as np\n",
    "import pandas as pd\n",
    "import matplotlib.pyplot as plt\n",
    "import seaborn as sns\n",
    "%matplotlib inline\n",
    "from plotly import __version__\n",
    "from plotly.offline import download_plotlyjs, init_notebook_mode, plot, iplot\n",
    "import cufflinks as cf\n",
    "init_notebook_mode(connected=True)\n",
    "cf.go_offline()\n",
    "import plotly.express as px"
   ]
  },
  {
   "cell_type": "code",
   "execution_count": 2,
   "metadata": {},
   "outputs": [],
   "source": [
    "#Reading data from csv file provided\n",
    "df = pd.read_csv(\"singapore-residents-by-age-group-ethnic-group-and-sex-end-june-annual.csv\")"
   ]
  },
  {
   "cell_type": "code",
   "execution_count": 3,
   "metadata": {},
   "outputs": [],
   "source": [
    "#Since data in level_1 and level_2 is not ideal for analysis we are breaking down the data to help us with better analysis.\n",
    "#level_1 is divided into Gender and Ethinicity Columns(Excuse me for the spelling error)\n",
    "#level_2 is written in better format in age_group\n",
    "#After which we dropped the level_1 and Level_2 coloumns since we have no use of them \n",
    "df['Gender'] = np.where(df['level_1'].str.contains('Male'),\"Male\",\n",
    "                       np.where(df['level_1'].str.contains('Female'),\"Female\",\"Mixed\"))\n",
    "df['Ethinicity'] = np.where(df['level_1'].str.contains('Chinese'),\"Chinese\",\n",
    "                           np.where(df['level_1'].str.contains('Indians'),\"Indians\",\n",
    "                                   np.where(df['level_1'].str.contains('Malays'),\"Malays\",\n",
    "                                           np.where(df['level_1'].str.contains('Ethnic'),\"Other Ethinic\",\"Mixed\"))))\n",
    "df['age_group'] = np.where(df['level_2'].str.contains('0  -  4 Years'),\"0-4\",\n",
    "                          np.where(df['level_2'].str.contains('5  -  9 Years'),\"5-9\",\n",
    "                          np.where(df['level_2'].str.contains('10 - 14 Years'),\"10-14\",\n",
    "                          np.where(df['level_2'].str.contains('15 - 19 Years'),\"15-19\",\n",
    "                          np.where(df['level_2'].str.contains('20 - 24 Years'),\"20-24\",\n",
    "                          np.where(df['level_2'].str.contains('25 - 29 Years'),\"25-29\",\n",
    "                          np.where(df['level_2'].str.contains('30 - 34 Years'),\"30-34\",\n",
    "                          np.where(df['level_2'].str.contains('35 - 39 Years'),\"35-39\",\n",
    "                          np.where(df['level_2'].str.contains('40 - 44 Years'),\"40-44\",\n",
    "                          np.where(df['level_2'].str.contains('45 - 49 Years'),\"45-49\",\n",
    "                          np.where(df['level_2'].str.contains('50 - 54 Years'),\"50-54\",\n",
    "                          np.where(df['level_2'].str.contains('55 - 59 Years'),\"55-59\",\n",
    "                          np.where(df['level_2'].str.contains('60 - 64 Years'),\"60-64\",\n",
    "                          np.where(df['level_2'].str.contains('65 - 69 Years'),\"65-69\",\n",
    "                          np.where(df['level_2'].str.contains('70 - 74 Years'),\"70-74\", #datamissing\n",
    "                          np.where(df['level_2'].str.contains('75 - 79 Years'),\"75-79\", #datamissing\n",
    "                          np.where(df['level_2'].str.contains('80 - 84 Years'),\"80-84\", #datamissing\n",
    "                          np.where(df['level_2'].str.contains('65 Years & Over'),\">65\",\n",
    "                          np.where(df['level_2'].str.contains('70 Years & Over'),\">70\",\n",
    "                          np.where(df['level_2'].str.contains('75 Years & Over'),\">75\", #datamissing\n",
    "                          np.where(df['level_2'].str.contains('80 Years & Over'),\">80\", #datamissing\n",
    "                          np.where(df['level_2'].str.contains('85 Years & Over'),\">85\",23)))))))))))))))))))))) #datamissing\n",
    "df.drop(['level_1','level_2'],axis=1,inplace = True)"
   ]
  },
  {
   "cell_type": "code",
   "execution_count": 4,
   "metadata": {},
   "outputs": [
    {
     "data": {
      "text/html": [
       "<div>\n",
       "<style scoped>\n",
       "    .dataframe tbody tr th:only-of-type {\n",
       "        vertical-align: middle;\n",
       "    }\n",
       "\n",
       "    .dataframe tbody tr th {\n",
       "        vertical-align: top;\n",
       "    }\n",
       "\n",
       "    .dataframe thead th {\n",
       "        text-align: right;\n",
       "    }\n",
       "</style>\n",
       "<table border=\"1\" class=\"dataframe\">\n",
       "  <thead>\n",
       "    <tr style=\"text-align: right;\">\n",
       "      <th></th>\n",
       "      <th>year</th>\n",
       "      <th>value</th>\n",
       "      <th>Gender</th>\n",
       "      <th>Ethinicity</th>\n",
       "      <th>age_group</th>\n",
       "    </tr>\n",
       "  </thead>\n",
       "  <tbody>\n",
       "    <tr>\n",
       "      <th>344</th>\n",
       "      <td>1958</td>\n",
       "      <td>NaN</td>\n",
       "      <td>Mixed</td>\n",
       "      <td>Mixed</td>\n",
       "      <td>70-74</td>\n",
       "    </tr>\n",
       "    <tr>\n",
       "      <th>345</th>\n",
       "      <td>1958</td>\n",
       "      <td>NaN</td>\n",
       "      <td>Mixed</td>\n",
       "      <td>Mixed</td>\n",
       "      <td>75-79</td>\n",
       "    </tr>\n",
       "    <tr>\n",
       "      <th>346</th>\n",
       "      <td>1958</td>\n",
       "      <td>NaN</td>\n",
       "      <td>Mixed</td>\n",
       "      <td>Mixed</td>\n",
       "      <td>80-84</td>\n",
       "    </tr>\n",
       "    <tr>\n",
       "      <th>349</th>\n",
       "      <td>1958</td>\n",
       "      <td>NaN</td>\n",
       "      <td>Mixed</td>\n",
       "      <td>Mixed</td>\n",
       "      <td>&gt;75</td>\n",
       "    </tr>\n",
       "    <tr>\n",
       "      <th>350</th>\n",
       "      <td>1958</td>\n",
       "      <td>NaN</td>\n",
       "      <td>Mixed</td>\n",
       "      <td>Mixed</td>\n",
       "      <td>&gt;80</td>\n",
       "    </tr>\n",
       "    <tr>\n",
       "      <th>...</th>\n",
       "      <td>...</td>\n",
       "      <td>...</td>\n",
       "      <td>...</td>\n",
       "      <td>...</td>\n",
       "      <td>...</td>\n",
       "    </tr>\n",
       "    <tr>\n",
       "      <th>10867</th>\n",
       "      <td>1989</td>\n",
       "      <td>NaN</td>\n",
       "      <td>Male</td>\n",
       "      <td>Other Ethinic</td>\n",
       "      <td>&gt;85</td>\n",
       "    </tr>\n",
       "    <tr>\n",
       "      <th>10883</th>\n",
       "      <td>1989</td>\n",
       "      <td>NaN</td>\n",
       "      <td>Female</td>\n",
       "      <td>Other Ethinic</td>\n",
       "      <td>75-79</td>\n",
       "    </tr>\n",
       "    <tr>\n",
       "      <th>10884</th>\n",
       "      <td>1989</td>\n",
       "      <td>NaN</td>\n",
       "      <td>Female</td>\n",
       "      <td>Other Ethinic</td>\n",
       "      <td>80-84</td>\n",
       "    </tr>\n",
       "    <tr>\n",
       "      <th>10888</th>\n",
       "      <td>1989</td>\n",
       "      <td>NaN</td>\n",
       "      <td>Female</td>\n",
       "      <td>Other Ethinic</td>\n",
       "      <td>&gt;80</td>\n",
       "    </tr>\n",
       "    <tr>\n",
       "      <th>10889</th>\n",
       "      <td>1989</td>\n",
       "      <td>NaN</td>\n",
       "      <td>Female</td>\n",
       "      <td>Other Ethinic</td>\n",
       "      <td>&gt;85</td>\n",
       "    </tr>\n",
       "  </tbody>\n",
       "</table>\n",
       "<p>2460 rows × 5 columns</p>\n",
       "</div>"
      ],
      "text/plain": [
       "       year  value  Gender     Ethinicity age_group\n",
       "344    1958    NaN   Mixed          Mixed     70-74\n",
       "345    1958    NaN   Mixed          Mixed     75-79\n",
       "346    1958    NaN   Mixed          Mixed     80-84\n",
       "349    1958    NaN   Mixed          Mixed       >75\n",
       "350    1958    NaN   Mixed          Mixed       >80\n",
       "...     ...    ...     ...            ...       ...\n",
       "10867  1989    NaN    Male  Other Ethinic       >85\n",
       "10883  1989    NaN  Female  Other Ethinic     75-79\n",
       "10884  1989    NaN  Female  Other Ethinic     80-84\n",
       "10888  1989    NaN  Female  Other Ethinic       >80\n",
       "10889  1989    NaN  Female  Other Ethinic       >85\n",
       "\n",
       "[2460 rows x 5 columns]"
      ]
     },
     "execution_count": 4,
     "metadata": {},
     "output_type": "execute_result"
    }
   ],
   "source": [
    "#Here missing values are represented by string(na) \n",
    "#We replaced then with np.nan and converted values to float type since np.nan is float type\n",
    "df[df['value']==\"na\"]\n",
    "df['value'] = df['value'].replace(to_replace='na',value=np.nan)\n",
    "df['value']=df['value'].astype('float')\n",
    "df[df.isnull().any(axis=1)]"
   ]
  },
  {
   "cell_type": "code",
   "execution_count": 5,
   "metadata": {},
   "outputs": [
    {
     "data": {
      "text/plain": [
       "array([1957, 1958, 1959, 1960, 1961, 1962, 1963, 1964, 1965, 1966, 1967,\n",
       "       1968, 1969, 1970, 1971, 1972, 1973, 1974, 1975, 1976, 1977, 1978,\n",
       "       1979, 1980, 1981, 1982, 1983, 1984, 1985, 1986, 1987, 1988, 1989,\n",
       "       1990, 1991, 1992, 1993, 1994, 1995, 1996, 1997, 1998, 1999, 2000,\n",
       "       2001, 2002, 2003, 2004, 2005, 2006, 2007, 2008, 2009, 2010, 2011,\n",
       "       2012, 2013, 2014, 2015, 2016, 2017, 2018])"
      ]
     },
     "execution_count": 5,
     "metadata": {},
     "output_type": "execute_result"
    }
   ],
   "source": [
    "year_list = df['year'].unique()\n",
    "year_list"
   ]
  },
  {
   "cell_type": "code",
   "execution_count": 6,
   "metadata": {},
   "outputs": [
    {
     "data": {
      "text/plain": [
       "array([1958, 1959, 1960, 1961, 1962, 1963, 1964, 1965, 1966, 1967, 1968,\n",
       "       1969, 1970, 1971, 1972, 1973, 1974, 1975, 1976, 1977, 1978, 1979,\n",
       "       1981, 1982, 1983, 1984, 1985, 1986, 1987, 1988, 1989])"
      ]
     },
     "execution_count": 6,
     "metadata": {},
     "output_type": "execute_result"
    }
   ],
   "source": [
    "#Assigning year_n_list with a list of years with null values\n",
    "year_n_list=df[df.isnull().any(axis=1)]['year'].unique()\n",
    "year_n_list"
   ]
  },
  {
   "cell_type": "code",
   "execution_count": 7,
   "metadata": {},
   "outputs": [
    {
     "data": {
      "text/plain": [
       "array(['Mixed', 'Malays', 'Chinese', 'Indians', 'Other Ethinic'],\n",
       "      dtype=object)"
      ]
     },
     "execution_count": 7,
     "metadata": {},
     "output_type": "execute_result"
    }
   ],
   "source": [
    "#Assigning ethnicity_list with a list of ethnicity with null values\n",
    "ethnicity_list = df[df.isnull().any(axis=1)]['Ethinicity'].unique()\n",
    "ethnicity_list"
   ]
  },
  {
   "cell_type": "code",
   "execution_count": 8,
   "metadata": {},
   "outputs": [
    {
     "data": {
      "text/plain": [
       "array(['Mixed', 'Male', 'Female'], dtype=object)"
      ]
     },
     "execution_count": 8,
     "metadata": {},
     "output_type": "execute_result"
    }
   ],
   "source": [
    "#Assigning gender_list with a list of gender with null values\n",
    "gender_list = df[df.isnull().any(axis=1)]['Gender'].unique()\n",
    "gender_list"
   ]
  },
  {
   "cell_type": "code",
   "execution_count": 9,
   "metadata": {},
   "outputs": [
    {
     "data": {
      "text/plain": [
       "array(['70-74', '75-79', '80-84', '>75', '>80', '>85'], dtype=object)"
      ]
     },
     "execution_count": 9,
     "metadata": {},
     "output_type": "execute_result"
    }
   ],
   "source": [
    "#Assigning age_group_list with a list of age_group with null values\n",
    "age_group_list = df[df.isnull().any(axis=1)]['age_group'].unique()\n",
    "age_group_list"
   ]
  },
  {
   "cell_type": "code",
   "execution_count": 10,
   "metadata": {},
   "outputs": [
    {
     "name": "stderr",
     "output_type": "stream",
     "text": [
      "/opt/anaconda3/lib/python3.7/site-packages/ipykernel_launcher.py:3: UserWarning:\n",
      "\n",
      "Boolean Series key will be reindexed to match DataFrame index.\n",
      "\n"
     ]
    },
    {
     "name": "stdout",
     "output_type": "stream",
     "text": [
      "1958 90\n",
      "1959 90\n",
      "1960 90\n",
      "1961 90\n",
      "1962 90\n",
      "1963 90\n",
      "1964 90\n",
      "1965 90\n",
      "1966 90\n",
      "1967 90\n",
      "1968 90\n",
      "1969 90\n",
      "1970 30\n",
      "1971 90\n",
      "1972 90\n",
      "1973 90\n",
      "1974 90\n",
      "1975 90\n",
      "1976 90\n",
      "1977 90\n",
      "1978 90\n",
      "1979 90\n",
      "1981 60\n",
      "1982 60\n",
      "1983 60\n",
      "1984 60\n",
      "1985 60\n",
      "1986 60\n",
      "1987 60\n",
      "1988 60\n",
      "1989 60\n"
     ]
    }
   ],
   "source": [
    "#Understanding pattern in missing data for different years\n",
    "for i in year_n_list:\n",
    "    print(i,len(df[(df.isnull().any(axis=1))][df['year']==i]))"
   ]
  },
  {
   "cell_type": "code",
   "execution_count": 11,
   "metadata": {},
   "outputs": [],
   "source": [
    "\"\"\"\n",
    "From the understanding that there are three different patterns in missing data.\n",
    "We impute the data in such a manner taking into account the distribution of values from other years with complete data.\n",
    "This model assumes a sigular distribution based on year.\n",
    "There will be minor error with the population being filled which would be less that 3% so this is fine. \n",
    "\n",
    "\"\"\"\n",
    "for i in year_n_list:\n",
    "    for n in ethnicity_list:\n",
    "        for m in gender_list:\n",
    "            if ((i>=1958 & i<=1969) | (i>=1971 & i<=1979)):\n",
    "                df[(df['year']==i) & (df['Gender']==m) & (df['Ethinicity']==n)] = df[(df['year']==i) & (df['Gender']==m) & (df['Ethinicity']==n)][~df[(df['year']==i) & (df['Gender']==m) & (df['Ethinicity']==n)]['age_group'].isin([\">65\",\">75\",\">80\"])]\n",
    "                df2 = df[df[(df['year']==i) & (df['Gender']==m) & (df['Ethinicity']==n) & (df['age_group']==\"70-74\")].index.astype(int)[0]:df[(df['year']==i) & (df['Gender']==m) & (df['Ethinicity']==n) & (df['age_group']==\"70-74\")].index.astype(int)[0]+1]\n",
    "                df2.fillna(value=np.round(float(df[(df['year']==i) & (df['Gender']==m) & (df['Ethinicity']==n)][df[(df['year']==i) & (df['Gender']==m) & (df['Ethinicity']==n)]['age_group']==\">70\"]['value']/2)),inplace = True)\n",
    "                df2 = df[df[(df['year']==i) & (df['Gender']==m) & (df['Ethinicity']==n) & (df['age_group']==\"75-79\")].index.astype(int)[0]:df[(df['year']==i) & (df['Gender']==m) & (df['Ethinicity']==n) & (df['age_group']==\"75-79\")].index.astype(int)[0]+1]\n",
    "                df2.fillna(value= np.round(float(df[(df['year']==i) & (df['Gender']==m) & (df['Ethinicity']==n)][df[(df['year']==i) & (df['Gender']==m) & (df['Ethinicity']==n)]['age_group']==\">70\"]['value']/4)),inplace=True)\n",
    "                df2 = df[df[(df['year']==i) & (df['Gender']==m) & (df['Ethinicity']==n) & (df['age_group']==\"80-84\")].index.astype(int)[0]:df[(df['year']==i) & (df['Gender']==m) & (df['Ethinicity']==n) & (df['age_group']==\"80-84\")].index.astype(int)[0]+1]\n",
    "                df2.fillna(value= np.round(float(df[(df['year']==i) & (df['Gender']==m) & (df['Ethinicity']==n)][df[(df['year']==i) & (df['Gender']==m) & (df['Ethinicity']==n)]['age_group']==\">70\"]['value']/8)),inplace=True)\n",
    "                df2 = df[df[(df['year']==i) & (df['Gender']==m) & (df['Ethinicity']==n) & (df['age_group']==\">85\")].index.astype(int)[0]:df[(df['year']==i) & (df['Gender']==m) & (df['Ethinicity']==n) & (df['age_group']==\">85\")].index.astype(int)[0]+1]\n",
    "                df2.fillna(value= np.round(float(df[(df['year']==i) & (df['Gender']==m) & (df['Ethinicity']==n)][df[(df['year']==i) & (df['Gender']==m) & (df['Ethinicity']==n)]['age_group']==\">70\"]['value']/8)),inplace=True)\n",
    "                df[(df['year']==i) & (df['Gender']==m) & (df['Ethinicity']==n)] = df[(df['year']==i) & (df['Gender']==m) & (df['Ethinicity']==n)][~df[(df['year']==i) & (df['Gender']==m) & (df['Ethinicity']==n)]['age_group'].isin([\">70\"])]\n",
    "\n",
    "            elif (i>=1981 and i<=1989): \n",
    "                df[(df['year']==i) & (df['Gender']==m) & (df['Ethinicity']==n)] = df[(df['year']==i) & (df['Gender']==m) & (df['Ethinicity']==n)][~df[(df['year']==i) & (df['Gender']==m) & (df['Ethinicity']==n)]['age_group'].isin([\">65\",\">70\",\">80\"])]\n",
    "                df2 = df[df[(df['year']==i) & (df['Gender']==m) & (df['Ethinicity']==n) & (df['age_group']==\"75-79\")].index.astype(int)[0]:df[(df['year']==i) & (df['Gender']==m) & (df['Ethinicity']==n) & (df['age_group']==\"75-79\")].index.astype(int)[0]+1]\n",
    "                df2.fillna(value=np.round(float(df[(df['year']==i) & (df['Gender']==m) & (df['Ethinicity']==n)][df[(df['year']==i) & (df['Gender']==m) & (df['Ethinicity']==n)]['age_group']==\">75\"]['value']/2)),inplace = True)\n",
    "                df2 = df[df[(df['year']==i) & (df['Gender']==m) & (df['Ethinicity']==n) & (df['age_group']==\"80-84\")].index.astype(int)[0]:df[(df['year']==i) & (df['Gender']==m) & (df['Ethinicity']==n) & (df['age_group']==\"80-84\")].index.astype(int)[0]+1]\n",
    "                df2.fillna(value= np.round(float(df[(df['year']==i) & (df['Gender']==m) & (df['Ethinicity']==n)][df[(df['year']==i) & (df['Gender']==m) & (df['Ethinicity']==n)]['age_group']==\">75\"]['value']/4)),inplace=True)\n",
    "                df2 = df[df[(df['year']==i) & (df['Gender']==m) & (df['Ethinicity']==n) & (df['age_group']==\">85\")].index.astype(int)[0]:df[(df['year']==i) & (df['Gender']==m) & (df['Ethinicity']==n) & (df['age_group']==\">85\")].index.astype(int)[0]+1]\n",
    "                df2.fillna(value= np.round(float(df[(df['year']==i) & (df['Gender']==m) & (df['Ethinicity']==n)][df[(df['year']==i) & (df['Gender']==m) & (df['Ethinicity']==n)]['age_group']==\">75\"]['value']/4)),inplace=True)\n",
    "                df[(df['year']==i) & (df['Gender']==m) & (df['Ethinicity']==n)] = df[(df['year']==i) & (df['Gender']==m) & (df['Ethinicity']==n)][~df[(df['year']==i) & (df['Gender']==m) & (df['Ethinicity']==n)]['age_group'].isin([\">75\"])]\n",
    "                \n",
    "            elif (i==1970):\n",
    "                df[(df['year']==i) & (df['Gender']==m) & (df['Ethinicity']==n)] = df[(df['year']==i) & (df['Gender']==m) & (df['Ethinicity']==n)][~df[(df['year']==i) & (df['Gender']==m) & (df['Ethinicity']==n)]['age_group'].isin([\">65\",\">70\",\">75\"])]\n",
    "                df2 = df[df[(df['year']==i) & (df['Gender']==m) & (df['Ethinicity']==n) & (df['age_group']==\"80-84\")].index.astype(int)[0]:df[(df['year']==i) & (df['Gender']==m) & (df['Ethinicity']==n) & (df['age_group']==\"80-84\")].index.astype(int)[0]+1]\n",
    "                df2.fillna(value= np.round(float(df[(df['year']==i) & (df['Gender']==m) & (df['Ethinicity']==n)][df[(df['year']==i) & (df['Gender']==m) & (df['Ethinicity']==n)]['age_group']==\">80\"]['value']*2/3)),inplace=True)\n",
    "                df2 = df[df[(df['year']==i) & (df['Gender']==m) & (df['Ethinicity']==n) & (df['age_group']==\">85\")].index.astype(int)[0]:df[(df['year']==i) & (df['Gender']==m) & (df['Ethinicity']==n) & (df['age_group']==\">85\")].index.astype(int)[0]+1]\n",
    "                df2.fillna(value= np.round(float(df[(df['year']==i) & (df['Gender']==m) & (df['Ethinicity']==n)][df[(df['year']==i) & (df['Gender']==m) & (df['Ethinicity']==n)]['age_group']==\">80\"]['value']/3)),inplace=True)\n",
    "                df[(df['year']==i) & (df['Gender']==m) & (df['Ethinicity']==n)] = df[(df['year']==i) & (df['Gender']==m) & (df['Ethinicity']==n)][~df[(df['year']==i) & (df['Gender']==m) & (df['Ethinicity']==n)]['age_group'].isin([\">80\"])]\n",
    "     "
   ]
  },
  {
   "cell_type": "code",
   "execution_count": 12,
   "metadata": {},
   "outputs": [],
   "source": [
    "#Dropping rows with all null values and any rows with >65or>70or>75>80\n",
    "df = df[~df['age_group'].isin(['>65',\">70\",\">75\",\">80\"])]\n",
    "df.dropna(thresh=4,inplace=True)"
   ]
  },
  {
   "cell_type": "code",
   "execution_count": 13,
   "metadata": {},
   "outputs": [],
   "source": [
    "#resetting index and drop the previous index\n",
    "df.reset_index(drop = True,inplace=True)"
   ]
  },
  {
   "cell_type": "code",
   "execution_count": 14,
   "metadata": {},
   "outputs": [
    {
     "data": {
      "text/html": [
       "<div>\n",
       "<style scoped>\n",
       "    .dataframe tbody tr th:only-of-type {\n",
       "        vertical-align: middle;\n",
       "    }\n",
       "\n",
       "    .dataframe tbody tr th {\n",
       "        vertical-align: top;\n",
       "    }\n",
       "\n",
       "    .dataframe thead th {\n",
       "        text-align: right;\n",
       "    }\n",
       "</style>\n",
       "<table border=\"1\" class=\"dataframe\">\n",
       "  <thead>\n",
       "    <tr style=\"text-align: right;\">\n",
       "      <th></th>\n",
       "      <th>year</th>\n",
       "      <th>value</th>\n",
       "      <th>Gender</th>\n",
       "      <th>Ethinicity</th>\n",
       "      <th>age_group</th>\n",
       "    </tr>\n",
       "  </thead>\n",
       "  <tbody>\n",
       "    <tr>\n",
       "      <th>0</th>\n",
       "      <td>1957.0</td>\n",
       "      <td>264727.0</td>\n",
       "      <td>Mixed</td>\n",
       "      <td>Mixed</td>\n",
       "      <td>0-4</td>\n",
       "    </tr>\n",
       "    <tr>\n",
       "      <th>1</th>\n",
       "      <td>1957.0</td>\n",
       "      <td>218097.0</td>\n",
       "      <td>Mixed</td>\n",
       "      <td>Mixed</td>\n",
       "      <td>5-9</td>\n",
       "    </tr>\n",
       "    <tr>\n",
       "      <th>2</th>\n",
       "      <td>1957.0</td>\n",
       "      <td>136280.0</td>\n",
       "      <td>Mixed</td>\n",
       "      <td>Mixed</td>\n",
       "      <td>10-14</td>\n",
       "    </tr>\n",
       "    <tr>\n",
       "      <th>3</th>\n",
       "      <td>1957.0</td>\n",
       "      <td>135679.0</td>\n",
       "      <td>Mixed</td>\n",
       "      <td>Mixed</td>\n",
       "      <td>15-19</td>\n",
       "    </tr>\n",
       "    <tr>\n",
       "      <th>4</th>\n",
       "      <td>1957.0</td>\n",
       "      <td>119266.0</td>\n",
       "      <td>Mixed</td>\n",
       "      <td>Mixed</td>\n",
       "      <td>20-24</td>\n",
       "    </tr>\n",
       "    <tr>\n",
       "      <th>...</th>\n",
       "      <td>...</td>\n",
       "      <td>...</td>\n",
       "      <td>...</td>\n",
       "      <td>...</td>\n",
       "      <td>...</td>\n",
       "    </tr>\n",
       "    <tr>\n",
       "      <th>16735</th>\n",
       "      <td>2018.0</td>\n",
       "      <td>1299.0</td>\n",
       "      <td>Female</td>\n",
       "      <td>Other Ethinic</td>\n",
       "      <td>65-69</td>\n",
       "    </tr>\n",
       "    <tr>\n",
       "      <th>16736</th>\n",
       "      <td>2018.0</td>\n",
       "      <td>725.0</td>\n",
       "      <td>Female</td>\n",
       "      <td>Other Ethinic</td>\n",
       "      <td>70-74</td>\n",
       "    </tr>\n",
       "    <tr>\n",
       "      <th>16737</th>\n",
       "      <td>2018.0</td>\n",
       "      <td>520.0</td>\n",
       "      <td>Female</td>\n",
       "      <td>Other Ethinic</td>\n",
       "      <td>75-79</td>\n",
       "    </tr>\n",
       "    <tr>\n",
       "      <th>16738</th>\n",
       "      <td>2018.0</td>\n",
       "      <td>405.0</td>\n",
       "      <td>Female</td>\n",
       "      <td>Other Ethinic</td>\n",
       "      <td>80-84</td>\n",
       "    </tr>\n",
       "    <tr>\n",
       "      <th>16739</th>\n",
       "      <td>2018.0</td>\n",
       "      <td>437.0</td>\n",
       "      <td>Female</td>\n",
       "      <td>Other Ethinic</td>\n",
       "      <td>&gt;85</td>\n",
       "    </tr>\n",
       "  </tbody>\n",
       "</table>\n",
       "<p>16740 rows × 5 columns</p>\n",
       "</div>"
      ],
      "text/plain": [
       "         year     value  Gender     Ethinicity age_group\n",
       "0      1957.0  264727.0   Mixed          Mixed       0-4\n",
       "1      1957.0  218097.0   Mixed          Mixed       5-9\n",
       "2      1957.0  136280.0   Mixed          Mixed     10-14\n",
       "3      1957.0  135679.0   Mixed          Mixed     15-19\n",
       "4      1957.0  119266.0   Mixed          Mixed     20-24\n",
       "...       ...       ...     ...            ...       ...\n",
       "16735  2018.0    1299.0  Female  Other Ethinic     65-69\n",
       "16736  2018.0     725.0  Female  Other Ethinic     70-74\n",
       "16737  2018.0     520.0  Female  Other Ethinic     75-79\n",
       "16738  2018.0     405.0  Female  Other Ethinic     80-84\n",
       "16739  2018.0     437.0  Female  Other Ethinic       >85\n",
       "\n",
       "[16740 rows x 5 columns]"
      ]
     },
     "execution_count": 14,
     "metadata": {},
     "output_type": "execute_result"
    }
   ],
   "source": [
    "df"
   ]
  },
  {
   "cell_type": "code",
   "execution_count": 15,
   "metadata": {},
   "outputs": [
    {
     "data": {
      "text/plain": [
       "array(['0-4', '5-9', '10-14', '15-19', '20-24', '25-29', '30-34', '35-39',\n",
       "       '40-44', '45-49', '50-54', '55-59', '60-64', '65-69', '70-74',\n",
       "       '75-79', '80-84', '>85'], dtype=object)"
      ]
     },
     "execution_count": 15,
     "metadata": {},
     "output_type": "execute_result"
    }
   ],
   "source": [
    "#list of age_groups\n",
    "age_list = df['age_group'].unique()\n",
    "age_list"
   ]
  },
  {
   "cell_type": "code",
   "execution_count": 16,
   "metadata": {},
   "outputs": [
    {
     "data": {
      "text/plain": [
       "Ethinicity\n",
       "Chinese          2969281.0\n",
       "Indians           360528.0\n",
       "Malays            535824.0\n",
       "Mixed            3994283.0\n",
       "Other Ethinic     128650.0\n",
       "Name: value, dtype: float64"
      ]
     },
     "execution_count": 16,
     "metadata": {},
     "output_type": "execute_result"
    }
   ],
   "source": [
    "#As of 2018, Chinese is the largest ethnic group in singapore\n",
    "df3 = df[(df['year']==2018)&(df['Gender']==\"Mixed\")].groupby('Ethinicity')['value'].sum()\n",
    "df3 = pd.Series(df3)\n",
    "df3"
   ]
  },
  {
   "cell_type": "code",
   "execution_count": 17,
   "metadata": {},
   "outputs": [],
   "source": [
    "#converting df3 to dataframe\n",
    "df3 = df3.to_frame()"
   ]
  },
  {
   "cell_type": "code",
   "execution_count": 18,
   "metadata": {},
   "outputs": [
    {
     "data": {
      "text/plain": [
       "Text(0.5, 0, 'Ethinic Group')"
      ]
     },
     "execution_count": 18,
     "metadata": {},
     "output_type": "execute_result"
    },
    {
     "data": {
      "image/png": "[encoded data removed]",
      "text/plain": [
       "<Figure size 2880x720 with 1 Axes>"
      ]
     },
     "metadata": {
      "needs_background": "light"
     },
     "output_type": "display_data"
    }
   ],
   "source": [
    "#Plotting the values for visualisation\n",
    "plt.figure(figsize=(40,10))\n",
    "bar_level1 = sns.barplot(x=df3.index,y='value',data=df3)\n",
    "bar_level1.set_ylabel(\"Total members\",fontsize=20)\n",
    "bar_level1.set_xlabel(\"Ethinic Group\",fontsize=20)"
   ]
  },
  {
   "cell_type": "code",
   "execution_count": 19,
   "metadata": {},
   "outputs": [],
   "source": [
    "#new dataframe with ethnicty and average growth\n",
    "df_growth = pd.DataFrame(columns=['Ethinicity','Average_growth'])"
   ]
  },
  {
   "cell_type": "code",
   "execution_count": 20,
   "metadata": {},
   "outputs": [],
   "source": [
    "#determining average population growth for each ethnicity \n",
    "for n in ethnicity_list:\n",
    "    x = df[(df['Gender']==\"Mixed\")&(df['Ethinicity']==n)].groupby('year').sum().diff().dropna().mean()[0]\n",
    "    df_growth = df_growth.append({'Ethinicity':n,'Average_growth':x},ignore_index=True)"
   ]
  },
  {
   "cell_type": "code",
   "execution_count": 21,
   "metadata": {},
   "outputs": [
    {
     "data": {
      "text/html": [
       "<div>\n",
       "<style scoped>\n",
       "    .dataframe tbody tr th:only-of-type {\n",
       "        vertical-align: middle;\n",
       "    }\n",
       "\n",
       "    .dataframe tbody tr th {\n",
       "        vertical-align: top;\n",
       "    }\n",
       "\n",
       "    .dataframe thead th {\n",
       "        text-align: right;\n",
       "    }\n",
       "</style>\n",
       "<table border=\"1\" class=\"dataframe\">\n",
       "  <thead>\n",
       "    <tr style=\"text-align: right;\">\n",
       "      <th></th>\n",
       "      <th>Ethinicity</th>\n",
       "      <th>Average_growth</th>\n",
       "    </tr>\n",
       "  </thead>\n",
       "  <tbody>\n",
       "    <tr>\n",
       "      <th>0</th>\n",
       "      <td>Mixed</td>\n",
       "      <td>41776.295082</td>\n",
       "    </tr>\n",
       "    <tr>\n",
       "      <th>1</th>\n",
       "      <td>Malays</td>\n",
       "      <td>5553.524590</td>\n",
       "    </tr>\n",
       "    <tr>\n",
       "      <th>2</th>\n",
       "      <td>Chinese</td>\n",
       "      <td>30798.114754</td>\n",
       "    </tr>\n",
       "    <tr>\n",
       "      <th>3</th>\n",
       "      <td>Indians</td>\n",
       "      <td>3876.131148</td>\n",
       "    </tr>\n",
       "    <tr>\n",
       "      <th>4</th>\n",
       "      <td>Other Ethinic</td>\n",
       "      <td>1548.524590</td>\n",
       "    </tr>\n",
       "  </tbody>\n",
       "</table>\n",
       "</div>"
      ],
      "text/plain": [
       "      Ethinicity  Average_growth\n",
       "0          Mixed    41776.295082\n",
       "1         Malays     5553.524590\n",
       "2        Chinese    30798.114754\n",
       "3        Indians     3876.131148\n",
       "4  Other Ethinic     1548.524590"
      ]
     },
     "execution_count": 21,
     "metadata": {},
     "output_type": "execute_result"
    }
   ],
   "source": [
    "#chinese have a average growth of 41776 per year over the past 62 years \n",
    "#while other ethinicities have comparatively lower growth rate \n",
    "df_growth"
   ]
  },
  {
   "cell_type": "code",
   "execution_count": 22,
   "metadata": {},
   "outputs": [
    {
     "data": {
      "text/plain": [
       "Text(0.5, 0, 'Ethinic Group')"
      ]
     },
     "execution_count": 22,
     "metadata": {},
     "output_type": "execute_result"
    },
    {
     "data": {
      "image/png": "[encoded data removed]",
      "text/plain": [
       "<Figure size 2880x720 with 1 Axes>"
      ]
     },
     "metadata": {
      "needs_background": "light"
     },
     "output_type": "display_data"
    }
   ],
   "source": [
    "#Plotting the values for visualisation\n",
    "plt.figure(figsize=(40,10))\n",
    "bar_level1 = sns.barplot(x='Ethinicity',y='Average_growth',data=df_growth)\n",
    "bar_level1.set_ylabel(\"Average_growth\",fontsize=20)\n",
    "bar_level1.set_xlabel(\"Ethinic Group\",fontsize=20)"
   ]
  },
  {
   "cell_type": "code",
   "execution_count": 23,
   "metadata": {},
   "outputs": [],
   "source": [
    "#new dataframe with year, ethinicity and perentage of peopulation in that year\n",
    "df_percent_of_population = pd.DataFrame(columns=['year','Ethinicity','Percent'])"
   ]
  },
  {
   "cell_type": "code",
   "execution_count": 24,
   "metadata": {},
   "outputs": [],
   "source": [
    "#determing percentage of population for each ethnicity for each year\n",
    "for i in year_list:\n",
    "    for n in ethnicity_list[1:]:\n",
    "        p = (df[(df['year']==i)&(df['Ethinicity']==n)&(df['Gender']==\"Mixed\")]['value'].sum())*100/(df[(df['year']==i)&(df['Ethinicity']==\"Mixed\")&(df['Gender']==\"Mixed\")]['value'].sum())\n",
    "        df_percent_of_population = df_percent_of_population.append({'year':i,'Ethinicity':n,'Percent':p},ignore_index=True)\n",
    "    \n"
   ]
  },
  {
   "cell_type": "code",
   "execution_count": 25,
   "metadata": {},
   "outputs": [
    {
     "data": {
      "text/html": [
       "<div>\n",
       "<style scoped>\n",
       "    .dataframe tbody tr th:only-of-type {\n",
       "        vertical-align: middle;\n",
       "    }\n",
       "\n",
       "    .dataframe tbody tr th {\n",
       "        vertical-align: top;\n",
       "    }\n",
       "\n",
       "    .dataframe thead th {\n",
       "        text-align: right;\n",
       "    }\n",
       "</style>\n",
       "<table border=\"1\" class=\"dataframe\">\n",
       "  <thead>\n",
       "    <tr style=\"text-align: right;\">\n",
       "      <th></th>\n",
       "      <th>year</th>\n",
       "      <th>Ethinicity</th>\n",
       "      <th>Percent</th>\n",
       "    </tr>\n",
       "  </thead>\n",
       "  <tbody>\n",
       "    <tr>\n",
       "      <th>1</th>\n",
       "      <td>1957</td>\n",
       "      <td>Chinese</td>\n",
       "      <td>75.425280</td>\n",
       "    </tr>\n",
       "    <tr>\n",
       "      <th>5</th>\n",
       "      <td>1958</td>\n",
       "      <td>Chinese</td>\n",
       "      <td>75.684685</td>\n",
       "    </tr>\n",
       "    <tr>\n",
       "      <th>9</th>\n",
       "      <td>1959</td>\n",
       "      <td>Chinese</td>\n",
       "      <td>75.913511</td>\n",
       "    </tr>\n",
       "    <tr>\n",
       "      <th>13</th>\n",
       "      <td>1960</td>\n",
       "      <td>Chinese</td>\n",
       "      <td>76.020362</td>\n",
       "    </tr>\n",
       "    <tr>\n",
       "      <th>17</th>\n",
       "      <td>1961</td>\n",
       "      <td>Chinese</td>\n",
       "      <td>76.069079</td>\n",
       "    </tr>\n",
       "    <tr>\n",
       "      <th>...</th>\n",
       "      <td>...</td>\n",
       "      <td>...</td>\n",
       "      <td>...</td>\n",
       "    </tr>\n",
       "    <tr>\n",
       "      <th>229</th>\n",
       "      <td>2014</td>\n",
       "      <td>Chinese</td>\n",
       "      <td>74.259205</td>\n",
       "    </tr>\n",
       "    <tr>\n",
       "      <th>233</th>\n",
       "      <td>2015</td>\n",
       "      <td>Chinese</td>\n",
       "      <td>74.307900</td>\n",
       "    </tr>\n",
       "    <tr>\n",
       "      <th>237</th>\n",
       "      <td>2016</td>\n",
       "      <td>Chinese</td>\n",
       "      <td>74.313669</td>\n",
       "    </tr>\n",
       "    <tr>\n",
       "      <th>241</th>\n",
       "      <td>2017</td>\n",
       "      <td>Chinese</td>\n",
       "      <td>74.341998</td>\n",
       "    </tr>\n",
       "    <tr>\n",
       "      <th>245</th>\n",
       "      <td>2018</td>\n",
       "      <td>Chinese</td>\n",
       "      <td>74.338273</td>\n",
       "    </tr>\n",
       "  </tbody>\n",
       "</table>\n",
       "<p>62 rows × 3 columns</p>\n",
       "</div>"
      ],
      "text/plain": [
       "     year Ethinicity    Percent\n",
       "1    1957    Chinese  75.425280\n",
       "5    1958    Chinese  75.684685\n",
       "9    1959    Chinese  75.913511\n",
       "13   1960    Chinese  76.020362\n",
       "17   1961    Chinese  76.069079\n",
       "..    ...        ...        ...\n",
       "229  2014    Chinese  74.259205\n",
       "233  2015    Chinese  74.307900\n",
       "237  2016    Chinese  74.313669\n",
       "241  2017    Chinese  74.341998\n",
       "245  2018    Chinese  74.338273\n",
       "\n",
       "[62 rows x 3 columns]"
      ]
     },
     "execution_count": 25,
     "metadata": {},
     "output_type": "execute_result"
    }
   ],
   "source": [
    "#As of 2018 Chinese constitute 74.33% of total population.\n",
    "#While having an average percentage of 76.37 over the past 62 years\n",
    "df_percent_of_population[df_percent_of_population['Ethinicity']==\"Chinese\"]"
   ]
  },
  {
   "cell_type": "code",
   "execution_count": 26,
   "metadata": {},
   "outputs": [
    {
     "data": {
      "text/plain": [
       "76.37423118894455"
      ]
     },
     "execution_count": 26,
     "metadata": {},
     "output_type": "execute_result"
    }
   ],
   "source": [
    "df_percent_of_population[df_percent_of_population['Ethinicity']==\"Chinese\"]['Percent'].mean()"
   ]
  },
  {
   "cell_type": "code",
   "execution_count": 27,
   "metadata": {},
   "outputs": [],
   "source": [
    "#dropping mixed in ethinicity for simplicity of analysis\n",
    "df_age = df.drop(df[df['Ethinicity'] == 'Mixed'].index)"
   ]
  },
  {
   "cell_type": "code",
   "execution_count": 28,
   "metadata": {},
   "outputs": [
    {
     "data": {
      "text/html": [
       "<div>\n",
       "<style scoped>\n",
       "    .dataframe tbody tr th:only-of-type {\n",
       "        vertical-align: middle;\n",
       "    }\n",
       "\n",
       "    .dataframe tbody tr th {\n",
       "        vertical-align: top;\n",
       "    }\n",
       "\n",
       "    .dataframe thead th {\n",
       "        text-align: right;\n",
       "    }\n",
       "</style>\n",
       "<table border=\"1\" class=\"dataframe\">\n",
       "  <thead>\n",
       "    <tr style=\"text-align: right;\">\n",
       "      <th></th>\n",
       "      <th>year</th>\n",
       "      <th>value</th>\n",
       "      <th>Gender</th>\n",
       "      <th>Ethinicity</th>\n",
       "      <th>age_group</th>\n",
       "    </tr>\n",
       "  </thead>\n",
       "  <tbody>\n",
       "    <tr>\n",
       "      <th>54</th>\n",
       "      <td>1957.0</td>\n",
       "      <td>43161.0</td>\n",
       "      <td>Mixed</td>\n",
       "      <td>Malays</td>\n",
       "      <td>0-4</td>\n",
       "    </tr>\n",
       "    <tr>\n",
       "      <th>55</th>\n",
       "      <td>1957.0</td>\n",
       "      <td>29135.0</td>\n",
       "      <td>Mixed</td>\n",
       "      <td>Malays</td>\n",
       "      <td>5-9</td>\n",
       "    </tr>\n",
       "    <tr>\n",
       "      <th>56</th>\n",
       "      <td>1957.0</td>\n",
       "      <td>16614.0</td>\n",
       "      <td>Mixed</td>\n",
       "      <td>Malays</td>\n",
       "      <td>10-14</td>\n",
       "    </tr>\n",
       "    <tr>\n",
       "      <th>57</th>\n",
       "      <td>1957.0</td>\n",
       "      <td>17575.0</td>\n",
       "      <td>Mixed</td>\n",
       "      <td>Malays</td>\n",
       "      <td>15-19</td>\n",
       "    </tr>\n",
       "    <tr>\n",
       "      <th>58</th>\n",
       "      <td>1957.0</td>\n",
       "      <td>20473.0</td>\n",
       "      <td>Mixed</td>\n",
       "      <td>Malays</td>\n",
       "      <td>20-24</td>\n",
       "    </tr>\n",
       "    <tr>\n",
       "      <th>...</th>\n",
       "      <td>...</td>\n",
       "      <td>...</td>\n",
       "      <td>...</td>\n",
       "      <td>...</td>\n",
       "      <td>...</td>\n",
       "    </tr>\n",
       "    <tr>\n",
       "      <th>16735</th>\n",
       "      <td>2018.0</td>\n",
       "      <td>1299.0</td>\n",
       "      <td>Female</td>\n",
       "      <td>Other Ethinic</td>\n",
       "      <td>65-69</td>\n",
       "    </tr>\n",
       "    <tr>\n",
       "      <th>16736</th>\n",
       "      <td>2018.0</td>\n",
       "      <td>725.0</td>\n",
       "      <td>Female</td>\n",
       "      <td>Other Ethinic</td>\n",
       "      <td>70-74</td>\n",
       "    </tr>\n",
       "    <tr>\n",
       "      <th>16737</th>\n",
       "      <td>2018.0</td>\n",
       "      <td>520.0</td>\n",
       "      <td>Female</td>\n",
       "      <td>Other Ethinic</td>\n",
       "      <td>75-79</td>\n",
       "    </tr>\n",
       "    <tr>\n",
       "      <th>16738</th>\n",
       "      <td>2018.0</td>\n",
       "      <td>405.0</td>\n",
       "      <td>Female</td>\n",
       "      <td>Other Ethinic</td>\n",
       "      <td>80-84</td>\n",
       "    </tr>\n",
       "    <tr>\n",
       "      <th>16739</th>\n",
       "      <td>2018.0</td>\n",
       "      <td>437.0</td>\n",
       "      <td>Female</td>\n",
       "      <td>Other Ethinic</td>\n",
       "      <td>&gt;85</td>\n",
       "    </tr>\n",
       "  </tbody>\n",
       "</table>\n",
       "<p>13392 rows × 5 columns</p>\n",
       "</div>"
      ],
      "text/plain": [
       "         year    value  Gender     Ethinicity age_group\n",
       "54     1957.0  43161.0   Mixed         Malays       0-4\n",
       "55     1957.0  29135.0   Mixed         Malays       5-9\n",
       "56     1957.0  16614.0   Mixed         Malays     10-14\n",
       "57     1957.0  17575.0   Mixed         Malays     15-19\n",
       "58     1957.0  20473.0   Mixed         Malays     20-24\n",
       "...       ...      ...     ...            ...       ...\n",
       "16735  2018.0   1299.0  Female  Other Ethinic     65-69\n",
       "16736  2018.0    725.0  Female  Other Ethinic     70-74\n",
       "16737  2018.0    520.0  Female  Other Ethinic     75-79\n",
       "16738  2018.0    405.0  Female  Other Ethinic     80-84\n",
       "16739  2018.0    437.0  Female  Other Ethinic       >85\n",
       "\n",
       "[13392 rows x 5 columns]"
      ]
     },
     "execution_count": 28,
     "metadata": {},
     "output_type": "execute_result"
    }
   ],
   "source": [
    "df_age"
   ]
  },
  {
   "cell_type": "code",
   "execution_count": 29,
   "metadata": {},
   "outputs": [
    {
     "data": {
      "text/html": [
       "<div>\n",
       "<style scoped>\n",
       "    .dataframe tbody tr th:only-of-type {\n",
       "        vertical-align: middle;\n",
       "    }\n",
       "\n",
       "    .dataframe tbody tr th {\n",
       "        vertical-align: top;\n",
       "    }\n",
       "\n",
       "    .dataframe thead th {\n",
       "        text-align: right;\n",
       "    }\n",
       "</style>\n",
       "<table border=\"1\" class=\"dataframe\">\n",
       "  <thead>\n",
       "    <tr style=\"text-align: right;\">\n",
       "      <th></th>\n",
       "      <th>value</th>\n",
       "    </tr>\n",
       "    <tr>\n",
       "      <th>age_group</th>\n",
       "      <th></th>\n",
       "    </tr>\n",
       "  </thead>\n",
       "  <tbody>\n",
       "    <tr>\n",
       "      <th>&gt;85</th>\n",
       "      <td>49777.0</td>\n",
       "    </tr>\n",
       "    <tr>\n",
       "      <th>80-84</th>\n",
       "      <td>57103.0</td>\n",
       "    </tr>\n",
       "    <tr>\n",
       "      <th>75-79</th>\n",
       "      <td>93327.0</td>\n",
       "    </tr>\n",
       "    <tr>\n",
       "      <th>70-74</th>\n",
       "      <td>135546.0</td>\n",
       "    </tr>\n",
       "    <tr>\n",
       "      <th>0-4</th>\n",
       "      <td>185528.0</td>\n",
       "    </tr>\n",
       "    <tr>\n",
       "      <th>5-9</th>\n",
       "      <td>199066.0</td>\n",
       "    </tr>\n",
       "    <tr>\n",
       "      <th>10-14</th>\n",
       "      <td>206530.0</td>\n",
       "    </tr>\n",
       "    <tr>\n",
       "      <th>65-69</th>\n",
       "      <td>212101.0</td>\n",
       "    </tr>\n",
       "    <tr>\n",
       "      <th>15-19</th>\n",
       "      <td>226520.0</td>\n",
       "    </tr>\n",
       "    <tr>\n",
       "      <th>20-24</th>\n",
       "      <td>255516.0</td>\n",
       "    </tr>\n",
       "    <tr>\n",
       "      <th>60-64</th>\n",
       "      <td>271688.0</td>\n",
       "    </tr>\n",
       "    <tr>\n",
       "      <th>30-34</th>\n",
       "      <td>281397.0</td>\n",
       "    </tr>\n",
       "    <tr>\n",
       "      <th>25-29</th>\n",
       "      <td>291631.0</td>\n",
       "    </tr>\n",
       "    <tr>\n",
       "      <th>40-44</th>\n",
       "      <td>303640.0</td>\n",
       "    </tr>\n",
       "    <tr>\n",
       "      <th>35-39</th>\n",
       "      <td>303720.0</td>\n",
       "    </tr>\n",
       "    <tr>\n",
       "      <th>55-59</th>\n",
       "      <td>304390.0</td>\n",
       "    </tr>\n",
       "    <tr>\n",
       "      <th>45-49</th>\n",
       "      <td>307838.0</td>\n",
       "    </tr>\n",
       "    <tr>\n",
       "      <th>50-54</th>\n",
       "      <td>308965.0</td>\n",
       "    </tr>\n",
       "  </tbody>\n",
       "</table>\n",
       "</div>"
      ],
      "text/plain": [
       "              value\n",
       "age_group          \n",
       ">85         49777.0\n",
       "80-84       57103.0\n",
       "75-79       93327.0\n",
       "70-74      135546.0\n",
       "0-4        185528.0\n",
       "5-9        199066.0\n",
       "10-14      206530.0\n",
       "65-69      212101.0\n",
       "15-19      226520.0\n",
       "20-24      255516.0\n",
       "60-64      271688.0\n",
       "30-34      281397.0\n",
       "25-29      291631.0\n",
       "40-44      303640.0\n",
       "35-39      303720.0\n",
       "55-59      304390.0\n",
       "45-49      307838.0\n",
       "50-54      308965.0"
      ]
     },
     "execution_count": 29,
     "metadata": {},
     "output_type": "execute_result"
    }
   ],
   "source": [
    "#As of 2018, 50-54 is the most prominent age group in singapore\n",
    "df_age_2018 = df_age[(df_age['year']==2018)&(df_age['Gender']==\"Mixed\")].groupby('age_group')['value'].sum()\n",
    "df_age_2018 = pd.Series(df_age_2018)\n",
    "df_age_2018 = df_age_2018.to_frame()\n",
    "df_age_2018.sort_values(by='value')"
   ]
  },
  {
   "cell_type": "code",
   "execution_count": 30,
   "metadata": {},
   "outputs": [],
   "source": [
    "#dataframe for avg population growth for each age group\n",
    "df_avg_ag_growth = pd.DataFrame(columns=['age_group','Average_growth'])"
   ]
  },
  {
   "cell_type": "code",
   "execution_count": 31,
   "metadata": {},
   "outputs": [],
   "source": [
    "#determining avg population growth for each age group\n",
    "for a in age_list:\n",
    "    x = df_age[(df_age['Gender']==\"Mixed\")&(df_age['age_group']==a)].groupby('year').sum().diff().dropna().mean()[0]\n",
    "    df_avg_ag_growth = df_avg_ag_growth.append({'age_group':a,'Average_growth':x},ignore_index=True)"
   ]
  },
  {
   "cell_type": "code",
   "execution_count": 32,
   "metadata": {},
   "outputs": [
    {
     "data": {
      "text/html": [
       "<div>\n",
       "<style scoped>\n",
       "    .dataframe tbody tr th:only-of-type {\n",
       "        vertical-align: middle;\n",
       "    }\n",
       "\n",
       "    .dataframe tbody tr th {\n",
       "        vertical-align: top;\n",
       "    }\n",
       "\n",
       "    .dataframe thead th {\n",
       "        text-align: right;\n",
       "    }\n",
       "</style>\n",
       "<table border=\"1\" class=\"dataframe\">\n",
       "  <thead>\n",
       "    <tr style=\"text-align: right;\">\n",
       "      <th></th>\n",
       "      <th>age_group</th>\n",
       "      <th>Average_growth</th>\n",
       "    </tr>\n",
       "  </thead>\n",
       "  <tbody>\n",
       "    <tr>\n",
       "      <th>0</th>\n",
       "      <td>0-4</td>\n",
       "      <td>-1298.344262</td>\n",
       "    </tr>\n",
       "    <tr>\n",
       "      <th>1</th>\n",
       "      <td>5-9</td>\n",
       "      <td>-311.983607</td>\n",
       "    </tr>\n",
       "    <tr>\n",
       "      <th>2</th>\n",
       "      <td>10-14</td>\n",
       "      <td>1151.639344</td>\n",
       "    </tr>\n",
       "    <tr>\n",
       "      <th>3</th>\n",
       "      <td>15-19</td>\n",
       "      <td>1489.196721</td>\n",
       "    </tr>\n",
       "    <tr>\n",
       "      <th>4</th>\n",
       "      <td>20-24</td>\n",
       "      <td>2233.606557</td>\n",
       "    </tr>\n",
       "    <tr>\n",
       "      <th>5</th>\n",
       "      <td>25-29</td>\n",
       "      <td>2949.262295</td>\n",
       "    </tr>\n",
       "    <tr>\n",
       "      <th>6</th>\n",
       "      <td>30-34</td>\n",
       "      <td>3138.885246</td>\n",
       "    </tr>\n",
       "    <tr>\n",
       "      <th>7</th>\n",
       "      <td>35-39</td>\n",
       "      <td>3623.131148</td>\n",
       "    </tr>\n",
       "    <tr>\n",
       "      <th>8</th>\n",
       "      <td>40-44</td>\n",
       "      <td>3728.245902</td>\n",
       "    </tr>\n",
       "    <tr>\n",
       "      <th>9</th>\n",
       "      <td>45-49</td>\n",
       "      <td>3952.819672</td>\n",
       "    </tr>\n",
       "    <tr>\n",
       "      <th>10</th>\n",
       "      <td>50-54</td>\n",
       "      <td>4215.918033</td>\n",
       "    </tr>\n",
       "    <tr>\n",
       "      <th>11</th>\n",
       "      <td>55-59</td>\n",
       "      <td>4375.967213</td>\n",
       "    </tr>\n",
       "    <tr>\n",
       "      <th>12</th>\n",
       "      <td>60-64</td>\n",
       "      <td>4055.934426</td>\n",
       "    </tr>\n",
       "    <tr>\n",
       "      <th>13</th>\n",
       "      <td>65-69</td>\n",
       "      <td>3224.622951</td>\n",
       "    </tr>\n",
       "    <tr>\n",
       "      <th>14</th>\n",
       "      <td>70-74</td>\n",
       "      <td>2078.229508</td>\n",
       "    </tr>\n",
       "    <tr>\n",
       "      <th>15</th>\n",
       "      <td>75-79</td>\n",
       "      <td>1460.688525</td>\n",
       "    </tr>\n",
       "    <tr>\n",
       "      <th>16</th>\n",
       "      <td>80-84</td>\n",
       "      <td>906.836066</td>\n",
       "    </tr>\n",
       "    <tr>\n",
       "      <th>17</th>\n",
       "      <td>&gt;85</td>\n",
       "      <td>801.639344</td>\n",
       "    </tr>\n",
       "  </tbody>\n",
       "</table>\n",
       "</div>"
      ],
      "text/plain": [
       "   age_group  Average_growth\n",
       "0        0-4    -1298.344262\n",
       "1        5-9     -311.983607\n",
       "2      10-14     1151.639344\n",
       "3      15-19     1489.196721\n",
       "4      20-24     2233.606557\n",
       "5      25-29     2949.262295\n",
       "6      30-34     3138.885246\n",
       "7      35-39     3623.131148\n",
       "8      40-44     3728.245902\n",
       "9      45-49     3952.819672\n",
       "10     50-54     4215.918033\n",
       "11     55-59     4375.967213\n",
       "12     60-64     4055.934426\n",
       "13     65-69     3224.622951\n",
       "14     70-74     2078.229508\n",
       "15     75-79     1460.688525\n",
       "16     80-84      906.836066\n",
       "17       >85      801.639344"
      ]
     },
     "execution_count": 32,
     "metadata": {},
     "output_type": "execute_result"
    }
   ],
   "source": [
    "#average growth of all age group over the past 62 years. For 50-54 the average growth is 4215.\n",
    "df_avg_ag_growth"
   ]
  },
  {
   "cell_type": "code",
   "execution_count": 33,
   "metadata": {},
   "outputs": [
    {
     "data": {
      "text/plain": [
       "Text(0.5, 0, 'Age_Group')"
      ]
     },
     "execution_count": 33,
     "metadata": {},
     "output_type": "execute_result"
    },
    {
     "data": {
      "image/png": "[encoded data removed]",
      "text/plain": [
       "<Figure size 2880x720 with 1 Axes>"
      ]
     },
     "metadata": {
      "needs_background": "light"
     },
     "output_type": "display_data"
    }
   ],
   "source": [
    "#avearge growth of 55-59 is the highest. \n",
    "#Where as negative growth rate in children(0-5) which suggest dip in birth rate\n",
    "plt.figure(figsize=(40,10))\n",
    "bar_level1 = sns.barplot(x='age_group',y='Average_growth',data=df_avg_ag_growth)\n",
    "bar_level1.set_ylabel(\"Average_growth\",fontsize=20)\n",
    "bar_level1.set_xlabel(\"Age_Group\",fontsize=20)"
   ]
  },
  {
   "cell_type": "code",
   "execution_count": 34,
   "metadata": {},
   "outputs": [],
   "source": [
    "#new dataframe with year, age_group and perentage of peopulation in that year\n",
    "df_percent_of_population_by_ag = pd.DataFrame(columns=['year','age_group','Percent'])"
   ]
  },
  {
   "cell_type": "code",
   "execution_count": 35,
   "metadata": {},
   "outputs": [],
   "source": [
    "#determing % of population by age group for each year\n",
    "for i in year_list:\n",
    "    for a in age_list:\n",
    "        p = (df_age[(df_age['year']==i)&(df_age['age_group']==a)&(df_age['Gender']==\"Mixed\")]['value'].sum())*100/(df_age[(df_age['year']==i)&(df_age['Gender']==\"Mixed\")]['value'].sum())\n",
    "        df_percent_of_population_by_ag = df_percent_of_population_by_ag.append({'year':i,'age_group':a,'Percent':p},ignore_index=True)\n",
    "        \n"
   ]
  },
  {
   "cell_type": "code",
   "execution_count": 36,
   "metadata": {},
   "outputs": [
    {
     "data": {
      "text/html": [
       "<div>\n",
       "<style scoped>\n",
       "    .dataframe tbody tr th:only-of-type {\n",
       "        vertical-align: middle;\n",
       "    }\n",
       "\n",
       "    .dataframe tbody tr th {\n",
       "        vertical-align: top;\n",
       "    }\n",
       "\n",
       "    .dataframe thead th {\n",
       "        text-align: right;\n",
       "    }\n",
       "</style>\n",
       "<table border=\"1\" class=\"dataframe\">\n",
       "  <thead>\n",
       "    <tr style=\"text-align: right;\">\n",
       "      <th></th>\n",
       "      <th>year</th>\n",
       "      <th>age_group</th>\n",
       "      <th>Percent</th>\n",
       "    </tr>\n",
       "  </thead>\n",
       "  <tbody>\n",
       "    <tr>\n",
       "      <th>1108</th>\n",
       "      <td>2018</td>\n",
       "      <td>50-54</td>\n",
       "      <td>7.735181</td>\n",
       "    </tr>\n",
       "  </tbody>\n",
       "</table>\n",
       "</div>"
      ],
      "text/plain": [
       "      year age_group   Percent\n",
       "1108  2018     50-54  7.735181"
      ]
     },
     "execution_count": 36,
     "metadata": {},
     "output_type": "execute_result"
    }
   ],
   "source": [
    "#As of 2018, 50-54 constitute 7.73% of total population \n",
    "df_percent_of_population_by_ag[(df_percent_of_population_by_ag['age_group']=='50-54')&(df_percent_of_population_by_ag['year']==2018)]\n"
   ]
  },
  {
   "cell_type": "code",
   "execution_count": 37,
   "metadata": {},
   "outputs": [
    {
     "data": {
      "text/html": [
       "<div>\n",
       "<style scoped>\n",
       "    .dataframe tbody tr th:only-of-type {\n",
       "        vertical-align: middle;\n",
       "    }\n",
       "\n",
       "    .dataframe tbody tr th {\n",
       "        vertical-align: top;\n",
       "    }\n",
       "\n",
       "    .dataframe thead th {\n",
       "        text-align: right;\n",
       "    }\n",
       "</style>\n",
       "<table border=\"1\" class=\"dataframe\">\n",
       "  <thead>\n",
       "    <tr style=\"text-align: right;\">\n",
       "      <th></th>\n",
       "      <th>year</th>\n",
       "      <th>age_group</th>\n",
       "      <th>Percent</th>\n",
       "    </tr>\n",
       "  </thead>\n",
       "  <tbody>\n",
       "    <tr>\n",
       "      <th>0</th>\n",
       "      <td>1957</td>\n",
       "      <td>0-4</td>\n",
       "      <td>18.308437</td>\n",
       "    </tr>\n",
       "    <tr>\n",
       "      <th>1</th>\n",
       "      <td>1957</td>\n",
       "      <td>5-9</td>\n",
       "      <td>15.083521</td>\n",
       "    </tr>\n",
       "    <tr>\n",
       "      <th>2</th>\n",
       "      <td>1957</td>\n",
       "      <td>10-14</td>\n",
       "      <td>9.425082</td>\n",
       "    </tr>\n",
       "    <tr>\n",
       "      <th>3</th>\n",
       "      <td>1957</td>\n",
       "      <td>15-19</td>\n",
       "      <td>9.383517</td>\n",
       "    </tr>\n",
       "    <tr>\n",
       "      <th>4</th>\n",
       "      <td>1957</td>\n",
       "      <td>20-24</td>\n",
       "      <td>8.248399</td>\n",
       "    </tr>\n",
       "    <tr>\n",
       "      <th>...</th>\n",
       "      <td>...</td>\n",
       "      <td>...</td>\n",
       "      <td>...</td>\n",
       "    </tr>\n",
       "    <tr>\n",
       "      <th>1111</th>\n",
       "      <td>2018</td>\n",
       "      <td>65-69</td>\n",
       "      <td>5.310114</td>\n",
       "    </tr>\n",
       "    <tr>\n",
       "      <th>1112</th>\n",
       "      <td>2018</td>\n",
       "      <td>70-74</td>\n",
       "      <td>3.393500</td>\n",
       "    </tr>\n",
       "    <tr>\n",
       "      <th>1113</th>\n",
       "      <td>2018</td>\n",
       "      <td>75-79</td>\n",
       "      <td>2.336514</td>\n",
       "    </tr>\n",
       "    <tr>\n",
       "      <th>1114</th>\n",
       "      <td>2018</td>\n",
       "      <td>80-84</td>\n",
       "      <td>1.429618</td>\n",
       "    </tr>\n",
       "    <tr>\n",
       "      <th>1115</th>\n",
       "      <td>2018</td>\n",
       "      <td>&gt;85</td>\n",
       "      <td>1.246206</td>\n",
       "    </tr>\n",
       "  </tbody>\n",
       "</table>\n",
       "<p>1116 rows × 3 columns</p>\n",
       "</div>"
      ],
      "text/plain": [
       "      year age_group    Percent\n",
       "0     1957       0-4  18.308437\n",
       "1     1957       5-9  15.083521\n",
       "2     1957     10-14   9.425082\n",
       "3     1957     15-19   9.383517\n",
       "4     1957     20-24   8.248399\n",
       "...    ...       ...        ...\n",
       "1111  2018     65-69   5.310114\n",
       "1112  2018     70-74   3.393500\n",
       "1113  2018     75-79   2.336514\n",
       "1114  2018     80-84   1.429618\n",
       "1115  2018       >85   1.246206\n",
       "\n",
       "[1116 rows x 3 columns]"
      ]
     },
     "execution_count": 37,
     "metadata": {},
     "output_type": "execute_result"
    }
   ],
   "source": [
    "df_percent_of_population_by_ag"
   ]
  },
  {
   "cell_type": "code",
   "execution_count": 38,
   "metadata": {},
   "outputs": [],
   "source": [
    "#new dataframe with age_group and growth rate\n",
    "df_age_growth_rate = pd.DataFrame(columns=['age_group','growth rate'])"
   ]
  },
  {
   "cell_type": "code",
   "execution_count": 39,
   "metadata": {},
   "outputs": [],
   "source": [
    "#determining growth rate of age group in 62 years\n",
    "for a in age_list:\n",
    "    gr = (int(df[(df['year']==2018)&(df['Gender']==\"Mixed\")&(df['Ethinicity']==\"Mixed\")&(df['age_group']==a)]['value'])-int(df[(df['year']==1957)&(df['Gender']==\"Mixed\")&(df['Ethinicity']==\"Mixed\")&(df['age_group']==a)]['value']))*100/(int(df[(df['year']==1957)&(df['Gender']==\"Mixed\")&(df['Ethinicity']==\"Mixed\")&(df['age_group']==a)]['value']))\n",
    "    df_age_growth_rate = df_age_growth_rate.append({'age_group':a,'growth rate':gr},ignore_index=True)\n",
    "    "
   ]
  },
  {
   "cell_type": "code",
   "execution_count": 40,
   "metadata": {},
   "outputs": [
    {
     "data": {
      "text/html": [
       "<div>\n",
       "<style scoped>\n",
       "    .dataframe tbody tr th:only-of-type {\n",
       "        vertical-align: middle;\n",
       "    }\n",
       "\n",
       "    .dataframe tbody tr th {\n",
       "        vertical-align: top;\n",
       "    }\n",
       "\n",
       "    .dataframe thead th {\n",
       "        text-align: right;\n",
       "    }\n",
       "</style>\n",
       "<table border=\"1\" class=\"dataframe\">\n",
       "  <thead>\n",
       "    <tr style=\"text-align: right;\">\n",
       "      <th></th>\n",
       "      <th>age_group</th>\n",
       "      <th>growth rate</th>\n",
       "    </tr>\n",
       "  </thead>\n",
       "  <tbody>\n",
       "    <tr>\n",
       "      <th>0</th>\n",
       "      <td>0-4</td>\n",
       "      <td>-29.917235</td>\n",
       "    </tr>\n",
       "    <tr>\n",
       "      <th>1</th>\n",
       "      <td>5-9</td>\n",
       "      <td>-8.725934</td>\n",
       "    </tr>\n",
       "    <tr>\n",
       "      <th>2</th>\n",
       "      <td>10-14</td>\n",
       "      <td>51.548283</td>\n",
       "    </tr>\n",
       "    <tr>\n",
       "      <th>3</th>\n",
       "      <td>15-19</td>\n",
       "      <td>66.952881</td>\n",
       "    </tr>\n",
       "    <tr>\n",
       "      <th>4</th>\n",
       "      <td>20-24</td>\n",
       "      <td>114.240437</td>\n",
       "    </tr>\n",
       "    <tr>\n",
       "      <th>5</th>\n",
       "      <td>25-29</td>\n",
       "      <td>161.023397</td>\n",
       "    </tr>\n",
       "    <tr>\n",
       "      <th>6</th>\n",
       "      <td>30-34</td>\n",
       "      <td>212.924103</td>\n",
       "    </tr>\n",
       "    <tr>\n",
       "      <th>7</th>\n",
       "      <td>35-39</td>\n",
       "      <td>267.215176</td>\n",
       "    </tr>\n",
       "    <tr>\n",
       "      <th>8</th>\n",
       "      <td>40-44</td>\n",
       "      <td>298.388811</td>\n",
       "    </tr>\n",
       "    <tr>\n",
       "      <th>9</th>\n",
       "      <td>45-49</td>\n",
       "      <td>361.415552</td>\n",
       "    </tr>\n",
       "    <tr>\n",
       "      <th>10</th>\n",
       "      <td>50-54</td>\n",
       "      <td>496.526625</td>\n",
       "    </tr>\n",
       "    <tr>\n",
       "      <th>11</th>\n",
       "      <td>55-59</td>\n",
       "      <td>712.660188</td>\n",
       "    </tr>\n",
       "    <tr>\n",
       "      <th>12</th>\n",
       "      <td>60-64</td>\n",
       "      <td>1019.162959</td>\n",
       "    </tr>\n",
       "    <tr>\n",
       "      <th>13</th>\n",
       "      <td>65-69</td>\n",
       "      <td>1277.368660</td>\n",
       "    </tr>\n",
       "    <tr>\n",
       "      <th>14</th>\n",
       "      <td>70-74</td>\n",
       "      <td>1444.859813</td>\n",
       "    </tr>\n",
       "    <tr>\n",
       "      <th>15</th>\n",
       "      <td>75-79</td>\n",
       "      <td>2108.923077</td>\n",
       "    </tr>\n",
       "    <tr>\n",
       "      <th>16</th>\n",
       "      <td>80-84</td>\n",
       "      <td>3097.256439</td>\n",
       "    </tr>\n",
       "    <tr>\n",
       "      <th>17</th>\n",
       "      <td>&gt;85</td>\n",
       "      <td>5575.826682</td>\n",
       "    </tr>\n",
       "  </tbody>\n",
       "</table>\n",
       "</div>"
      ],
      "text/plain": [
       "   age_group  growth rate\n",
       "0        0-4   -29.917235\n",
       "1        5-9    -8.725934\n",
       "2      10-14    51.548283\n",
       "3      15-19    66.952881\n",
       "4      20-24   114.240437\n",
       "5      25-29   161.023397\n",
       "6      30-34   212.924103\n",
       "7      35-39   267.215176\n",
       "8      40-44   298.388811\n",
       "9      45-49   361.415552\n",
       "10     50-54   496.526625\n",
       "11     55-59   712.660188\n",
       "12     60-64  1019.162959\n",
       "13     65-69  1277.368660\n",
       "14     70-74  1444.859813\n",
       "15     75-79  2108.923077\n",
       "16     80-84  3097.256439\n",
       "17       >85  5575.826682"
      ]
     },
     "execution_count": 40,
     "metadata": {},
     "output_type": "execute_result"
    }
   ],
   "source": [
    "#As expected it is older ages with highest growth rate from 1957 to 2020 \n",
    "#While 0-4 is showing negative growth rate\n",
    "#It is 20-24 that remained almost same over the past 62 years\n",
    "df_age_growth_rate.sort_values(by='growth rate')"
   ]
  },
  {
   "cell_type": "code",
   "execution_count": 41,
   "metadata": {},
   "outputs": [],
   "source": [
    "#new dataframe with ethnicity and growth rate\n",
    "df_ethnicity_growth_rate = pd.DataFrame(columns=['Ethinicity','growth rate'])"
   ]
  },
  {
   "cell_type": "code",
   "execution_count": 42,
   "metadata": {},
   "outputs": [],
   "source": [
    "#determining growth rate of ethnicity in 62 years\n",
    "for n in ethnicity_list[1:]:\n",
    "    gr = (((int(df[(df['year']==2018)&(df['Ethinicity']==n)&(df['Gender']==\"Mixed\")]['value'].sum())-int(df[(df['year']==1957)&(df['Ethinicity']==n)&(df['Gender']==\"Mixed\")]['value'].sum()))*100/int(df[(df['year']==1957)&(df['Ethinicity']==n)&(df['Gender']==\"Mixed\")]['value'].sum())))\n",
    "    df_ethnicity_growth_rate = df_ethnicity_growth_rate.append({'Ethinicity':n,'growth rate':gr},ignore_index=True)\n",
    "    "
   ]
  },
  {
   "cell_type": "code",
   "execution_count": 43,
   "metadata": {},
   "outputs": [
    {
     "data": {
      "text/html": [
       "<div>\n",
       "<style scoped>\n",
       "    .dataframe tbody tr th:only-of-type {\n",
       "        vertical-align: middle;\n",
       "    }\n",
       "\n",
       "    .dataframe tbody tr th {\n",
       "        vertical-align: top;\n",
       "    }\n",
       "\n",
       "    .dataframe thead th {\n",
       "        text-align: right;\n",
       "    }\n",
       "</style>\n",
       "<table border=\"1\" class=\"dataframe\">\n",
       "  <thead>\n",
       "    <tr style=\"text-align: right;\">\n",
       "      <th></th>\n",
       "      <th>Ethinicity</th>\n",
       "      <th>growth rate</th>\n",
       "    </tr>\n",
       "  </thead>\n",
       "  <tbody>\n",
       "    <tr>\n",
       "      <th>0</th>\n",
       "      <td>Malays</td>\n",
       "      <td>171.910443</td>\n",
       "    </tr>\n",
       "    <tr>\n",
       "      <th>1</th>\n",
       "      <td>Chinese</td>\n",
       "      <td>172.262231</td>\n",
       "    </tr>\n",
       "    <tr>\n",
       "      <th>2</th>\n",
       "      <td>Indians</td>\n",
       "      <td>190.551562</td>\n",
       "    </tr>\n",
       "    <tr>\n",
       "      <th>3</th>\n",
       "      <td>Other Ethinic</td>\n",
       "      <td>276.279614</td>\n",
       "    </tr>\n",
       "  </tbody>\n",
       "</table>\n",
       "</div>"
      ],
      "text/plain": [
       "      Ethinicity  growth rate\n",
       "0         Malays   171.910443\n",
       "1        Chinese   172.262231\n",
       "2        Indians   190.551562\n",
       "3  Other Ethinic   276.279614"
      ]
     },
     "execution_count": 43,
     "metadata": {},
     "output_type": "execute_result"
    }
   ],
   "source": [
    "#Other Ethinics has higest growth rate. This can be seen as increase in diversity\n",
    "#While Malays growth is the least of all \n",
    "#All Ethnicities have grown. None of them have remained same over the past 62 years\n",
    "df_ethnicity_growth_rate"
   ]
  },
  {
   "cell_type": "code",
   "execution_count": 44,
   "metadata": {},
   "outputs": [],
   "source": [
    "#new dataframe with gender and growth rate\n",
    "df_gender_growth_rate = pd.DataFrame(columns=['Gender','growth rate'])"
   ]
  },
  {
   "cell_type": "code",
   "execution_count": 45,
   "metadata": {},
   "outputs": [],
   "source": [
    "#determining growth rate of gender in 62 years\n",
    "for m in gender_list[1:]:\n",
    "    gr= (int(df[(df['year']==2018)&(df['Ethinicity']=='Mixed')&(df['Gender']==m)]['value'].sum())-int(df[(df['year']==1957)&(df['Ethinicity']=='Mixed')&(df['Gender']==m)]['value'].sum()))*100/int(df[(df['year']==1957)&(df['Ethinicity']=='Mixed')&(df['Gender']==m)]['value'].sum())\n",
    "    df_gender_growth_rate = df_gender_growth_rate.append({'Gender':m,'growth rate':gr},ignore_index=True)\n",
    "    \n",
    "    "
   ]
  },
  {
   "cell_type": "code",
   "execution_count": 46,
   "metadata": {},
   "outputs": [
    {
     "data": {
      "text/html": [
       "<div>\n",
       "<style scoped>\n",
       "    .dataframe tbody tr th:only-of-type {\n",
       "        vertical-align: middle;\n",
       "    }\n",
       "\n",
       "    .dataframe tbody tr th {\n",
       "        vertical-align: top;\n",
       "    }\n",
       "\n",
       "    .dataframe thead th {\n",
       "        text-align: right;\n",
       "    }\n",
       "</style>\n",
       "<table border=\"1\" class=\"dataframe\">\n",
       "  <thead>\n",
       "    <tr style=\"text-align: right;\">\n",
       "      <th></th>\n",
       "      <th>Gender</th>\n",
       "      <th>growth rate</th>\n",
       "    </tr>\n",
       "  </thead>\n",
       "  <tbody>\n",
       "    <tr>\n",
       "      <th>0</th>\n",
       "      <td>Male</td>\n",
       "      <td>156.415911</td>\n",
       "    </tr>\n",
       "    <tr>\n",
       "      <th>1</th>\n",
       "      <td>Female</td>\n",
       "      <td>198.380781</td>\n",
       "    </tr>\n",
       "  </tbody>\n",
       "</table>\n",
       "</div>"
      ],
      "text/plain": [
       "   Gender  growth rate\n",
       "0    Male   156.415911\n",
       "1  Female   198.380781"
      ]
     },
     "execution_count": 46,
     "metadata": {},
     "output_type": "execute_result"
    }
   ],
   "source": [
    "#Females have the highest growth rate\n",
    "#Males have the least growth rate\n",
    "df_gender_growth_rate"
   ]
  },
  {
   "cell_type": "code",
   "execution_count": 47,
   "metadata": {},
   "outputs": [],
   "source": [
    "#new datframe with year, ethnicity and population\n",
    "df_year = pd.DataFrame(columns=['year','Ethinicity','Population'])"
   ]
  },
  {
   "cell_type": "code",
   "execution_count": 48,
   "metadata": {},
   "outputs": [],
   "source": [
    "#determining population by ethinicity in each year\n",
    "for i in year_list:\n",
    "    for n in ethnicity_list:\n",
    "        pop = df[(df['year']==i)&(df['Gender']=='Mixed')&(df['Ethinicity']==n)]['value'].sum()\n",
    "        df_year = df_year.append({'year':i,'Ethinicity':n,'Population':pop},ignore_index=True)"
   ]
  },
  {
   "cell_type": "code",
   "execution_count": 49,
   "metadata": {},
   "outputs": [
    {
     "data": {
      "text/html": [
       "<div>\n",
       "<style scoped>\n",
       "    .dataframe tbody tr th:only-of-type {\n",
       "        vertical-align: middle;\n",
       "    }\n",
       "\n",
       "    .dataframe tbody tr th {\n",
       "        vertical-align: top;\n",
       "    }\n",
       "\n",
       "    .dataframe thead th {\n",
       "        text-align: right;\n",
       "    }\n",
       "</style>\n",
       "<table border=\"1\" class=\"dataframe\">\n",
       "  <thead>\n",
       "    <tr style=\"text-align: right;\">\n",
       "      <th></th>\n",
       "      <th>year</th>\n",
       "      <th>Ethinicity</th>\n",
       "      <th>Population</th>\n",
       "    </tr>\n",
       "  </thead>\n",
       "  <tbody>\n",
       "    <tr>\n",
       "      <th>0</th>\n",
       "      <td>1957</td>\n",
       "      <td>Mixed</td>\n",
       "      <td>1445929.0</td>\n",
       "    </tr>\n",
       "    <tr>\n",
       "      <th>1</th>\n",
       "      <td>1957</td>\n",
       "      <td>Malays</td>\n",
       "      <td>197059.0</td>\n",
       "    </tr>\n",
       "    <tr>\n",
       "      <th>2</th>\n",
       "      <td>1957</td>\n",
       "      <td>Chinese</td>\n",
       "      <td>1090596.0</td>\n",
       "    </tr>\n",
       "    <tr>\n",
       "      <th>3</th>\n",
       "      <td>1957</td>\n",
       "      <td>Indians</td>\n",
       "      <td>124084.0</td>\n",
       "    </tr>\n",
       "    <tr>\n",
       "      <th>4</th>\n",
       "      <td>1957</td>\n",
       "      <td>Other Ethinic</td>\n",
       "      <td>34190.0</td>\n",
       "    </tr>\n",
       "    <tr>\n",
       "      <th>...</th>\n",
       "      <td>...</td>\n",
       "      <td>...</td>\n",
       "      <td>...</td>\n",
       "    </tr>\n",
       "    <tr>\n",
       "      <th>305</th>\n",
       "      <td>2018</td>\n",
       "      <td>Mixed</td>\n",
       "      <td>3994283.0</td>\n",
       "    </tr>\n",
       "    <tr>\n",
       "      <th>306</th>\n",
       "      <td>2018</td>\n",
       "      <td>Malays</td>\n",
       "      <td>535824.0</td>\n",
       "    </tr>\n",
       "    <tr>\n",
       "      <th>307</th>\n",
       "      <td>2018</td>\n",
       "      <td>Chinese</td>\n",
       "      <td>2969281.0</td>\n",
       "    </tr>\n",
       "    <tr>\n",
       "      <th>308</th>\n",
       "      <td>2018</td>\n",
       "      <td>Indians</td>\n",
       "      <td>360528.0</td>\n",
       "    </tr>\n",
       "    <tr>\n",
       "      <th>309</th>\n",
       "      <td>2018</td>\n",
       "      <td>Other Ethinic</td>\n",
       "      <td>128650.0</td>\n",
       "    </tr>\n",
       "  </tbody>\n",
       "</table>\n",
       "<p>310 rows × 3 columns</p>\n",
       "</div>"
      ],
      "text/plain": [
       "     year     Ethinicity  Population\n",
       "0    1957          Mixed   1445929.0\n",
       "1    1957         Malays    197059.0\n",
       "2    1957        Chinese   1090596.0\n",
       "3    1957        Indians    124084.0\n",
       "4    1957  Other Ethinic     34190.0\n",
       "..    ...            ...         ...\n",
       "305  2018          Mixed   3994283.0\n",
       "306  2018         Malays    535824.0\n",
       "307  2018        Chinese   2969281.0\n",
       "308  2018        Indians    360528.0\n",
       "309  2018  Other Ethinic    128650.0\n",
       "\n",
       "[310 rows x 3 columns]"
      ]
     },
     "execution_count": 49,
     "metadata": {},
     "output_type": "execute_result"
    }
   ],
   "source": [
    "df_year"
   ]
  },
  {
   "cell_type": "code",
   "execution_count": 50,
   "metadata": {},
   "outputs": [],
   "source": [
    "fig = px.line(df_year, x=\"year\", y=\"Population\", color='Ethinicity')"
   ]
  },
  {
   "cell_type": "code",
   "execution_count": 51,
   "metadata": {},
   "outputs": [
    {
     "data": {
      "application/vnd.plotly.v1+json": {
       "config": {
        "plotlyServerURL": "https://plot.ly"
       },
       "data": [
        {
         "hoverlabel": {
          "namelength": 0
         },
         "hovertemplate": "Ethinicity=Mixed<br>year=%{x}<br>Population=%{y}",
         "legendgroup": "Mixed",
         "line": {
          "color": "#636efa",
          "dash": "solid"
         },
         "mode": "lines",
         "name": "Mixed",
         "showlegend": true,
         "type": "scatter",
         "x": [
          1957,
          1958,
          1959,
          1960,
          1961,
          1962,
          1963,
          1964,
          1965,
          1966,
          1967,
          1968,
          1969,
          1970,
          1971,
          1972,
          1973,
          1974,
          1975,
          1976,
          1977,
          1978,
          1979,
          1980,
          1981,
          1982,
          1983,
          1984,
          1985,
          1986,
          1987,
          1988,
          1989,
          1990,
          1991,
          1992,
          1993,
          1994,
          1995,
          1996,
          1997,
          1998,
          1999,
          2000,
          2001,
          2002,
          2003,
          2004,
          2005,
          2006,
          2007,
          2008,
          2009,
          2010,
          2011,
          2012,
          2013,
          2014,
          2015,
          2016,
          2017,
          2018
         ],
         "xaxis": "x",
         "y": [
          1445929,
          1518800,
          1587201,
          1646401,
          1702400,
          1750201,
          1795000,
          1841600,
          1886901,
          1934400,
          1977601,
          2012000,
          2042501,
          2015615,
          2112899,
          2152400,
          2192999,
          2229800,
          2262599,
          2293301,
          2325300,
          2353600,
          2383499,
          2282125,
          2325649,
          2366908,
          2406916,
          2443779,
          2481612,
          2516048,
          2549814,
          2593081,
          2641246,
          2735868,
          2794704,
          2849753,
          2904546,
          2959351,
          3013518,
          3068130,
          3123403,
          3180019,
          3229681,
          3273363,
          3325902,
          3382944,
          3366891,
          3413266,
          3467814,
          3525894,
          3583082,
          3642659,
          3733876,
          3771721,
          3789251,
          3818205,
          3844751,
          3870739,
          3902690,
          3933559,
          3965796,
          3994283
         ],
         "yaxis": "y"
        },
        {
         "hoverlabel": {
          "namelength": 0
         },
         "hovertemplate": "Ethinicity=Malays<br>year=%{x}<br>Population=%{y}",
         "legendgroup": "Malays",
         "line": {
          "color": "#EF553B",
          "dash": "solid"
         },
         "mode": "lines",
         "name": "Malays",
         "showlegend": true,
         "type": "scatter",
         "x": [
          1957,
          1958,
          1959,
          1960,
          1961,
          1962,
          1963,
          1964,
          1965,
          1966,
          1967,
          1968,
          1969,
          1970,
          1971,
          1972,
          1973,
          1974,
          1975,
          1976,
          1977,
          1978,
          1979,
          1980,
          1981,
          1982,
          1983,
          1984,
          1985,
          1986,
          1987,
          1988,
          1989,
          1990,
          1991,
          1992,
          1993,
          1994,
          1995,
          1996,
          1997,
          1998,
          1999,
          2000,
          2001,
          2002,
          2003,
          2004,
          2005,
          2006,
          2007,
          2008,
          2009,
          2010,
          2011,
          2012,
          2013,
          2014,
          2015,
          2016,
          2017,
          2018
         ],
         "xaxis": "x",
         "y": [
          197059,
          209000,
          220700,
          232200,
          242500,
          250301,
          257200,
          267000,
          276999,
          287699,
          295800,
          300499,
          305999,
          298094,
          316300,
          321200,
          326099,
          330199,
          334100,
          337399,
          340699,
          344099,
          347599,
          328718,
          333586,
          338275,
          343096,
          347745,
          352806,
          358016,
          363073,
          369002,
          375576,
          384338,
          392397,
          400290,
          408086,
          415989,
          423261,
          430075,
          436659,
          443350,
          449480,
          455207,
          461788,
          468360,
          469791,
          475689,
          480722,
          485978,
          490552,
          495110,
          500051,
          503868,
          506637,
          509519,
          512837,
          516657,
          520923,
          525888,
          530710,
          535824
         ],
         "yaxis": "y"
        },
        {
         "hoverlabel": {
          "namelength": 0
         },
         "hovertemplate": "Ethinicity=Chinese<br>year=%{x}<br>Population=%{y}",
         "legendgroup": "Chinese",
         "line": {
          "color": "#00cc96",
          "dash": "solid"
         },
         "mode": "lines",
         "name": "Chinese",
         "showlegend": true,
         "type": "scatter",
         "x": [
          1957,
          1958,
          1959,
          1960,
          1961,
          1962,
          1963,
          1964,
          1965,
          1966,
          1967,
          1968,
          1969,
          1970,
          1971,
          1972,
          1973,
          1974,
          1975,
          1976,
          1977,
          1978,
          1979,
          1980,
          1981,
          1982,
          1983,
          1984,
          1985,
          1986,
          1987,
          1988,
          1989,
          1990,
          1991,
          1992,
          1993,
          1994,
          1995,
          1996,
          1997,
          1998,
          1999,
          2000,
          2001,
          2002,
          2003,
          2004,
          2005,
          2006,
          2007,
          2008,
          2009,
          2010,
          2011,
          2012,
          2013,
          2014,
          2015,
          2016,
          2017,
          2018
         ],
         "xaxis": "x",
         "y": [
          1090596,
          1149499,
          1204900,
          1251600,
          1295000,
          1333001,
          1369301,
          1405501,
          1439500,
          1473801,
          1504399,
          1531399,
          1555000,
          1553303,
          1611099,
          1643399,
          1676799,
          1707100,
          1733700,
          1758801,
          1785299,
          1808200,
          1832400,
          1787816,
          1820737,
          1851784,
          1881424,
          1908281,
          1935614,
          1959906,
          1983733,
          2015954,
          2052332,
          2127872,
          2172301,
          2213002,
          2253588,
          2293202,
          2332883,
          2371806,
          2410109,
          2448688,
          2482641,
          2513847,
          2552077,
          2589525,
          2572607,
          2599813,
          2626723,
          2656358,
          2686997,
          2721779,
          2770303,
          2793980,
          2808254,
          2831984,
          2853751,
          2874380,
          2900007,
          2923172,
          2948252,
          2969281
         ],
         "yaxis": "y"
        },
        {
         "hoverlabel": {
          "namelength": 0
         },
         "hovertemplate": "Ethinicity=Indians<br>year=%{x}<br>Population=%{y}",
         "legendgroup": "Indians",
         "line": {
          "color": "#ab63fa",
          "dash": "solid"
         },
         "mode": "lines",
         "name": "Indians",
         "showlegend": true,
         "type": "scatter",
         "x": [
          1957,
          1958,
          1959,
          1960,
          1961,
          1962,
          1963,
          1964,
          1965,
          1966,
          1967,
          1968,
          1969,
          1970,
          1971,
          1972,
          1973,
          1974,
          1975,
          1976,
          1977,
          1978,
          1979,
          1980,
          1981,
          1982,
          1983,
          1984,
          1985,
          1986,
          1987,
          1988,
          1989,
          1990,
          1991,
          1992,
          1993,
          1994,
          1995,
          1996,
          1997,
          1998,
          1999,
          2000,
          2001,
          2002,
          2003,
          2004,
          2005,
          2006,
          2007,
          2008,
          2009,
          2010,
          2011,
          2012,
          2013,
          2014,
          2015,
          2016,
          2017,
          2018
         ],
         "xaxis": "x",
         "y": [
          124084,
          131299,
          131799,
          133200,
          135699,
          137100,
          137401,
          138401,
          140500,
          141200,
          142900,
          144601,
          145101,
          141017,
          146300,
          147299,
          148401,
          149400,
          150201,
          151100,
          151900,
          152700,
          153499,
          143404,
          148565,
          153445,
          158294,
          162976,
          167673,
          172009,
          176402,
          180989,
          185627,
          194048,
          198781,
          203649,
          208550,
          214278,
          220272,
          227745,
          236431,
          245774,
          253304,
          257866,
          262968,
          271923,
          269899,
          278106,
          291131,
          303096,
          313395,
          323431,
          343509,
          348119,
          349036,
          351025,
          351667,
          353021,
          354952,
          356876,
          358821,
          360528
         ],
         "yaxis": "y"
        },
        {
         "hoverlabel": {
          "namelength": 0
         },
         "hovertemplate": "Ethinicity=Other Ethinic<br>year=%{x}<br>Population=%{y}",
         "legendgroup": "Other Ethinic",
         "line": {
          "color": "#FFA15A",
          "dash": "solid"
         },
         "mode": "lines",
         "name": "Other Ethinic",
         "showlegend": true,
         "type": "scatter",
         "x": [
          1957,
          1958,
          1959,
          1960,
          1961,
          1962,
          1963,
          1964,
          1965,
          1966,
          1967,
          1968,
          1969,
          1970,
          1971,
          1972,
          1973,
          1974,
          1975,
          1976,
          1977,
          1978,
          1979,
          1980,
          1981,
          1982,
          1983,
          1984,
          1985,
          1986,
          1987,
          1988,
          1989,
          1990,
          1991,
          1992,
          1993,
          1994,
          1995,
          1996,
          1997,
          1998,
          1999,
          2000,
          2001,
          2002,
          2003,
          2004,
          2005,
          2006,
          2007,
          2008,
          2009,
          2010,
          2011,
          2012,
          2013,
          2014,
          2015,
          2016,
          2017,
          2018
         ],
         "xaxis": "x",
         "y": [
          34190,
          29000,
          29800,
          29401,
          29201,
          29801,
          31100,
          30700,
          29900,
          31700,
          34500,
          35501,
          36401,
          23199,
          39200,
          40500,
          41700,
          43099,
          44600,
          45999,
          47400,
          48599,
          49999,
          22187,
          22761,
          23403,
          24112,
          24778,
          25530,
          26121,
          26609,
          27137,
          27717,
          29610,
          31231,
          32815,
          34330,
          35884,
          37117,
          38505,
          40207,
          42208,
          44258,
          46443,
          49069,
          53136,
          54594,
          59658,
          69238,
          80462,
          92138,
          102339,
          120013,
          125754,
          125324,
          125677,
          126496,
          126681,
          126808,
          127623,
          128013,
          128650
         ],
         "yaxis": "y"
        }
       ],
       "layout": {
        "legend": {
         "title": {
          "text": "Ethinicity"
         },
         "tracegroupgap": 0
        },
        "margin": {
         "t": 60
        },
        "template": {
         "data": {
          "bar": [
           {
            "error_x": {
             "color": "#2a3f5f"
            },
            "error_y": {
             "color": "#2a3f5f"
            },
            "marker": {
             "line": {
              "color": "#E5ECF6",
              "width": 0.5
             }
            },
            "type": "bar"
           }
          ],
          "barpolar": [
           {
            "marker": {
             "line": {
              "color": "#E5ECF6",
              "width": 0.5
             }
            },
            "type": "barpolar"
           }
          ],
          "carpet": [
           {
            "aaxis": {
             "endlinecolor": "#2a3f5f",
             "gridcolor": "white",
             "linecolor": "white",
             "minorgridcolor": "white",
             "startlinecolor": "#2a3f5f"
            },
            "baxis": {
             "endlinecolor": "#2a3f5f",
             "gridcolor": "white",
             "linecolor": "white",
             "minorgridcolor": "white",
             "startlinecolor": "#2a3f5f"
            },
            "type": "carpet"
           }
          ],
          "choropleth": [
           {
            "colorbar": {
             "outlinewidth": 0,
             "ticks": ""
            },
            "type": "choropleth"
           }
          ],
          "contour": [
           {
            "colorbar": {
             "outlinewidth": 0,
             "ticks": ""
            },
            "colorscale": [
             [
              0,
              "#0d0887"
             ],
             [
              0.1111111111111111,
              "#46039f"
             ],
             [
              0.2222222222222222,
              "#7201a8"
             ],
             [
              0.3333333333333333,
              "#9c179e"
             ],
             [
              0.4444444444444444,
              "#bd3786"
             ],
             [
              0.5555555555555556,
              "#d8576b"
             ],
             [
              0.6666666666666666,
              "#ed7953"
             ],
             [
              0.7777777777777778,
              "#fb9f3a"
             ],
             [
              0.8888888888888888,
              "#fdca26"
             ],
             [
              1,
              "#f0f921"
             ]
            ],
            "type": "contour"
           }
          ],
          "contourcarpet": [
           {
            "colorbar": {
             "outlinewidth": 0,
             "ticks": ""
            },
            "type": "contourcarpet"
           }
          ],
          "heatmap": [
           {
            "colorbar": {
             "outlinewidth": 0,
             "ticks": ""
            },
            "colorscale": [
             [
              0,
              "#0d0887"
             ],
             [
              0.1111111111111111,
              "#46039f"
             ],
             [
              0.2222222222222222,
              "#7201a8"
             ],
             [
              0.3333333333333333,
              "#9c179e"
             ],
             [
              0.4444444444444444,
              "#bd3786"
             ],
             [
              0.5555555555555556,
              "#d8576b"
             ],
             [
              0.6666666666666666,
              "#ed7953"
             ],
             [
              0.7777777777777778,
              "#fb9f3a"
             ],
             [
              0.8888888888888888,
              "#fdca26"
             ],
             [
              1,
              "#f0f921"
             ]
            ],
            "type": "heatmap"
           }
          ],
          "heatmapgl": [
           {
            "colorbar": {
             "outlinewidth": 0,
             "ticks": ""
            },
            "colorscale": [
             [
              0,
              "#0d0887"
             ],
             [
              0.1111111111111111,
              "#46039f"
             ],
             [
              0.2222222222222222,
              "#7201a8"
             ],
             [
              0.3333333333333333,
              "#9c179e"
             ],
             [
              0.4444444444444444,
              "#bd3786"
             ],
             [
              0.5555555555555556,
              "#d8576b"
             ],
             [
              0.6666666666666666,
              "#ed7953"
             ],
             [
              0.7777777777777778,
              "#fb9f3a"
             ],
             [
              0.8888888888888888,
              "#fdca26"
             ],
             [
              1,
              "#f0f921"
             ]
            ],
            "type": "heatmapgl"
           }
          ],
          "histogram": [
           {
            "marker": {
             "colorbar": {
              "outlinewidth": 0,
              "ticks": ""
             }
            },
            "type": "histogram"
           }
          ],
          "histogram2d": [
           {
            "colorbar": {
             "outlinewidth": 0,
             "ticks": ""
            },
            "colorscale": [
             [
              0,
              "#0d0887"
             ],
             [
              0.1111111111111111,
              "#46039f"
             ],
             [
              0.2222222222222222,
              "#7201a8"
             ],
             [
              0.3333333333333333,
              "#9c179e"
             ],
             [
              0.4444444444444444,
              "#bd3786"
             ],
             [
              0.5555555555555556,
              "#d8576b"
             ],
             [
              0.6666666666666666,
              "#ed7953"
             ],
             [
              0.7777777777777778,
              "#fb9f3a"
             ],
             [
              0.8888888888888888,
              "#fdca26"
             ],
             [
              1,
              "#f0f921"
             ]
            ],
            "type": "histogram2d"
           }
          ],
          "histogram2dcontour": [
           {
            "colorbar": {
             "outlinewidth": 0,
             "ticks": ""
            },
            "colorscale": [
             [
              0,
              "#0d0887"
             ],
             [
              0.1111111111111111,
              "#46039f"
             ],
             [
              0.2222222222222222,
              "#7201a8"
             ],
             [
              0.3333333333333333,
              "#9c179e"
             ],
             [
              0.4444444444444444,
              "#bd3786"
             ],
             [
              0.5555555555555556,
              "#d8576b"
             ],
             [
              0.6666666666666666,
              "#ed7953"
             ],
             [
              0.7777777777777778,
              "#fb9f3a"
             ],
             [
              0.8888888888888888,
              "#fdca26"
             ],
             [
              1,
              "#f0f921"
             ]
            ],
            "type": "histogram2dcontour"
           }
          ],
          "mesh3d": [
           {
            "colorbar": {
             "outlinewidth": 0,
             "ticks": ""
            },
            "type": "mesh3d"
           }
          ],
          "parcoords": [
           {
            "line": {
             "colorbar": {
              "outlinewidth": 0,
              "ticks": ""
             }
            },
            "type": "parcoords"
           }
          ],
          "pie": [
           {
            "automargin": true,
            "type": "pie"
           }
          ],
          "scatter": [
           {
            "marker": {
             "colorbar": {
              "outlinewidth": 0,
              "ticks": ""
             }
            },
            "type": "scatter"
           }
          ],
          "scatter3d": [
           {
            "line": {
             "colorbar": {
              "outlinewidth": 0,
              "ticks": ""
             }
            },
            "marker": {
             "colorbar": {
              "outlinewidth": 0,
              "ticks": ""
             }
            },
            "type": "scatter3d"
           }
          ],
          "scattercarpet": [
           {
            "marker": {
             "colorbar": {
              "outlinewidth": 0,
              "ticks": ""
             }
            },
            "type": "scattercarpet"
           }
          ],
          "scattergeo": [
           {
            "marker": {
             "colorbar": {
              "outlinewidth": 0,
              "ticks": ""
             }
            },
            "type": "scattergeo"
           }
          ],
          "scattergl": [
           {
            "marker": {
             "colorbar": {
              "outlinewidth": 0,
              "ticks": ""
             }
            },
            "type": "scattergl"
           }
          ],
          "scattermapbox": [
           {
            "marker": {
             "colorbar": {
              "outlinewidth": 0,
              "ticks": ""
             }
            },
            "type": "scattermapbox"
           }
          ],
          "scatterpolar": [
           {
            "marker": {
             "colorbar": {
              "outlinewidth": 0,
              "ticks": ""
             }
            },
            "type": "scatterpolar"
           }
          ],
          "scatterpolargl": [
           {
            "marker": {
             "colorbar": {
              "outlinewidth": 0,
              "ticks": ""
             }
            },
            "type": "scatterpolargl"
           }
          ],
          "scatterternary": [
           {
            "marker": {
             "colorbar": {
              "outlinewidth": 0,
              "ticks": ""
             }
            },
            "type": "scatterternary"
           }
          ],
          "surface": [
           {
            "colorbar": {
             "outlinewidth": 0,
             "ticks": ""
            },
            "colorscale": [
             [
              0,
              "#0d0887"
             ],
             [
              0.1111111111111111,
              "#46039f"
             ],
             [
              0.2222222222222222,
              "#7201a8"
             ],
             [
              0.3333333333333333,
              "#9c179e"
             ],
             [
              0.4444444444444444,
              "#bd3786"
             ],
             [
              0.5555555555555556,
              "#d8576b"
             ],
             [
              0.6666666666666666,
              "#ed7953"
             ],
             [
              0.7777777777777778,
              "#fb9f3a"
             ],
             [
              0.8888888888888888,
              "#fdca26"
             ],
             [
              1,
              "#f0f921"
             ]
            ],
            "type": "surface"
           }
          ],
          "table": [
           {
            "cells": {
             "fill": {
              "color": "#EBF0F8"
             },
             "line": {
              "color": "white"
             }
            },
            "header": {
             "fill": {
              "color": "#C8D4E3"
             },
             "line": {
              "color": "white"
             }
            },
            "type": "table"
           }
          ]
         },
         "layout": {
          "annotationdefaults": {
           "arrowcolor": "#2a3f5f",
           "arrowhead": 0,
           "arrowwidth": 1
          },
          "coloraxis": {
           "colorbar": {
            "outlinewidth": 0,
            "ticks": ""
           }
          },
          "colorscale": {
           "diverging": [
            [
             0,
             "#8e0152"
            ],
            [
             0.1,
             "#c51b7d"
            ],
            [
             0.2,
             "#de77ae"
            ],
            [
             0.3,
             "#f1b6da"
            ],
            [
             0.4,
             "#fde0ef"
            ],
            [
             0.5,
             "#f7f7f7"
            ],
            [
             0.6,
             "#e6f5d0"
            ],
            [
             0.7,
             "#b8e186"
            ],
            [
             0.8,
             "#7fbc41"
            ],
            [
             0.9,
             "#4d9221"
            ],
            [
             1,
             "#276419"
            ]
           ],
           "sequential": [
            [
             0,
             "#0d0887"
            ],
            [
             0.1111111111111111,
             "#46039f"
            ],
            [
             0.2222222222222222,
             "#7201a8"
            ],
            [
             0.3333333333333333,
             "#9c179e"
            ],
            [
             0.4444444444444444,
             "#bd3786"
            ],
            [
             0.5555555555555556,
             "#d8576b"
            ],
            [
             0.6666666666666666,
             "#ed7953"
            ],
            [
             0.7777777777777778,
             "#fb9f3a"
            ],
            [
             0.8888888888888888,
             "#fdca26"
            ],
            [
             1,
             "#f0f921"
            ]
           ],
           "sequentialminus": [
            [
             0,
             "#0d0887"
            ],
            [
             0.1111111111111111,
             "#46039f"
            ],
            [
             0.2222222222222222,
             "#7201a8"
            ],
            [
             0.3333333333333333,
             "#9c179e"
            ],
            [
             0.4444444444444444,
             "#bd3786"
            ],
            [
             0.5555555555555556,
             "#d8576b"
            ],
            [
             0.6666666666666666,
             "#ed7953"
            ],
            [
             0.7777777777777778,
             "#fb9f3a"
            ],
            [
             0.8888888888888888,
             "#fdca26"
            ],
            [
             1,
             "#f0f921"
            ]
           ]
          },
          "colorway": [
           "#636efa",
           "#EF553B",
           "#00cc96",
           "#ab63fa",
           "#FFA15A",
           "#19d3f3",
           "#FF6692",
           "#B6E880",
           "#FF97FF",
           "#FECB52"
          ],
          "font": {
           "color": "#2a3f5f"
          },
          "geo": {
           "bgcolor": "white",
           "lakecolor": "white",
           "landcolor": "#E5ECF6",
           "showlakes": true,
           "showland": true,
           "subunitcolor": "white"
          },
          "hoverlabel": {
           "align": "left"
          },
          "hovermode": "closest",
          "mapbox": {
           "style": "light"
          },
          "paper_bgcolor": "white",
          "plot_bgcolor": "#E5ECF6",
          "polar": {
           "angularaxis": {
            "gridcolor": "white",
            "linecolor": "white",
            "ticks": ""
           },
           "bgcolor": "#E5ECF6",
           "radialaxis": {
            "gridcolor": "white",
            "linecolor": "white",
            "ticks": ""
           }
          },
          "scene": {
           "xaxis": {
            "backgroundcolor": "#E5ECF6",
            "gridcolor": "white",
            "gridwidth": 2,
            "linecolor": "white",
            "showbackground": true,
            "ticks": "",
            "zerolinecolor": "white"
           },
           "yaxis": {
            "backgroundcolor": "#E5ECF6",
            "gridcolor": "white",
            "gridwidth": 2,
            "linecolor": "white",
            "showbackground": true,
            "ticks": "",
            "zerolinecolor": "white"
           },
           "zaxis": {
            "backgroundcolor": "#E5ECF6",
            "gridcolor": "white",
            "gridwidth": 2,
            "linecolor": "white",
            "showbackground": true,
            "ticks": "",
            "zerolinecolor": "white"
           }
          },
          "shapedefaults": {
           "line": {
            "color": "#2a3f5f"
           }
          },
          "ternary": {
           "aaxis": {
            "gridcolor": "white",
            "linecolor": "white",
            "ticks": ""
           },
           "baxis": {
            "gridcolor": "white",
            "linecolor": "white",
            "ticks": ""
           },
           "bgcolor": "#E5ECF6",
           "caxis": {
            "gridcolor": "white",
            "linecolor": "white",
            "ticks": ""
           }
          },
          "title": {
           "x": 0.05
          },
          "xaxis": {
           "automargin": true,
           "gridcolor": "white",
           "linecolor": "white",
           "ticks": "",
           "title": {
            "standoff": 15
           },
           "zerolinecolor": "white",
           "zerolinewidth": 2
          },
          "yaxis": {
           "automargin": true,
           "gridcolor": "white",
           "linecolor": "white",
           "ticks": "",
           "title": {
            "standoff": 15
           },
           "zerolinecolor": "white",
           "zerolinewidth": 2
          }
         }
        },
        "xaxis": {
         "anchor": "y",
         "domain": [
          0,
          1
         ],
         "title": {
          "text": "year"
         }
        },
        "yaxis": {
         "anchor": "x",
         "domain": [
          0,
          1
         ],
         "title": {
          "text": "Population"
         }
        }
       }
      },
      "text/html": [
       "<div>\n",
       "        \n",
       "        \n",
       "            <div id=\"f9300fb6-d286-43de-97d6-98421f9d68c6\" class=\"plotly-graph-div\" style=\"height:525px; width:100%;\"></div>\n",
       "            <script type=\"text/javascript\">\n",
       "                require([\"plotly\"], function(Plotly) {\n",
       "                    window.PLOTLYENV=window.PLOTLYENV || {};\n",
       "                    \n",
       "                if (document.getElementById(\"f9300fb6-d286-43de-97d6-98421f9d68c6\")) {\n",
       "                    Plotly.newPlot(\n",
       "                        'f9300fb6-d286-43de-97d6-98421f9d68c6',\n",
       "                        [{\"hoverlabel\": {\"namelength\": 0}, \"hovertemplate\": \"Ethinicity=Mixed<br>year=%{x}<br>Population=%{y}\", \"legendgroup\": \"Mixed\", \"line\": {\"color\": \"#636efa\", \"dash\": \"solid\"}, \"mode\": \"lines\", \"name\": \"Mixed\", \"showlegend\": true, \"type\": \"scatter\", \"x\": [1957, 1958, 1959, 1960, 1961, 1962, 1963, 1964, 1965, 1966, 1967, 1968, 1969, 1970, 1971, 1972, 1973, 1974, 1975, 1976, 1977, 1978, 1979, 1980, 1981, 1982, 1983, 1984, 1985, 1986, 1987, 1988, 1989, 1990, 1991, 1992, 1993, 1994, 1995, 1996, 1997, 1998, 1999, 2000, 2001, 2002, 2003, 2004, 2005, 2006, 2007, 2008, 2009, 2010, 2011, 2012, 2013, 2014, 2015, 2016, 2017, 2018], \"xaxis\": \"x\", \"y\": [1445929.0, 1518800.0, 1587201.0, 1646401.0, 1702400.0, 1750201.0, 1795000.0, 1841600.0, 1886901.0, 1934400.0, 1977601.0, 2012000.0, 2042501.0, 2015615.0, 2112899.0, 2152400.0, 2192999.0, 2229800.0, 2262599.0, 2293301.0, 2325300.0, 2353600.0, 2383499.0, 2282125.0, 2325649.0, 2366908.0, 2406916.0, 2443779.0, 2481612.0, 2516048.0, 2549814.0, 2593081.0, 2641246.0, 2735868.0, 2794704.0, 2849753.0, 2904546.0, 2959351.0, 3013518.0, 3068130.0, 3123403.0, 3180019.0, 3229681.0, 3273363.0, 3325902.0, 3382944.0, 3366891.0, 3413266.0, 3467814.0, 3525894.0, 3583082.0, 3642659.0, 3733876.0, 3771721.0, 3789251.0, 3818205.0, 3844751.0, 3870739.0, 3902690.0, 3933559.0, 3965796.0, 3994283.0], \"yaxis\": \"y\"}, {\"hoverlabel\": {\"namelength\": 0}, \"hovertemplate\": \"Ethinicity=Malays<br>year=%{x}<br>Population=%{y}\", \"legendgroup\": \"Malays\", \"line\": {\"color\": \"#EF553B\", \"dash\": \"solid\"}, \"mode\": \"lines\", \"name\": \"Malays\", \"showlegend\": true, \"type\": \"scatter\", \"x\": [1957, 1958, 1959, 1960, 1961, 1962, 1963, 1964, 1965, 1966, 1967, 1968, 1969, 1970, 1971, 1972, 1973, 1974, 1975, 1976, 1977, 1978, 1979, 1980, 1981, 1982, 1983, 1984, 1985, 1986, 1987, 1988, 1989, 1990, 1991, 1992, 1993, 1994, 1995, 1996, 1997, 1998, 1999, 2000, 2001, 2002, 2003, 2004, 2005, 2006, 2007, 2008, 2009, 2010, 2011, 2012, 2013, 2014, 2015, 2016, 2017, 2018], \"xaxis\": \"x\", \"y\": [197059.0, 209000.0, 220700.0, 232200.0, 242500.0, 250301.0, 257200.0, 267000.0, 276999.0, 287699.0, 295800.0, 300499.0, 305999.0, 298094.0, 316300.0, 321200.0, 326099.0, 330199.0, 334100.0, 337399.0, 340699.0, 344099.0, 347599.0, 328718.0, 333586.0, 338275.0, 343096.0, 347745.0, 352806.0, 358016.0, 363073.0, 369002.0, 375576.0, 384338.0, 392397.0, 400290.0, 408086.0, 415989.0, 423261.0, 430075.0, 436659.0, 443350.0, 449480.0, 455207.0, 461788.0, 468360.0, 469791.0, 475689.0, 480722.0, 485978.0, 490552.0, 495110.0, 500051.0, 503868.0, 506637.0, 509519.0, 512837.0, 516657.0, 520923.0, 525888.0, 530710.0, 535824.0], \"yaxis\": \"y\"}, {\"hoverlabel\": {\"namelength\": 0}, \"hovertemplate\": \"Ethinicity=Chinese<br>year=%{x}<br>Population=%{y}\", \"legendgroup\": \"Chinese\", \"line\": {\"color\": \"#00cc96\", \"dash\": \"solid\"}, \"mode\": \"lines\", \"name\": \"Chinese\", \"showlegend\": true, \"type\": \"scatter\", \"x\": [1957, 1958, 1959, 1960, 1961, 1962, 1963, 1964, 1965, 1966, 1967, 1968, 1969, 1970, 1971, 1972, 1973, 1974, 1975, 1976, 1977, 1978, 1979, 1980, 1981, 1982, 1983, 1984, 1985, 1986, 1987, 1988, 1989, 1990, 1991, 1992, 1993, 1994, 1995, 1996, 1997, 1998, 1999, 2000, 2001, 2002, 2003, 2004, 2005, 2006, 2007, 2008, 2009, 2010, 2011, 2012, 2013, 2014, 2015, 2016, 2017, 2018], \"xaxis\": \"x\", \"y\": [1090596.0, 1149499.0, 1204900.0, 1251600.0, 1295000.0, 1333001.0, 1369301.0, 1405501.0, 1439500.0, 1473801.0, 1504399.0, 1531399.0, 1555000.0, 1553303.0, 1611099.0, 1643399.0, 1676799.0, 1707100.0, 1733700.0, 1758801.0, 1785299.0, 1808200.0, 1832400.0, 1787816.0, 1820737.0, 1851784.0, 1881424.0, 1908281.0, 1935614.0, 1959906.0, 1983733.0, 2015954.0, 2052332.0, 2127872.0, 2172301.0, 2213002.0, 2253588.0, 2293202.0, 2332883.0, 2371806.0, 2410109.0, 2448688.0, 2482641.0, 2513847.0, 2552077.0, 2589525.0, 2572607.0, 2599813.0, 2626723.0, 2656358.0, 2686997.0, 2721779.0, 2770303.0, 2793980.0, 2808254.0, 2831984.0, 2853751.0, 2874380.0, 2900007.0, 2923172.0, 2948252.0, 2969281.0], \"yaxis\": \"y\"}, {\"hoverlabel\": {\"namelength\": 0}, \"hovertemplate\": \"Ethinicity=Indians<br>year=%{x}<br>Population=%{y}\", \"legendgroup\": \"Indians\", \"line\": {\"color\": \"#ab63fa\", \"dash\": \"solid\"}, \"mode\": \"lines\", \"name\": \"Indians\", \"showlegend\": true, \"type\": \"scatter\", \"x\": [1957, 1958, 1959, 1960, 1961, 1962, 1963, 1964, 1965, 1966, 1967, 1968, 1969, 1970, 1971, 1972, 1973, 1974, 1975, 1976, 1977, 1978, 1979, 1980, 1981, 1982, 1983, 1984, 1985, 1986, 1987, 1988, 1989, 1990, 1991, 1992, 1993, 1994, 1995, 1996, 1997, 1998, 1999, 2000, 2001, 2002, 2003, 2004, 2005, 2006, 2007, 2008, 2009, 2010, 2011, 2012, 2013, 2014, 2015, 2016, 2017, 2018], \"xaxis\": \"x\", \"y\": [124084.0, 131299.0, 131799.0, 133200.0, 135699.0, 137100.0, 137401.0, 138401.0, 140500.0, 141200.0, 142900.0, 144601.0, 145101.0, 141017.0, 146300.0, 147299.0, 148401.0, 149400.0, 150201.0, 151100.0, 151900.0, 152700.0, 153499.0, 143404.0, 148565.0, 153445.0, 158294.0, 162976.0, 167673.0, 172009.0, 176402.0, 180989.0, 185627.0, 194048.0, 198781.0, 203649.0, 208550.0, 214278.0, 220272.0, 227745.0, 236431.0, 245774.0, 253304.0, 257866.0, 262968.0, 271923.0, 269899.0, 278106.0, 291131.0, 303096.0, 313395.0, 323431.0, 343509.0, 348119.0, 349036.0, 351025.0, 351667.0, 353021.0, 354952.0, 356876.0, 358821.0, 360528.0], \"yaxis\": \"y\"}, {\"hoverlabel\": {\"namelength\": 0}, \"hovertemplate\": \"Ethinicity=Other Ethinic<br>year=%{x}<br>Population=%{y}\", \"legendgroup\": \"Other Ethinic\", \"line\": {\"color\": \"#FFA15A\", \"dash\": \"solid\"}, \"mode\": \"lines\", \"name\": \"Other Ethinic\", \"showlegend\": true, \"type\": \"scatter\", \"x\": [1957, 1958, 1959, 1960, 1961, 1962, 1963, 1964, 1965, 1966, 1967, 1968, 1969, 1970, 1971, 1972, 1973, 1974, 1975, 1976, 1977, 1978, 1979, 1980, 1981, 1982, 1983, 1984, 1985, 1986, 1987, 1988, 1989, 1990, 1991, 1992, 1993, 1994, 1995, 1996, 1997, 1998, 1999, 2000, 2001, 2002, 2003, 2004, 2005, 2006, 2007, 2008, 2009, 2010, 2011, 2012, 2013, 2014, 2015, 2016, 2017, 2018], \"xaxis\": \"x\", \"y\": [34190.0, 29000.0, 29800.0, 29401.0, 29201.0, 29801.0, 31100.0, 30700.0, 29900.0, 31700.0, 34500.0, 35501.0, 36401.0, 23199.0, 39200.0, 40500.0, 41700.0, 43099.0, 44600.0, 45999.0, 47400.0, 48599.0, 49999.0, 22187.0, 22761.0, 23403.0, 24112.0, 24778.0, 25530.0, 26121.0, 26609.0, 27137.0, 27717.0, 29610.0, 31231.0, 32815.0, 34330.0, 35884.0, 37117.0, 38505.0, 40207.0, 42208.0, 44258.0, 46443.0, 49069.0, 53136.0, 54594.0, 59658.0, 69238.0, 80462.0, 92138.0, 102339.0, 120013.0, 125754.0, 125324.0, 125677.0, 126496.0, 126681.0, 126808.0, 127623.0, 128013.0, 128650.0], \"yaxis\": \"y\"}],\n",
       "                        {\"legend\": {\"title\": {\"text\": \"Ethinicity\"}, \"tracegroupgap\": 0}, \"margin\": {\"t\": 60}, \"template\": {\"data\": {\"bar\": [{\"error_x\": {\"color\": \"#2a3f5f\"}, \"error_y\": {\"color\": \"#2a3f5f\"}, \"marker\": {\"line\": {\"color\": \"#E5ECF6\", \"width\": 0.5}}, \"type\": \"bar\"}], \"barpolar\": [{\"marker\": {\"line\": {\"color\": \"#E5ECF6\", \"width\": 0.5}}, \"type\": \"barpolar\"}], \"carpet\": [{\"aaxis\": {\"endlinecolor\": \"#2a3f5f\", \"gridcolor\": \"white\", \"linecolor\": \"white\", \"minorgridcolor\": \"white\", \"startlinecolor\": \"#2a3f5f\"}, \"baxis\": {\"endlinecolor\": \"#2a3f5f\", \"gridcolor\": \"white\", \"linecolor\": \"white\", \"minorgridcolor\": \"white\", \"startlinecolor\": \"#2a3f5f\"}, \"type\": \"carpet\"}], \"choropleth\": [{\"colorbar\": {\"outlinewidth\": 0, \"ticks\": \"\"}, \"type\": \"choropleth\"}], \"contour\": [{\"colorbar\": {\"outlinewidth\": 0, \"ticks\": \"\"}, \"colorscale\": [[0.0, \"#0d0887\"], [0.1111111111111111, \"#46039f\"], [0.2222222222222222, \"#7201a8\"], [0.3333333333333333, \"#9c179e\"], [0.4444444444444444, \"#bd3786\"], [0.5555555555555556, \"#d8576b\"], [0.6666666666666666, \"#ed7953\"], [0.7777777777777778, \"#fb9f3a\"], [0.8888888888888888, \"#fdca26\"], [1.0, \"#f0f921\"]], \"type\": \"contour\"}], \"contourcarpet\": [{\"colorbar\": {\"outlinewidth\": 0, \"ticks\": \"\"}, \"type\": \"contourcarpet\"}], \"heatmap\": [{\"colorbar\": {\"outlinewidth\": 0, \"ticks\": \"\"}, \"colorscale\": [[0.0, \"#0d0887\"], [0.1111111111111111, \"#46039f\"], [0.2222222222222222, \"#7201a8\"], [0.3333333333333333, \"#9c179e\"], [0.4444444444444444, \"#bd3786\"], [0.5555555555555556, \"#d8576b\"], [0.6666666666666666, \"#ed7953\"], [0.7777777777777778, \"#fb9f3a\"], [0.8888888888888888, \"#fdca26\"], [1.0, \"#f0f921\"]], \"type\": \"heatmap\"}], \"heatmapgl\": [{\"colorbar\": {\"outlinewidth\": 0, \"ticks\": \"\"}, \"colorscale\": [[0.0, \"#0d0887\"], [0.1111111111111111, \"#46039f\"], [0.2222222222222222, \"#7201a8\"], [0.3333333333333333, \"#9c179e\"], [0.4444444444444444, \"#bd3786\"], [0.5555555555555556, \"#d8576b\"], [0.6666666666666666, \"#ed7953\"], [0.7777777777777778, \"#fb9f3a\"], [0.8888888888888888, \"#fdca26\"], [1.0, \"#f0f921\"]], \"type\": \"heatmapgl\"}], \"histogram\": [{\"marker\": {\"colorbar\": {\"outlinewidth\": 0, \"ticks\": \"\"}}, \"type\": \"histogram\"}], \"histogram2d\": [{\"colorbar\": {\"outlinewidth\": 0, \"ticks\": \"\"}, \"colorscale\": [[0.0, \"#0d0887\"], [0.1111111111111111, \"#46039f\"], [0.2222222222222222, \"#7201a8\"], [0.3333333333333333, \"#9c179e\"], [0.4444444444444444, \"#bd3786\"], [0.5555555555555556, \"#d8576b\"], [0.6666666666666666, \"#ed7953\"], [0.7777777777777778, \"#fb9f3a\"], [0.8888888888888888, \"#fdca26\"], [1.0, \"#f0f921\"]], \"type\": \"histogram2d\"}], \"histogram2dcontour\": [{\"colorbar\": {\"outlinewidth\": 0, \"ticks\": \"\"}, \"colorscale\": [[0.0, \"#0d0887\"], [0.1111111111111111, \"#46039f\"], [0.2222222222222222, \"#7201a8\"], [0.3333333333333333, \"#9c179e\"], [0.4444444444444444, \"#bd3786\"], [0.5555555555555556, \"#d8576b\"], [0.6666666666666666, \"#ed7953\"], [0.7777777777777778, \"#fb9f3a\"], [0.8888888888888888, \"#fdca26\"], [1.0, \"#f0f921\"]], \"type\": \"histogram2dcontour\"}], \"mesh3d\": [{\"colorbar\": {\"outlinewidth\": 0, \"ticks\": \"\"}, \"type\": \"mesh3d\"}], \"parcoords\": [{\"line\": {\"colorbar\": {\"outlinewidth\": 0, \"ticks\": \"\"}}, \"type\": \"parcoords\"}], \"pie\": [{\"automargin\": true, \"type\": \"pie\"}], \"scatter\": [{\"marker\": {\"colorbar\": {\"outlinewidth\": 0, \"ticks\": \"\"}}, \"type\": \"scatter\"}], \"scatter3d\": [{\"line\": {\"colorbar\": {\"outlinewidth\": 0, \"ticks\": \"\"}}, \"marker\": {\"colorbar\": {\"outlinewidth\": 0, \"ticks\": \"\"}}, \"type\": \"scatter3d\"}], \"scattercarpet\": [{\"marker\": {\"colorbar\": {\"outlinewidth\": 0, \"ticks\": \"\"}}, \"type\": \"scattercarpet\"}], \"scattergeo\": [{\"marker\": {\"colorbar\": {\"outlinewidth\": 0, \"ticks\": \"\"}}, \"type\": \"scattergeo\"}], \"scattergl\": [{\"marker\": {\"colorbar\": {\"outlinewidth\": 0, \"ticks\": \"\"}}, \"type\": \"scattergl\"}], \"scattermapbox\": [{\"marker\": {\"colorbar\": {\"outlinewidth\": 0, \"ticks\": \"\"}}, \"type\": \"scattermapbox\"}], \"scatterpolar\": [{\"marker\": {\"colorbar\": {\"outlinewidth\": 0, \"ticks\": \"\"}}, \"type\": \"scatterpolar\"}], \"scatterpolargl\": [{\"marker\": {\"colorbar\": {\"outlinewidth\": 0, \"ticks\": \"\"}}, \"type\": \"scatterpolargl\"}], \"scatterternary\": [{\"marker\": {\"colorbar\": {\"outlinewidth\": 0, \"ticks\": \"\"}}, \"type\": \"scatterternary\"}], \"surface\": [{\"colorbar\": {\"outlinewidth\": 0, \"ticks\": \"\"}, \"colorscale\": [[0.0, \"#0d0887\"], [0.1111111111111111, \"#46039f\"], [0.2222222222222222, \"#7201a8\"], [0.3333333333333333, \"#9c179e\"], [0.4444444444444444, \"#bd3786\"], [0.5555555555555556, \"#d8576b\"], [0.6666666666666666, \"#ed7953\"], [0.7777777777777778, \"#fb9f3a\"], [0.8888888888888888, \"#fdca26\"], [1.0, \"#f0f921\"]], \"type\": \"surface\"}], \"table\": [{\"cells\": {\"fill\": {\"color\": \"#EBF0F8\"}, \"line\": {\"color\": \"white\"}}, \"header\": {\"fill\": {\"color\": \"#C8D4E3\"}, \"line\": {\"color\": \"white\"}}, \"type\": \"table\"}]}, \"layout\": {\"annotationdefaults\": {\"arrowcolor\": \"#2a3f5f\", \"arrowhead\": 0, \"arrowwidth\": 1}, \"coloraxis\": {\"colorbar\": {\"outlinewidth\": 0, \"ticks\": \"\"}}, \"colorscale\": {\"diverging\": [[0, \"#8e0152\"], [0.1, \"#c51b7d\"], [0.2, \"#de77ae\"], [0.3, \"#f1b6da\"], [0.4, \"#fde0ef\"], [0.5, \"#f7f7f7\"], [0.6, \"#e6f5d0\"], [0.7, \"#b8e186\"], [0.8, \"#7fbc41\"], [0.9, \"#4d9221\"], [1, \"#276419\"]], \"sequential\": [[0.0, \"#0d0887\"], [0.1111111111111111, \"#46039f\"], [0.2222222222222222, \"#7201a8\"], [0.3333333333333333, \"#9c179e\"], [0.4444444444444444, \"#bd3786\"], [0.5555555555555556, \"#d8576b\"], [0.6666666666666666, \"#ed7953\"], [0.7777777777777778, \"#fb9f3a\"], [0.8888888888888888, \"#fdca26\"], [1.0, \"#f0f921\"]], \"sequentialminus\": [[0.0, \"#0d0887\"], [0.1111111111111111, \"#46039f\"], [0.2222222222222222, \"#7201a8\"], [0.3333333333333333, \"#9c179e\"], [0.4444444444444444, \"#bd3786\"], [0.5555555555555556, \"#d8576b\"], [0.6666666666666666, \"#ed7953\"], [0.7777777777777778, \"#fb9f3a\"], [0.8888888888888888, \"#fdca26\"], [1.0, \"#f0f921\"]]}, \"colorway\": [\"#636efa\", \"#EF553B\", \"#00cc96\", \"#ab63fa\", \"#FFA15A\", \"#19d3f3\", \"#FF6692\", \"#B6E880\", \"#FF97FF\", \"#FECB52\"], \"font\": {\"color\": \"#2a3f5f\"}, \"geo\": {\"bgcolor\": \"white\", \"lakecolor\": \"white\", \"landcolor\": \"#E5ECF6\", \"showlakes\": true, \"showland\": true, \"subunitcolor\": \"white\"}, \"hoverlabel\": {\"align\": \"left\"}, \"hovermode\": \"closest\", \"mapbox\": {\"style\": \"light\"}, \"paper_bgcolor\": \"white\", \"plot_bgcolor\": \"#E5ECF6\", \"polar\": {\"angularaxis\": {\"gridcolor\": \"white\", \"linecolor\": \"white\", \"ticks\": \"\"}, \"bgcolor\": \"#E5ECF6\", \"radialaxis\": {\"gridcolor\": \"white\", \"linecolor\": \"white\", \"ticks\": \"\"}}, \"scene\": {\"xaxis\": {\"backgroundcolor\": \"#E5ECF6\", \"gridcolor\": \"white\", \"gridwidth\": 2, \"linecolor\": \"white\", \"showbackground\": true, \"ticks\": \"\", \"zerolinecolor\": \"white\"}, \"yaxis\": {\"backgroundcolor\": \"#E5ECF6\", \"gridcolor\": \"white\", \"gridwidth\": 2, \"linecolor\": \"white\", \"showbackground\": true, \"ticks\": \"\", \"zerolinecolor\": \"white\"}, \"zaxis\": {\"backgroundcolor\": \"#E5ECF6\", \"gridcolor\": \"white\", \"gridwidth\": 2, \"linecolor\": \"white\", \"showbackground\": true, \"ticks\": \"\", \"zerolinecolor\": \"white\"}}, \"shapedefaults\": {\"line\": {\"color\": \"#2a3f5f\"}}, \"ternary\": {\"aaxis\": {\"gridcolor\": \"white\", \"linecolor\": \"white\", \"ticks\": \"\"}, \"baxis\": {\"gridcolor\": \"white\", \"linecolor\": \"white\", \"ticks\": \"\"}, \"bgcolor\": \"#E5ECF6\", \"caxis\": {\"gridcolor\": \"white\", \"linecolor\": \"white\", \"ticks\": \"\"}}, \"title\": {\"x\": 0.05}, \"xaxis\": {\"automargin\": true, \"gridcolor\": \"white\", \"linecolor\": \"white\", \"ticks\": \"\", \"title\": {\"standoff\": 15}, \"zerolinecolor\": \"white\", \"zerolinewidth\": 2}, \"yaxis\": {\"automargin\": true, \"gridcolor\": \"white\", \"linecolor\": \"white\", \"ticks\": \"\", \"title\": {\"standoff\": 15}, \"zerolinecolor\": \"white\", \"zerolinewidth\": 2}}}, \"xaxis\": {\"anchor\": \"y\", \"domain\": [0.0, 1.0], \"title\": {\"text\": \"year\"}}, \"yaxis\": {\"anchor\": \"x\", \"domain\": [0.0, 1.0], \"title\": {\"text\": \"Population\"}}},\n",
       "                        {\"responsive\": true}\n",
       "                    ).then(function(){\n",
       "                            \n",
       "var gd = document.getElementById('f9300fb6-d286-43de-97d6-98421f9d68c6');\n",
       "var x = new MutationObserver(function (mutations, observer) {{\n",
       "        var display = window.getComputedStyle(gd).display;\n",
       "        if (!display || display === 'none') {{\n",
       "            console.log([gd, 'removed!']);\n",
       "            Plotly.purge(gd);\n",
       "            observer.disconnect();\n",
       "        }}\n",
       "}});\n",
       "\n",
       "// Listen for the removal of the full notebook cells\n",
       "var notebookContainer = gd.closest('#notebook-container');\n",
       "if (notebookContainer) {{\n",
       "    x.observe(notebookContainer, {childList: true});\n",
       "}}\n",
       "\n",
       "// Listen for the clearing of the current output cell\n",
       "var outputEl = gd.closest('.output');\n",
       "if (outputEl) {{\n",
       "    x.observe(outputEl, {childList: true});\n",
       "}}\n",
       "\n",
       "                        })\n",
       "                };\n",
       "                });\n",
       "            </script>\n",
       "        </div>"
      ]
     },
     "metadata": {},
     "output_type": "display_data"
    }
   ],
   "source": [
    "#While chinese ethnicity have been increasing exponentially over the years, other ethinic groups more or less remained the same\n",
    "fig.show()"
   ]
  },
  {
   "cell_type": "code",
   "execution_count": 52,
   "metadata": {},
   "outputs": [],
   "source": [
    "#new datframe with year, age_group and population\n",
    "df_year_ag = pd.DataFrame(columns=['year','age_group','Population'])"
   ]
  },
  {
   "cell_type": "code",
   "execution_count": 53,
   "metadata": {},
   "outputs": [],
   "source": [
    "#determining population by age_group in each year\n",
    "for i in year_list:\n",
    "    for m in age_list:\n",
    "        pop = df_age[(df_age['year']==i)&(df_age['Gender']=='Mixed')&(df_age['age_group']==m)]['value'].sum()\n",
    "        df_year_ag = df_year_ag.append({'year':i,'age_group':m,'Population':pop},ignore_index=True)"
   ]
  },
  {
   "cell_type": "code",
   "execution_count": 54,
   "metadata": {},
   "outputs": [
    {
     "data": {
      "text/html": [
       "<div>\n",
       "<style scoped>\n",
       "    .dataframe tbody tr th:only-of-type {\n",
       "        vertical-align: middle;\n",
       "    }\n",
       "\n",
       "    .dataframe tbody tr th {\n",
       "        vertical-align: top;\n",
       "    }\n",
       "\n",
       "    .dataframe thead th {\n",
       "        text-align: right;\n",
       "    }\n",
       "</style>\n",
       "<table border=\"1\" class=\"dataframe\">\n",
       "  <thead>\n",
       "    <tr style=\"text-align: right;\">\n",
       "      <th></th>\n",
       "      <th>year</th>\n",
       "      <th>age_group</th>\n",
       "      <th>Population</th>\n",
       "    </tr>\n",
       "  </thead>\n",
       "  <tbody>\n",
       "    <tr>\n",
       "      <th>0</th>\n",
       "      <td>1957</td>\n",
       "      <td>0-4</td>\n",
       "      <td>264727.0</td>\n",
       "    </tr>\n",
       "    <tr>\n",
       "      <th>1</th>\n",
       "      <td>1957</td>\n",
       "      <td>5-9</td>\n",
       "      <td>218097.0</td>\n",
       "    </tr>\n",
       "    <tr>\n",
       "      <th>2</th>\n",
       "      <td>1957</td>\n",
       "      <td>10-14</td>\n",
       "      <td>136280.0</td>\n",
       "    </tr>\n",
       "    <tr>\n",
       "      <th>3</th>\n",
       "      <td>1957</td>\n",
       "      <td>15-19</td>\n",
       "      <td>135679.0</td>\n",
       "    </tr>\n",
       "    <tr>\n",
       "      <th>4</th>\n",
       "      <td>1957</td>\n",
       "      <td>20-24</td>\n",
       "      <td>119266.0</td>\n",
       "    </tr>\n",
       "    <tr>\n",
       "      <th>...</th>\n",
       "      <td>...</td>\n",
       "      <td>...</td>\n",
       "      <td>...</td>\n",
       "    </tr>\n",
       "    <tr>\n",
       "      <th>1111</th>\n",
       "      <td>2018</td>\n",
       "      <td>65-69</td>\n",
       "      <td>212101.0</td>\n",
       "    </tr>\n",
       "    <tr>\n",
       "      <th>1112</th>\n",
       "      <td>2018</td>\n",
       "      <td>70-74</td>\n",
       "      <td>135546.0</td>\n",
       "    </tr>\n",
       "    <tr>\n",
       "      <th>1113</th>\n",
       "      <td>2018</td>\n",
       "      <td>75-79</td>\n",
       "      <td>93327.0</td>\n",
       "    </tr>\n",
       "    <tr>\n",
       "      <th>1114</th>\n",
       "      <td>2018</td>\n",
       "      <td>80-84</td>\n",
       "      <td>57103.0</td>\n",
       "    </tr>\n",
       "    <tr>\n",
       "      <th>1115</th>\n",
       "      <td>2018</td>\n",
       "      <td>&gt;85</td>\n",
       "      <td>49777.0</td>\n",
       "    </tr>\n",
       "  </tbody>\n",
       "</table>\n",
       "<p>1116 rows × 3 columns</p>\n",
       "</div>"
      ],
      "text/plain": [
       "      year age_group  Population\n",
       "0     1957       0-4    264727.0\n",
       "1     1957       5-9    218097.0\n",
       "2     1957     10-14    136280.0\n",
       "3     1957     15-19    135679.0\n",
       "4     1957     20-24    119266.0\n",
       "...    ...       ...         ...\n",
       "1111  2018     65-69    212101.0\n",
       "1112  2018     70-74    135546.0\n",
       "1113  2018     75-79     93327.0\n",
       "1114  2018     80-84     57103.0\n",
       "1115  2018       >85     49777.0\n",
       "\n",
       "[1116 rows x 3 columns]"
      ]
     },
     "execution_count": 54,
     "metadata": {},
     "output_type": "execute_result"
    }
   ],
   "source": [
    "df_year_ag"
   ]
  },
  {
   "cell_type": "code",
   "execution_count": 55,
   "metadata": {},
   "outputs": [
    {
     "data": {
      "application/vnd.plotly.v1+json": {
       "config": {
        "plotlyServerURL": "https://plot.ly"
       },
       "data": [
        {
         "hoverlabel": {
          "namelength": 0
         },
         "hovertemplate": "age_group=0-4<br>year=%{x}<br>Population=%{y}",
         "legendgroup": "0-4",
         "line": {
          "color": "#636efa",
          "dash": "solid"
         },
         "mode": "lines",
         "name": "0-4",
         "showlegend": true,
         "type": "scattergl",
         "x": [
          1957,
          1958,
          1959,
          1960,
          1961,
          1962,
          1963,
          1964,
          1965,
          1966,
          1967,
          1968,
          1969,
          1970,
          1971,
          1972,
          1973,
          1974,
          1975,
          1976,
          1977,
          1978,
          1979,
          1980,
          1981,
          1982,
          1983,
          1984,
          1985,
          1986,
          1987,
          1988,
          1989,
          1990,
          1991,
          1992,
          1993,
          1994,
          1995,
          1996,
          1997,
          1998,
          1999,
          2000,
          2001,
          2002,
          2003,
          2004,
          2005,
          2006,
          2007,
          2008,
          2009,
          2010,
          2011,
          2012,
          2013,
          2014,
          2015,
          2016,
          2017,
          2018
         ],
         "xaxis": "x",
         "y": [
          264727,
          277800,
          288800,
          297000,
          303700,
          306100,
          303000,
          299900,
          293500,
          289600,
          283100,
          272800,
          257900,
          230165,
          228200,
          226000,
          227200,
          227800,
          228000,
          221300,
          215100,
          204200,
          198000,
          185840,
          189138,
          191964,
          197759,
          199148,
          203346,
          202257,
          200069,
          204866,
          216688,
          224049,
          235518,
          245752,
          248771,
          247022,
          248090,
          245147,
          243259,
          240072,
          232615,
          225705,
          222991,
          217798,
          209903,
          204819,
          199529,
          194479,
          193626,
          193889,
          197788,
          194432,
          188249,
          186673,
          183295,
          181369,
          183575,
          187160,
          187653,
          185528
         ],
         "yaxis": "y"
        },
        {
         "hoverlabel": {
          "namelength": 0
         },
         "hovertemplate": "age_group=5-9<br>year=%{x}<br>Population=%{y}",
         "legendgroup": "5-9",
         "line": {
          "color": "#EF553B",
          "dash": "solid"
         },
         "mode": "lines",
         "name": "5-9",
         "showlegend": true,
         "type": "scattergl",
         "x": [
          1957,
          1958,
          1959,
          1960,
          1961,
          1962,
          1963,
          1964,
          1965,
          1966,
          1967,
          1968,
          1969,
          1970,
          1971,
          1972,
          1973,
          1974,
          1975,
          1976,
          1977,
          1978,
          1979,
          1980,
          1981,
          1982,
          1983,
          1984,
          1985,
          1986,
          1987,
          1988,
          1989,
          1990,
          1991,
          1992,
          1993,
          1994,
          1995,
          1996,
          1997,
          1998,
          1999,
          2000,
          2001,
          2002,
          2003,
          2004,
          2005,
          2006,
          2007,
          2008,
          2009,
          2010,
          2011,
          2012,
          2013,
          2014,
          2015,
          2016,
          2017,
          2018
         ],
         "xaxis": "x",
         "y": [
          218097,
          229600,
          241000,
          250300,
          258900,
          266700,
          276000,
          284000,
          291100,
          297600,
          300300,
          297900,
          295100,
          273997,
          276700,
          269500,
          260000,
          247000,
          234300,
          227300,
          224500,
          225200,
          225400,
          216630,
          211665,
          206599,
          197475,
          193391,
          192040,
          194844,
          196553,
          201533,
          202072,
          205628,
          205808,
          204724,
          210359,
          223823,
          230583,
          242271,
          253311,
          257440,
          256148,
          256574,
          254077,
          253192,
          247044,
          240517,
          237237,
          235204,
          229541,
          223622,
          221435,
          215675,
          208119,
          206324,
          205704,
          205790,
          204452,
          201509,
          200575,
          199066
         ],
         "yaxis": "y"
        },
        {
         "hoverlabel": {
          "namelength": 0
         },
         "hovertemplate": "age_group=10-14<br>year=%{x}<br>Population=%{y}",
         "legendgroup": "10-14",
         "line": {
          "color": "#00cc96",
          "dash": "solid"
         },
         "mode": "lines",
         "name": "10-14",
         "showlegend": true,
         "type": "scattergl",
         "x": [
          1957,
          1958,
          1959,
          1960,
          1961,
          1962,
          1963,
          1964,
          1965,
          1966,
          1967,
          1968,
          1969,
          1970,
          1971,
          1972,
          1973,
          1974,
          1975,
          1976,
          1977,
          1978,
          1979,
          1980,
          1981,
          1982,
          1983,
          1984,
          1985,
          1986,
          1987,
          1988,
          1989,
          1990,
          1991,
          1992,
          1993,
          1994,
          1995,
          1996,
          1997,
          1998,
          1999,
          2000,
          2001,
          2002,
          2003,
          2004,
          2005,
          2006,
          2007,
          2008,
          2009,
          2010,
          2011,
          2012,
          2013,
          2014,
          2015,
          2016,
          2017,
          2018
         ],
         "xaxis": "x",
         "y": [
          136280,
          157100,
          175700,
          200300,
          217400,
          223900,
          232000,
          240200,
          248500,
          257300,
          265100,
          273900,
          282000,
          283627,
          292200,
          292600,
          290500,
          289700,
          283600,
          277900,
          269700,
          259500,
          246300,
          228146,
          221174,
          218444,
          219605,
          220588,
          219365,
          214517,
          209844,
          201049,
          197204,
          198476,
          201155,
          202170,
          206698,
          207032,
          209584,
          209323,
          208389,
          214443,
          228190,
          235352,
          246972,
          257692,
          259124,
          257283,
          258553,
          256482,
          255292,
          253796,
          248628,
          244302,
          240536,
          233320,
          226244,
          220796,
          214388,
          207495,
          206253,
          206530
         ],
         "yaxis": "y"
        },
        {
         "hoverlabel": {
          "namelength": 0
         },
         "hovertemplate": "age_group=15-19<br>year=%{x}<br>Population=%{y}",
         "legendgroup": "15-19",
         "line": {
          "color": "#ab63fa",
          "dash": "solid"
         },
         "mode": "lines",
         "name": "15-19",
         "showlegend": true,
         "type": "scattergl",
         "x": [
          1957,
          1958,
          1959,
          1960,
          1961,
          1962,
          1963,
          1964,
          1965,
          1966,
          1967,
          1968,
          1969,
          1970,
          1971,
          1972,
          1973,
          1974,
          1975,
          1976,
          1977,
          1978,
          1979,
          1980,
          1981,
          1982,
          1983,
          1984,
          1985,
          1986,
          1987,
          1988,
          1989,
          1990,
          1991,
          1992,
          1993,
          1994,
          1995,
          1996,
          1997,
          1998,
          1999,
          2000,
          2001,
          2002,
          2003,
          2004,
          2005,
          2006,
          2007,
          2008,
          2009,
          2010,
          2011,
          2012,
          2013,
          2014,
          2015,
          2016,
          2017,
          2018
         ],
         "xaxis": "x",
         "y": [
          135679,
          134300,
          131500,
          124700,
          124900,
          140000,
          159000,
          175800,
          198600,
          215200,
          222500,
          229800,
          238700,
          240682,
          256000,
          268300,
          278000,
          285000,
          292800,
          296200,
          296900,
          295900,
          293900,
          270536,
          266011,
          259173,
          250371,
          238083,
          227897,
          220939,
          218542,
          220242,
          221947,
          223305,
          218158,
          213332,
          204086,
          200002,
          199899,
          202379,
          203430,
          208282,
          208601,
          211286,
          210903,
          209687,
          214074,
          227417,
          234921,
          246547,
          257298,
          262856,
          262775,
          263750,
          260738,
          258861,
          255066,
          247337,
          242902,
          239771,
          232973,
          226520
         ],
         "yaxis": "y"
        },
        {
         "hoverlabel": {
          "namelength": 0
         },
         "hovertemplate": "age_group=20-24<br>year=%{x}<br>Population=%{y}",
         "legendgroup": "20-24",
         "line": {
          "color": "#FFA15A",
          "dash": "solid"
         },
         "mode": "lines",
         "name": "20-24",
         "showlegend": true,
         "type": "scattergl",
         "x": [
          1957,
          1958,
          1959,
          1960,
          1961,
          1962,
          1963,
          1964,
          1965,
          1966,
          1967,
          1968,
          1969,
          1970,
          1971,
          1972,
          1973,
          1974,
          1975,
          1976,
          1977,
          1978,
          1979,
          1980,
          1981,
          1982,
          1983,
          1984,
          1985,
          1986,
          1987,
          1988,
          1989,
          1990,
          1991,
          1992,
          1993,
          1994,
          1995,
          1996,
          1997,
          1998,
          1999,
          2000,
          2001,
          2002,
          2003,
          2004,
          2005,
          2006,
          2007,
          2008,
          2009,
          2010,
          2011,
          2012,
          2013,
          2014,
          2015,
          2016,
          2017,
          2018
         ],
         "xaxis": "x",
         "y": [
          119266,
          124900,
          133100,
          139500,
          142500,
          139400,
          135200,
          130500,
          123800,
          123200,
          138800,
          158000,
          174500,
          193974,
          220100,
          225800,
          233400,
          241900,
          249600,
          260100,
          272000,
          281400,
          289000,
          272178,
          278080,
          278979,
          278287,
          276698,
          271687,
          266601,
          259416,
          251276,
          239559,
          238987,
          234659,
          234805,
          237868,
          239253,
          237426,
          231765,
          226764,
          217261,
          213032,
          212236,
          214636,
          216313,
          215412,
          215217,
          218951,
          219631,
          218485,
          225385,
          241753,
          247190,
          255069,
          264506,
          266889,
          263918,
          264127,
          260854,
          259072,
          255516
         ],
         "yaxis": "y"
        },
        {
         "hoverlabel": {
          "namelength": 0
         },
         "hovertemplate": "age_group=25-29<br>year=%{x}<br>Population=%{y}",
         "legendgroup": "25-29",
         "line": {
          "color": "#19d3f3",
          "dash": "solid"
         },
         "mode": "lines",
         "name": "25-29",
         "showlegend": true,
         "type": "scattergl",
         "x": [
          1957,
          1958,
          1959,
          1960,
          1961,
          1962,
          1963,
          1964,
          1965,
          1966,
          1967,
          1968,
          1969,
          1970,
          1971,
          1972,
          1973,
          1974,
          1975,
          1976,
          1977,
          1978,
          1979,
          1980,
          1981,
          1982,
          1983,
          1984,
          1985,
          1986,
          1987,
          1988,
          1989,
          1990,
          1991,
          1992,
          1993,
          1994,
          1995,
          1996,
          1997,
          1998,
          1999,
          2000,
          2001,
          2002,
          2003,
          2004,
          2005,
          2006,
          2007,
          2008,
          2009,
          2010,
          2011,
          2012,
          2013,
          2014,
          2015,
          2016,
          2017,
          2018
         ],
         "xaxis": "x",
         "y": [
          111726,
          114700,
          115100,
          116200,
          119600,
          122100,
          125000,
          132000,
          137900,
          140000,
          138400,
          134200,
          129000,
          124587,
          132400,
          148200,
          166800,
          183400,
          207100,
          223800,
          229000,
          236700,
          244900,
          232795,
          245845,
          259250,
          270328,
          278708,
          285241,
          288791,
          288082,
          287140,
          285964,
          290940,
          289840,
          286491,
          281790,
          273264,
          267011,
          263480,
          264770,
          268517,
          270217,
          267161,
          262754,
          262720,
          250878,
          246713,
          247799,
          251659,
          254523,
          263114,
          274308,
          272639,
          262606,
          254582,
          255615,
          265659,
          271030,
          279988,
          290198,
          291631
         ],
         "yaxis": "y"
        },
        {
         "hoverlabel": {
          "namelength": 0
         },
         "hovertemplate": "age_group=30-34<br>year=%{x}<br>Population=%{y}",
         "legendgroup": "30-34",
         "line": {
          "color": "#FF6692",
          "dash": "solid"
         },
         "mode": "lines",
         "name": "30-34",
         "showlegend": true,
         "type": "scattergl",
         "x": [
          1957,
          1958,
          1959,
          1960,
          1961,
          1962,
          1963,
          1964,
          1965,
          1966,
          1967,
          1968,
          1969,
          1970,
          1971,
          1972,
          1973,
          1974,
          1975,
          1976,
          1977,
          1978,
          1979,
          1980,
          1981,
          1982,
          1983,
          1984,
          1985,
          1986,
          1987,
          1988,
          1989,
          1990,
          1991,
          1992,
          1993,
          1994,
          1995,
          1996,
          1997,
          1998,
          1999,
          2000,
          2001,
          2002,
          2003,
          2004,
          2005,
          2006,
          2007,
          2008,
          2009,
          2010,
          2011,
          2012,
          2013,
          2014,
          2015,
          2016,
          2017,
          2018
         ],
         "xaxis": "x",
         "y": [
          89925,
          95100,
          102100,
          106600,
          112300,
          113000,
          114600,
          113100,
          114700,
          117400,
          120300,
          123600,
          130900,
          130130,
          140300,
          142600,
          143200,
          141100,
          134100,
          133800,
          151200,
          169400,
          187100,
          194250,
          210778,
          216756,
          225225,
          234720,
          244605,
          256413,
          268322,
          278032,
          285530,
          298323,
          304022,
          306029,
          307730,
          309334,
          308825,
          309093,
          306774,
          304104,
          296867,
          290290,
          286690,
          289184,
          287304,
          290489,
          293414,
          293251,
          294453,
          289817,
          297240,
          298687,
          297555,
          295396,
          296870,
          292287,
          290619,
          285544,
          279340,
          281397
         ],
         "yaxis": "y"
        },
        {
         "hoverlabel": {
          "namelength": 0
         },
         "hovertemplate": "age_group=35-39<br>year=%{x}<br>Population=%{y}",
         "legendgroup": "35-39",
         "line": {
          "color": "#B6E880",
          "dash": "solid"
         },
         "mode": "lines",
         "name": "35-39",
         "showlegend": true,
         "type": "scattergl",
         "x": [
          1957,
          1958,
          1959,
          1960,
          1961,
          1962,
          1963,
          1964,
          1965,
          1966,
          1967,
          1968,
          1969,
          1970,
          1971,
          1972,
          1973,
          1974,
          1975,
          1976,
          1977,
          1978,
          1979,
          1980,
          1981,
          1982,
          1983,
          1984,
          1985,
          1986,
          1987,
          1988,
          1989,
          1990,
          1991,
          1992,
          1993,
          1994,
          1995,
          1996,
          1997,
          1998,
          1999,
          2000,
          2001,
          2002,
          2003,
          2004,
          2005,
          2006,
          2007,
          2008,
          2009,
          2010,
          2011,
          2012,
          2013,
          2014,
          2015,
          2016,
          2017,
          2018
         ],
         "xaxis": "x",
         "y": [
          82709,
          84300,
          85200,
          86400,
          86200,
          90600,
          93800,
          100200,
          104000,
          109200,
          111300,
          112100,
          111600,
          109044,
          115700,
          118000,
          119300,
          127500,
          134000,
          139000,
          142300,
          143000,
          142100,
          124696,
          124791,
          142046,
          160052,
          176996,
          200017,
          216639,
          222455,
          231250,
          241269,
          255993,
          269191,
          281688,
          291779,
          300134,
          307435,
          313267,
          315944,
          319207,
          322289,
          322621,
          322878,
          320753,
          310643,
          302908,
          299153,
          298203,
          301973,
          307243,
          317311,
          320024,
          316161,
          313970,
          305503,
          302029,
          301067,
          301998,
          300956,
          303720
         ],
         "yaxis": "y"
        },
        {
         "hoverlabel": {
          "namelength": 0
         },
         "hovertemplate": "age_group=40-44<br>year=%{x}<br>Population=%{y}",
         "legendgroup": "40-44",
         "line": {
          "color": "#FF97FF",
          "dash": "solid"
         },
         "mode": "lines",
         "name": "40-44",
         "showlegend": true,
         "type": "scattergl",
         "x": [
          1957,
          1958,
          1959,
          1960,
          1961,
          1962,
          1963,
          1964,
          1965,
          1966,
          1967,
          1968,
          1969,
          1970,
          1971,
          1972,
          1973,
          1974,
          1975,
          1976,
          1977,
          1978,
          1979,
          1980,
          1981,
          1982,
          1983,
          1984,
          1985,
          1986,
          1987,
          1988,
          1989,
          1990,
          1991,
          1992,
          1993,
          1994,
          1995,
          1996,
          1997,
          1998,
          1999,
          2000,
          2001,
          2002,
          2003,
          2004,
          2005,
          2006,
          2007,
          2008,
          2009,
          2010,
          2011,
          2012,
          2013,
          2014,
          2015,
          2016,
          2017,
          2018
         ],
         "xaxis": "x",
         "y": [
          76217,
          77500,
          79100,
          80500,
          83100,
          82400,
          83000,
          82700,
          84400,
          85000,
          87700,
          91900,
          96900,
          97975,
          104800,
          106300,
          107400,
          107600,
          110200,
          113200,
          114700,
          117100,
          125200,
          124089,
          129785,
          133404,
          134040,
          133379,
          126920,
          126839,
          144306,
          162501,
          179268,
          206063,
          224210,
          231002,
          240317,
          250783,
          260995,
          273687,
          286259,
          296756,
          305241,
          312420,
          317996,
          320863,
          318282,
          321057,
          321472,
          323017,
          321049,
          317363,
          312983,
          309441,
          306614,
          308823,
          312581,
          316023,
          316755,
          313445,
          311484,
          303640
         ],
         "yaxis": "y"
        },
        {
         "hoverlabel": {
          "namelength": 0
         },
         "hovertemplate": "age_group=45-49<br>year=%{x}<br>Population=%{y}",
         "legendgroup": "45-49",
         "line": {
          "color": "#FECB52",
          "dash": "solid"
         },
         "mode": "lines",
         "name": "45-49",
         "showlegend": true,
         "type": "scattergl",
         "x": [
          1957,
          1958,
          1959,
          1960,
          1961,
          1962,
          1963,
          1964,
          1965,
          1966,
          1967,
          1968,
          1969,
          1970,
          1971,
          1972,
          1973,
          1974,
          1975,
          1976,
          1977,
          1978,
          1979,
          1980,
          1981,
          1982,
          1983,
          1984,
          1985,
          1986,
          1987,
          1988,
          1989,
          1990,
          1991,
          1992,
          1993,
          1994,
          1995,
          1996,
          1997,
          1998,
          1999,
          2000,
          2001,
          2002,
          2003,
          2004,
          2005,
          2006,
          2007,
          2008,
          2009,
          2010,
          2011,
          2012,
          2013,
          2014,
          2015,
          2016,
          2017,
          2018
         ],
         "xaxis": "x",
         "y": [
          66716,
          69300,
          72400,
          74400,
          74300,
          75500,
          75900,
          77100,
          77200,
          80200,
          79800,
          80300,
          80800,
          79565,
          83400,
          85100,
          88700,
          92400,
          97000,
          100500,
          102400,
          103800,
          104300,
          102962,
          105940,
          106925,
          109166,
          116130,
          121343,
          128081,
          132431,
          133377,
          133293,
          128439,
          129003,
          147384,
          166333,
          183764,
          208086,
          225768,
          232425,
          241864,
          252282,
          262201,
          274569,
          286738,
          292791,
          300671,
          307546,
          312858,
          315552,
          318078,
          322497,
          323459,
          323991,
          320925,
          316336,
          308533,
          303413,
          301183,
          303457,
          307838
         ],
         "yaxis": "y"
        },
        {
         "hoverlabel": {
          "namelength": 0
         },
         "hovertemplate": "age_group=50-54<br>year=%{x}<br>Population=%{y}",
         "legendgroup": "50-54",
         "line": {
          "color": "#636efa",
          "dash": "solid"
         },
         "mode": "lines",
         "name": "50-54",
         "showlegend": true,
         "type": "scattergl",
         "x": [
          1957,
          1958,
          1959,
          1960,
          1961,
          1962,
          1963,
          1964,
          1965,
          1966,
          1967,
          1968,
          1969,
          1970,
          1971,
          1972,
          1973,
          1974,
          1975,
          1976,
          1977,
          1978,
          1979,
          1980,
          1981,
          1982,
          1983,
          1984,
          1985,
          1986,
          1987,
          1988,
          1989,
          1990,
          1991,
          1992,
          1993,
          1994,
          1995,
          1996,
          1997,
          1998,
          1999,
          2000,
          2001,
          2002,
          2003,
          2004,
          2005,
          2006,
          2007,
          2008,
          2009,
          2010,
          2011,
          2012,
          2013,
          2014,
          2015,
          2016,
          2017,
          2018
         ],
         "xaxis": "x",
         "y": [
          51794,
          54200,
          57300,
          59600,
          62600,
          65700,
          67100,
          68500,
          70700,
          70600,
          71800,
          73000,
          73400,
          69675,
          72700,
          73500,
          75200,
          75800,
          76900,
          78300,
          81100,
          84500,
          88700,
          90174,
          93659,
          95677,
          97297,
          98519,
          101946,
          104026,
          104197,
          106281,
          112410,
          118092,
          126491,
          131903,
          133399,
          133810,
          128067,
          128497,
          146577,
          165340,
          182738,
          206657,
          223842,
          230367,
          233180,
          244110,
          254168,
          266994,
          279220,
          289189,
          297383,
          303044,
          308130,
          310376,
          312988,
          315503,
          315091,
          315598,
          312814,
          308965
         ],
         "yaxis": "y"
        },
        {
         "hoverlabel": {
          "namelength": 0
         },
         "hovertemplate": "age_group=55-59<br>year=%{x}<br>Population=%{y}",
         "legendgroup": "55-59",
         "line": {
          "color": "#EF553B",
          "dash": "solid"
         },
         "mode": "lines",
         "name": "55-59",
         "showlegend": true,
         "type": "scattergl",
         "x": [
          1957,
          1958,
          1959,
          1960,
          1961,
          1962,
          1963,
          1964,
          1965,
          1966,
          1967,
          1968,
          1969,
          1970,
          1971,
          1972,
          1973,
          1974,
          1975,
          1976,
          1977,
          1978,
          1979,
          1980,
          1981,
          1982,
          1983,
          1984,
          1985,
          1986,
          1987,
          1988,
          1989,
          1990,
          1991,
          1992,
          1993,
          1994,
          1995,
          1996,
          1997,
          1998,
          1999,
          2000,
          2001,
          2002,
          2003,
          2004,
          2005,
          2006,
          2007,
          2008,
          2009,
          2010,
          2011,
          2012,
          2013,
          2014,
          2015,
          2016,
          2017,
          2018
         ],
         "xaxis": "x",
         "y": [
          37456,
          40400,
          42900,
          44700,
          45900,
          49600,
          51000,
          53700,
          54900,
          56600,
          60100,
          61400,
          63800,
          64035,
          64900,
          63400,
          63900,
          64700,
          66000,
          67700,
          68200,
          69600,
          70500,
          69447,
          71367,
          74667,
          78476,
          83008,
          87264,
          90347,
          92180,
          93737,
          95645,
          100102,
          101397,
          101227,
          103680,
          110128,
          115531,
          123751,
          129004,
          130334,
          130632,
          125061,
          125449,
          143175,
          157894,
          174788,
          197803,
          214601,
          220983,
          229356,
          239947,
          248696,
          260678,
          271817,
          281069,
          288392,
          295063,
          299591,
          301678,
          304390
         ],
         "yaxis": "y"
        },
        {
         "hoverlabel": {
          "namelength": 0
         },
         "hovertemplate": "age_group=60-64<br>year=%{x}<br>Population=%{y}",
         "legendgroup": "60-64",
         "line": {
          "color": "#00cc96",
          "dash": "solid"
         },
         "mode": "lines",
         "name": "60-64",
         "showlegend": true,
         "type": "scattergl",
         "x": [
          1957,
          1958,
          1959,
          1960,
          1961,
          1962,
          1963,
          1964,
          1965,
          1966,
          1967,
          1968,
          1969,
          1970,
          1971,
          1972,
          1973,
          1974,
          1975,
          1976,
          1977,
          1978,
          1979,
          1980,
          1981,
          1982,
          1983,
          1984,
          1985,
          1986,
          1987,
          1988,
          1989,
          1990,
          1991,
          1992,
          1993,
          1994,
          1995,
          1996,
          1997,
          1998,
          1999,
          2000,
          2001,
          2002,
          2003,
          2004,
          2005,
          2006,
          2007,
          2008,
          2009,
          2010,
          2011,
          2012,
          2013,
          2014,
          2015,
          2016,
          2017,
          2018
         ],
         "xaxis": "x",
         "y": [
          24276,
          25900,
          27300,
          28700,
          32200,
          33800,
          35600,
          38200,
          39700,
          41100,
          43800,
          45400,
          47400,
          47962,
          51800,
          54200,
          56100,
          57200,
          57500,
          57400,
          57100,
          57400,
          58300,
          58449,
          60091,
          61174,
          62661,
          64118,
          65303,
          67457,
          70741,
          74487,
          78731,
          83021,
          85729,
          87394,
          89063,
          91308,
          95327,
          96790,
          96766,
          99179,
          105370,
          110503,
          118506,
          123438,
          121724,
          122736,
          117575,
          118242,
          135501,
          153161,
          169696,
          191995,
          208160,
          213996,
          222154,
          231502,
          240493,
          251853,
          262651,
          271688
         ],
         "yaxis": "y"
        },
        {
         "hoverlabel": {
          "namelength": 0
         },
         "hovertemplate": "age_group=65-69<br>year=%{x}<br>Population=%{y}",
         "legendgroup": "65-69",
         "line": {
          "color": "#ab63fa",
          "dash": "solid"
         },
         "mode": "lines",
         "name": "65-69",
         "showlegend": true,
         "type": "scattergl",
         "x": [
          1957,
          1958,
          1959,
          1960,
          1961,
          1962,
          1963,
          1964,
          1965,
          1966,
          1967,
          1968,
          1969,
          1970,
          1971,
          1972,
          1973,
          1974,
          1975,
          1976,
          1977,
          1978,
          1979,
          1980,
          1981,
          1982,
          1983,
          1984,
          1985,
          1986,
          1987,
          1988,
          1989,
          1990,
          1991,
          1992,
          1993,
          1994,
          1995,
          1996,
          1997,
          1998,
          1999,
          2000,
          2001,
          2002,
          2003,
          2004,
          2005,
          2006,
          2007,
          2008,
          2009,
          2010,
          2011,
          2012,
          2013,
          2014,
          2015,
          2016,
          2017,
          2018
         ],
         "xaxis": "x",
         "y": [
          15399,
          17100,
          17800,
          18400,
          19000,
          20300,
          21600,
          22300,
          24000,
          25600,
          27900,
          30100,
          31800,
          32895,
          34400,
          36500,
          37600,
          40100,
          41400,
          44100,
          46300,
          47900,
          48900,
          48422,
          48441,
          48856,
          49603,
          50730,
          52298,
          53838,
          55177,
          56802,
          58298,
          59896,
          61988,
          65005,
          68521,
          72439,
          76092,
          78590,
          80325,
          82118,
          84390,
          88305,
          89676,
          89587,
          89883,
          96007,
          101088,
          108837,
          113757,
          115185,
          116258,
          111511,
          112396,
          128879,
          145817,
          161198,
          182425,
          198020,
          203969,
          212101
         ],
         "yaxis": "y"
        },
        {
         "hoverlabel": {
          "namelength": 0
         },
         "hovertemplate": "age_group=70-74<br>year=%{x}<br>Population=%{y}",
         "legendgroup": "70-74",
         "line": {
          "color": "#FFA15A",
          "dash": "solid"
         },
         "mode": "lines",
         "name": "70-74",
         "showlegend": true,
         "type": "scattergl",
         "x": [
          1957,
          1958,
          1959,
          1960,
          1961,
          1962,
          1963,
          1964,
          1965,
          1966,
          1967,
          1968,
          1969,
          1970,
          1971,
          1972,
          1973,
          1974,
          1975,
          1976,
          1977,
          1978,
          1979,
          1980,
          1981,
          1982,
          1983,
          1984,
          1985,
          1986,
          1987,
          1988,
          1989,
          1990,
          1991,
          1992,
          1993,
          1994,
          1995,
          1996,
          1997,
          1998,
          1999,
          2000,
          2001,
          2002,
          2003,
          2004,
          2005,
          2006,
          2007,
          2008,
          2009,
          2010,
          2011,
          2012,
          2013,
          2014,
          2015,
          2016,
          2017,
          2018
         ],
         "xaxis": "x",
         "y": [
          8774,
          8300,
          8950,
          9550,
          9900,
          10550,
          11100,
          11700,
          11950,
          12900,
          13350,
          13800,
          14350,
          18484,
          19650,
          21200,
          22850,
          24300,
          25050,
          26350,
          27400,
          29000,
          30450,
          32753,
          35064,
          37097,
          38666,
          39820,
          40673,
          40956,
          41727,
          42565,
          43497,
          45047,
          45868,
          46787,
          47988,
          49283,
          50597,
          52958,
          56176,
          59857,
          63592,
          66948,
          69048,
          70642,
          70002,
          72485,
          76545,
          78317,
          78631,
          81307,
          87428,
          92618,
          100073,
          104414,
          105746,
          106815,
          102631,
          103796,
          119494,
          135546
         ],
         "yaxis": "y"
        },
        {
         "hoverlabel": {
          "namelength": 0
         },
         "hovertemplate": "age_group=75-79<br>year=%{x}<br>Population=%{y}",
         "legendgroup": "75-79",
         "line": {
          "color": "#19d3f3",
          "dash": "solid"
         },
         "mode": "lines",
         "name": "75-79",
         "showlegend": true,
         "type": "scattergl",
         "x": [
          1957,
          1958,
          1959,
          1960,
          1961,
          1962,
          1963,
          1964,
          1965,
          1966,
          1967,
          1968,
          1969,
          1970,
          1971,
          1972,
          1973,
          1974,
          1975,
          1976,
          1977,
          1978,
          1979,
          1980,
          1981,
          1982,
          1983,
          1984,
          1985,
          1986,
          1987,
          1988,
          1989,
          1990,
          1991,
          1992,
          1993,
          1994,
          1995,
          1996,
          1997,
          1998,
          1999,
          2000,
          2001,
          2002,
          2003,
          2004,
          2005,
          2006,
          2007,
          2008,
          2009,
          2010,
          2011,
          2012,
          2013,
          2014,
          2015,
          2016,
          2017,
          2018
         ],
         "xaxis": "x",
         "y": [
          4225,
          4150,
          4475,
          4775,
          4950,
          5275,
          5550,
          5850,
          5975,
          6450,
          6675,
          6900,
          7175,
          10006,
          9825,
          10600,
          11425,
          12150,
          12525,
          13175,
          13700,
          14500,
          15225,
          18320,
          16910,
          17948,
          18957,
          19872,
          20840,
          21753,
          22889,
          23972,
          24939,
          32336,
          32476,
          32801,
          32967,
          33406,
          34179,
          34657,
          35440,
          36422,
          37951,
          39644,
          42501,
          45830,
          42863,
          47875,
          51601,
          54413,
          56732,
          59001,
          61490,
          65178,
          66909,
          67675,
          70619,
          76294,
          81211,
          87955,
          91953,
          93327
         ],
         "yaxis": "y"
        },
        {
         "hoverlabel": {
          "namelength": 0
         },
         "hovertemplate": "age_group=80-84<br>year=%{x}<br>Population=%{y}",
         "legendgroup": "80-84",
         "line": {
          "color": "#FF6692",
          "dash": "solid"
         },
         "mode": "lines",
         "name": "80-84",
         "showlegend": true,
         "type": "scattergl",
         "x": [
          1957,
          1958,
          1959,
          1960,
          1961,
          1962,
          1963,
          1964,
          1965,
          1966,
          1967,
          1968,
          1969,
          1970,
          1971,
          1972,
          1973,
          1974,
          1975,
          1976,
          1977,
          1978,
          1979,
          1980,
          1981,
          1982,
          1983,
          1984,
          1985,
          1986,
          1987,
          1988,
          1989,
          1990,
          1991,
          1992,
          1993,
          1994,
          1995,
          1996,
          1997,
          1998,
          1999,
          2000,
          2001,
          2002,
          2003,
          2004,
          2005,
          2006,
          2007,
          2008,
          2009,
          2010,
          2011,
          2012,
          2013,
          2014,
          2015,
          2016,
          2017,
          2018
         ],
         "xaxis": "x",
         "y": [
          1786,
          2074,
          2237,
          2388,
          2475,
          2639,
          2776,
          2926,
          2987,
          3225,
          3337,
          3450,
          3588,
          4405,
          4912,
          5299,
          5712,
          6074,
          6263,
          6587,
          6849,
          7249,
          7611,
          7905,
          8455,
          8974,
          9479,
          9936,
          10419,
          10877,
          11443,
          11986,
          12469,
          17526,
          18857,
          20031,
          20952,
          21461,
          21690,
          21751,
          21858,
          22094,
          22346,
          22876,
          23897,
          25213,
          25783,
          26864,
          27879,
          29443,
          31519,
          33882,
          37143,
          39839,
          42145,
          44115,
          46199,
          48418,
          51785,
          53556,
          54341,
          57103
         ],
         "yaxis": "y"
        },
        {
         "hoverlabel": {
          "namelength": 0
         },
         "hovertemplate": "age_group=>85<br>year=%{x}<br>Population=%{y}",
         "legendgroup": ">85",
         "line": {
          "color": "#B6E880",
          "dash": "solid"
         },
         "mode": "lines",
         "name": ">85",
         "showlegend": true,
         "type": "scattergl",
         "x": [
          1957,
          1958,
          1959,
          1960,
          1961,
          1962,
          1963,
          1964,
          1965,
          1966,
          1967,
          1968,
          1969,
          1970,
          1971,
          1972,
          1973,
          1974,
          1975,
          1976,
          1977,
          1978,
          1979,
          1980,
          1981,
          1982,
          1983,
          1984,
          1985,
          1986,
          1987,
          1988,
          1989,
          1990,
          1991,
          1992,
          1993,
          1994,
          1995,
          1996,
          1997,
          1998,
          1999,
          2000,
          2001,
          2002,
          2003,
          2004,
          2005,
          2006,
          2007,
          2008,
          2009,
          2010,
          2011,
          2012,
          2013,
          2014,
          2015,
          2016,
          2017,
          2018
         ],
         "xaxis": "x",
         "y": [
          877,
          2074,
          2237,
          2388,
          2475,
          2639,
          2776,
          2926,
          2987,
          3225,
          3337,
          3450,
          3588,
          4405,
          4912,
          5299,
          5712,
          6074,
          6263,
          6587,
          6849,
          7249,
          7611,
          4533,
          8455,
          8974,
          9479,
          9936,
          10419,
          10877,
          11443,
          11986,
          12469,
          9645,
          10340,
          11231,
          12253,
          13107,
          14116,
          14957,
          15935,
          16730,
          17182,
          17523,
          18517,
          19752,
          20107,
          21310,
          22580,
          23716,
          24947,
          26415,
          27813,
          29241,
          31122,
          33553,
          36056,
          38876,
          41663,
          44243,
          46935,
          49777
         ],
         "yaxis": "y"
        }
       ],
       "layout": {
        "legend": {
         "title": {
          "text": "age_group"
         },
         "tracegroupgap": 0
        },
        "margin": {
         "t": 60
        },
        "template": {
         "data": {
          "bar": [
           {
            "error_x": {
             "color": "#2a3f5f"
            },
            "error_y": {
             "color": "#2a3f5f"
            },
            "marker": {
             "line": {
              "color": "#E5ECF6",
              "width": 0.5
             }
            },
            "type": "bar"
           }
          ],
          "barpolar": [
           {
            "marker": {
             "line": {
              "color": "#E5ECF6",
              "width": 0.5
             }
            },
            "type": "barpolar"
           }
          ],
          "carpet": [
           {
            "aaxis": {
             "endlinecolor": "#2a3f5f",
             "gridcolor": "white",
             "linecolor": "white",
             "minorgridcolor": "white",
             "startlinecolor": "#2a3f5f"
            },
            "baxis": {
             "endlinecolor": "#2a3f5f",
             "gridcolor": "white",
             "linecolor": "white",
             "minorgridcolor": "white",
             "startlinecolor": "#2a3f5f"
            },
            "type": "carpet"
           }
          ],
          "choropleth": [
           {
            "colorbar": {
             "outlinewidth": 0,
             "ticks": ""
            },
            "type": "choropleth"
           }
          ],
          "contour": [
           {
            "colorbar": {
             "outlinewidth": 0,
             "ticks": ""
            },
            "colorscale": [
             [
              0,
              "#0d0887"
             ],
             [
              0.1111111111111111,
              "#46039f"
             ],
             [
              0.2222222222222222,
              "#7201a8"
             ],
             [
              0.3333333333333333,
              "#9c179e"
             ],
             [
              0.4444444444444444,
              "#bd3786"
             ],
             [
              0.5555555555555556,
              "#d8576b"
             ],
             [
              0.6666666666666666,
              "#ed7953"
             ],
             [
              0.7777777777777778,
              "#fb9f3a"
             ],
             [
              0.8888888888888888,
              "#fdca26"
             ],
             [
              1,
              "#f0f921"
             ]
            ],
            "type": "contour"
           }
          ],
          "contourcarpet": [
           {
            "colorbar": {
             "outlinewidth": 0,
             "ticks": ""
            },
            "type": "contourcarpet"
           }
          ],
          "heatmap": [
           {
            "colorbar": {
             "outlinewidth": 0,
             "ticks": ""
            },
            "colorscale": [
             [
              0,
              "#0d0887"
             ],
             [
              0.1111111111111111,
              "#46039f"
             ],
             [
              0.2222222222222222,
              "#7201a8"
             ],
             [
              0.3333333333333333,
              "#9c179e"
             ],
             [
              0.4444444444444444,
              "#bd3786"
             ],
             [
              0.5555555555555556,
              "#d8576b"
             ],
             [
              0.6666666666666666,
              "#ed7953"
             ],
             [
              0.7777777777777778,
              "#fb9f3a"
             ],
             [
              0.8888888888888888,
              "#fdca26"
             ],
             [
              1,
              "#f0f921"
             ]
            ],
            "type": "heatmap"
           }
          ],
          "heatmapgl": [
           {
            "colorbar": {
             "outlinewidth": 0,
             "ticks": ""
            },
            "colorscale": [
             [
              0,
              "#0d0887"
             ],
             [
              0.1111111111111111,
              "#46039f"
             ],
             [
              0.2222222222222222,
              "#7201a8"
             ],
             [
              0.3333333333333333,
              "#9c179e"
             ],
             [
              0.4444444444444444,
              "#bd3786"
             ],
             [
              0.5555555555555556,
              "#d8576b"
             ],
             [
              0.6666666666666666,
              "#ed7953"
             ],
             [
              0.7777777777777778,
              "#fb9f3a"
             ],
             [
              0.8888888888888888,
              "#fdca26"
             ],
             [
              1,
              "#f0f921"
             ]
            ],
            "type": "heatmapgl"
           }
          ],
          "histogram": [
           {
            "marker": {
             "colorbar": {
              "outlinewidth": 0,
              "ticks": ""
             }
            },
            "type": "histogram"
           }
          ],
          "histogram2d": [
           {
            "colorbar": {
             "outlinewidth": 0,
             "ticks": ""
            },
            "colorscale": [
             [
              0,
              "#0d0887"
             ],
             [
              0.1111111111111111,
              "#46039f"
             ],
             [
              0.2222222222222222,
              "#7201a8"
             ],
             [
              0.3333333333333333,
              "#9c179e"
             ],
             [
              0.4444444444444444,
              "#bd3786"
             ],
             [
              0.5555555555555556,
              "#d8576b"
             ],
             [
              0.6666666666666666,
              "#ed7953"
             ],
             [
              0.7777777777777778,
              "#fb9f3a"
             ],
             [
              0.8888888888888888,
              "#fdca26"
             ],
             [
              1,
              "#f0f921"
             ]
            ],
            "type": "histogram2d"
           }
          ],
          "histogram2dcontour": [
           {
            "colorbar": {
             "outlinewidth": 0,
             "ticks": ""
            },
            "colorscale": [
             [
              0,
              "#0d0887"
             ],
             [
              0.1111111111111111,
              "#46039f"
             ],
             [
              0.2222222222222222,
              "#7201a8"
             ],
             [
              0.3333333333333333,
              "#9c179e"
             ],
             [
              0.4444444444444444,
              "#bd3786"
             ],
             [
              0.5555555555555556,
              "#d8576b"
             ],
             [
              0.6666666666666666,
              "#ed7953"
             ],
             [
              0.7777777777777778,
              "#fb9f3a"
             ],
             [
              0.8888888888888888,
              "#fdca26"
             ],
             [
              1,
              "#f0f921"
             ]
            ],
            "type": "histogram2dcontour"
           }
          ],
          "mesh3d": [
           {
            "colorbar": {
             "outlinewidth": 0,
             "ticks": ""
            },
            "type": "mesh3d"
           }
          ],
          "parcoords": [
           {
            "line": {
             "colorbar": {
              "outlinewidth": 0,
              "ticks": ""
             }
            },
            "type": "parcoords"
           }
          ],
          "pie": [
           {
            "automargin": true,
            "type": "pie"
           }
          ],
          "scatter": [
           {
            "marker": {
             "colorbar": {
              "outlinewidth": 0,
              "ticks": ""
             }
            },
            "type": "scatter"
           }
          ],
          "scatter3d": [
           {
            "line": {
             "colorbar": {
              "outlinewidth": 0,
              "ticks": ""
             }
            },
            "marker": {
             "colorbar": {
              "outlinewidth": 0,
              "ticks": ""
             }
            },
            "type": "scatter3d"
           }
          ],
          "scattercarpet": [
           {
            "marker": {
             "colorbar": {
              "outlinewidth": 0,
              "ticks": ""
             }
            },
            "type": "scattercarpet"
           }
          ],
          "scattergeo": [
           {
            "marker": {
             "colorbar": {
              "outlinewidth": 0,
              "ticks": ""
             }
            },
            "type": "scattergeo"
           }
          ],
          "scattergl": [
           {
            "marker": {
             "colorbar": {
              "outlinewidth": 0,
              "ticks": ""
             }
            },
            "type": "scattergl"
           }
          ],
          "scattermapbox": [
           {
            "marker": {
             "colorbar": {
              "outlinewidth": 0,
              "ticks": ""
             }
            },
            "type": "scattermapbox"
           }
          ],
          "scatterpolar": [
           {
            "marker": {
             "colorbar": {
              "outlinewidth": 0,
              "ticks": ""
             }
            },
            "type": "scatterpolar"
           }
          ],
          "scatterpolargl": [
           {
            "marker": {
             "colorbar": {
              "outlinewidth": 0,
              "ticks": ""
             }
            },
            "type": "scatterpolargl"
           }
          ],
          "scatterternary": [
           {
            "marker": {
             "colorbar": {
              "outlinewidth": 0,
              "ticks": ""
             }
            },
            "type": "scatterternary"
           }
          ],
          "surface": [
           {
            "colorbar": {
             "outlinewidth": 0,
             "ticks": ""
            },
            "colorscale": [
             [
              0,
              "#0d0887"
             ],
             [
              0.1111111111111111,
              "#46039f"
             ],
             [
              0.2222222222222222,
              "#7201a8"
             ],
             [
              0.3333333333333333,
              "#9c179e"
             ],
             [
              0.4444444444444444,
              "#bd3786"
             ],
             [
              0.5555555555555556,
              "#d8576b"
             ],
             [
              0.6666666666666666,
              "#ed7953"
             ],
             [
              0.7777777777777778,
              "#fb9f3a"
             ],
             [
              0.8888888888888888,
              "#fdca26"
             ],
             [
              1,
              "#f0f921"
             ]
            ],
            "type": "surface"
           }
          ],
          "table": [
           {
            "cells": {
             "fill": {
              "color": "#EBF0F8"
             },
             "line": {
              "color": "white"
             }
            },
            "header": {
             "fill": {
              "color": "#C8D4E3"
             },
             "line": {
              "color": "white"
             }
            },
            "type": "table"
           }
          ]
         },
         "layout": {
          "annotationdefaults": {
           "arrowcolor": "#2a3f5f",
           "arrowhead": 0,
           "arrowwidth": 1
          },
          "coloraxis": {
           "colorbar": {
            "outlinewidth": 0,
            "ticks": ""
           }
          },
          "colorscale": {
           "diverging": [
            [
             0,
             "#8e0152"
            ],
            [
             0.1,
             "#c51b7d"
            ],
            [
             0.2,
             "#de77ae"
            ],
            [
             0.3,
             "#f1b6da"
            ],
            [
             0.4,
             "#fde0ef"
            ],
            [
             0.5,
             "#f7f7f7"
            ],
            [
             0.6,
             "#e6f5d0"
            ],
            [
             0.7,
             "#b8e186"
            ],
            [
             0.8,
             "#7fbc41"
            ],
            [
             0.9,
             "#4d9221"
            ],
            [
             1,
             "#276419"
            ]
           ],
           "sequential": [
            [
             0,
             "#0d0887"
            ],
            [
             0.1111111111111111,
             "#46039f"
            ],
            [
             0.2222222222222222,
             "#7201a8"
            ],
            [
             0.3333333333333333,
             "#9c179e"
            ],
            [
             0.4444444444444444,
             "#bd3786"
            ],
            [
             0.5555555555555556,
             "#d8576b"
            ],
            [
             0.6666666666666666,
             "#ed7953"
            ],
            [
             0.7777777777777778,
             "#fb9f3a"
            ],
            [
             0.8888888888888888,
             "#fdca26"
            ],
            [
             1,
             "#f0f921"
            ]
           ],
           "sequentialminus": [
            [
             0,
             "#0d0887"
            ],
            [
             0.1111111111111111,
             "#46039f"
            ],
            [
             0.2222222222222222,
             "#7201a8"
            ],
            [
             0.3333333333333333,
             "#9c179e"
            ],
            [
             0.4444444444444444,
             "#bd3786"
            ],
            [
             0.5555555555555556,
             "#d8576b"
            ],
            [
             0.6666666666666666,
             "#ed7953"
            ],
            [
             0.7777777777777778,
             "#fb9f3a"
            ],
            [
             0.8888888888888888,
             "#fdca26"
            ],
            [
             1,
             "#f0f921"
            ]
           ]
          },
          "colorway": [
           "#636efa",
           "#EF553B",
           "#00cc96",
           "#ab63fa",
           "#FFA15A",
           "#19d3f3",
           "#FF6692",
           "#B6E880",
           "#FF97FF",
           "#FECB52"
          ],
          "font": {
           "color": "#2a3f5f"
          },
          "geo": {
           "bgcolor": "white",
           "lakecolor": "white",
           "landcolor": "#E5ECF6",
           "showlakes": true,
           "showland": true,
           "subunitcolor": "white"
          },
          "hoverlabel": {
           "align": "left"
          },
          "hovermode": "closest",
          "mapbox": {
           "style": "light"
          },
          "paper_bgcolor": "white",
          "plot_bgcolor": "#E5ECF6",
          "polar": {
           "angularaxis": {
            "gridcolor": "white",
            "linecolor": "white",
            "ticks": ""
           },
           "bgcolor": "#E5ECF6",
           "radialaxis": {
            "gridcolor": "white",
            "linecolor": "white",
            "ticks": ""
           }
          },
          "scene": {
           "xaxis": {
            "backgroundcolor": "#E5ECF6",
            "gridcolor": "white",
            "gridwidth": 2,
            "linecolor": "white",
            "showbackground": true,
            "ticks": "",
            "zerolinecolor": "white"
           },
           "yaxis": {
            "backgroundcolor": "#E5ECF6",
            "gridcolor": "white",
            "gridwidth": 2,
            "linecolor": "white",
            "showbackground": true,
            "ticks": "",
            "zerolinecolor": "white"
           },
           "zaxis": {
            "backgroundcolor": "#E5ECF6",
            "gridcolor": "white",
            "gridwidth": 2,
            "linecolor": "white",
            "showbackground": true,
            "ticks": "",
            "zerolinecolor": "white"
           }
          },
          "shapedefaults": {
           "line": {
            "color": "#2a3f5f"
           }
          },
          "ternary": {
           "aaxis": {
            "gridcolor": "white",
            "linecolor": "white",
            "ticks": ""
           },
           "baxis": {
            "gridcolor": "white",
            "linecolor": "white",
            "ticks": ""
           },
           "bgcolor": "#E5ECF6",
           "caxis": {
            "gridcolor": "white",
            "linecolor": "white",
            "ticks": ""
           }
          },
          "title": {
           "x": 0.05
          },
          "xaxis": {
           "automargin": true,
           "gridcolor": "white",
           "linecolor": "white",
           "ticks": "",
           "title": {
            "standoff": 15
           },
           "zerolinecolor": "white",
           "zerolinewidth": 2
          },
          "yaxis": {
           "automargin": true,
           "gridcolor": "white",
           "linecolor": "white",
           "ticks": "",
           "title": {
            "standoff": 15
           },
           "zerolinecolor": "white",
           "zerolinewidth": 2
          }
         }
        },
        "xaxis": {
         "anchor": "y",
         "domain": [
          0,
          1
         ],
         "title": {
          "text": "year"
         }
        },
        "yaxis": {
         "anchor": "x",
         "domain": [
          0,
          1
         ],
         "title": {
          "text": "Population"
         }
        }
       }
      },
      "text/html": [
       "<div>\n",
       "        \n",
       "        \n",
       "            <div id=\"1abbc2e7-4db9-42d3-9ea0-3cbb91f0cb56\" class=\"plotly-graph-div\" style=\"height:525px; width:100%;\"></div>\n",
       "            <script type=\"text/javascript\">\n",
       "                require([\"plotly\"], function(Plotly) {\n",
       "                    window.PLOTLYENV=window.PLOTLYENV || {};\n",
       "                    \n",
       "                if (document.getElementById(\"1abbc2e7-4db9-42d3-9ea0-3cbb91f0cb56\")) {\n",
       "                    Plotly.newPlot(\n",
       "                        '1abbc2e7-4db9-42d3-9ea0-3cbb91f0cb56',\n",
       "                        [{\"hoverlabel\": {\"namelength\": 0}, \"hovertemplate\": \"age_group=0-4<br>year=%{x}<br>Population=%{y}\", \"legendgroup\": \"0-4\", \"line\": {\"color\": \"#636efa\", \"dash\": \"solid\"}, \"mode\": \"lines\", \"name\": \"0-4\", \"showlegend\": true, \"type\": \"scattergl\", \"x\": [1957, 1958, 1959, 1960, 1961, 1962, 1963, 1964, 1965, 1966, 1967, 1968, 1969, 1970, 1971, 1972, 1973, 1974, 1975, 1976, 1977, 1978, 1979, 1980, 1981, 1982, 1983, 1984, 1985, 1986, 1987, 1988, 1989, 1990, 1991, 1992, 1993, 1994, 1995, 1996, 1997, 1998, 1999, 2000, 2001, 2002, 2003, 2004, 2005, 2006, 2007, 2008, 2009, 2010, 2011, 2012, 2013, 2014, 2015, 2016, 2017, 2018], \"xaxis\": \"x\", \"y\": [264727.0, 277800.0, 288800.0, 297000.0, 303700.0, 306100.0, 303000.0, 299900.0, 293500.0, 289600.0, 283100.0, 272800.0, 257900.0, 230165.0, 228200.0, 226000.0, 227200.0, 227800.0, 228000.0, 221300.0, 215100.0, 204200.0, 198000.0, 185840.0, 189138.0, 191964.0, 197759.0, 199148.0, 203346.0, 202257.0, 200069.0, 204866.0, 216688.0, 224049.0, 235518.0, 245752.0, 248771.0, 247022.0, 248090.0, 245147.0, 243259.0, 240072.0, 232615.0, 225705.0, 222991.0, 217798.0, 209903.0, 204819.0, 199529.0, 194479.0, 193626.0, 193889.0, 197788.0, 194432.0, 188249.0, 186673.0, 183295.0, 181369.0, 183575.0, 187160.0, 187653.0, 185528.0], \"yaxis\": \"y\"}, {\"hoverlabel\": {\"namelength\": 0}, \"hovertemplate\": \"age_group=5-9<br>year=%{x}<br>Population=%{y}\", \"legendgroup\": \"5-9\", \"line\": {\"color\": \"#EF553B\", \"dash\": \"solid\"}, \"mode\": \"lines\", \"name\": \"5-9\", \"showlegend\": true, \"type\": \"scattergl\", \"x\": [1957, 1958, 1959, 1960, 1961, 1962, 1963, 1964, 1965, 1966, 1967, 1968, 1969, 1970, 1971, 1972, 1973, 1974, 1975, 1976, 1977, 1978, 1979, 1980, 1981, 1982, 1983, 1984, 1985, 1986, 1987, 1988, 1989, 1990, 1991, 1992, 1993, 1994, 1995, 1996, 1997, 1998, 1999, 2000, 2001, 2002, 2003, 2004, 2005, 2006, 2007, 2008, 2009, 2010, 2011, 2012, 2013, 2014, 2015, 2016, 2017, 2018], \"xaxis\": \"x\", \"y\": [218097.0, 229600.0, 241000.0, 250300.0, 258900.0, 266700.0, 276000.0, 284000.0, 291100.0, 297600.0, 300300.0, 297900.0, 295100.0, 273997.0, 276700.0, 269500.0, 260000.0, 247000.0, 234300.0, 227300.0, 224500.0, 225200.0, 225400.0, 216630.0, 211665.0, 206599.0, 197475.0, 193391.0, 192040.0, 194844.0, 196553.0, 201533.0, 202072.0, 205628.0, 205808.0, 204724.0, 210359.0, 223823.0, 230583.0, 242271.0, 253311.0, 257440.0, 256148.0, 256574.0, 254077.0, 253192.0, 247044.0, 240517.0, 237237.0, 235204.0, 229541.0, 223622.0, 221435.0, 215675.0, 208119.0, 206324.0, 205704.0, 205790.0, 204452.0, 201509.0, 200575.0, 199066.0], \"yaxis\": \"y\"}, {\"hoverlabel\": {\"namelength\": 0}, \"hovertemplate\": \"age_group=10-14<br>year=%{x}<br>Population=%{y}\", \"legendgroup\": \"10-14\", \"line\": {\"color\": \"#00cc96\", \"dash\": \"solid\"}, \"mode\": \"lines\", \"name\": \"10-14\", \"showlegend\": true, \"type\": \"scattergl\", \"x\": [1957, 1958, 1959, 1960, 1961, 1962, 1963, 1964, 1965, 1966, 1967, 1968, 1969, 1970, 1971, 1972, 1973, 1974, 1975, 1976, 1977, 1978, 1979, 1980, 1981, 1982, 1983, 1984, 1985, 1986, 1987, 1988, 1989, 1990, 1991, 1992, 1993, 1994, 1995, 1996, 1997, 1998, 1999, 2000, 2001, 2002, 2003, 2004, 2005, 2006, 2007, 2008, 2009, 2010, 2011, 2012, 2013, 2014, 2015, 2016, 2017, 2018], \"xaxis\": \"x\", \"y\": [136280.0, 157100.0, 175700.0, 200300.0, 217400.0, 223900.0, 232000.0, 240200.0, 248500.0, 257300.0, 265100.0, 273900.0, 282000.0, 283627.0, 292200.0, 292600.0, 290500.0, 289700.0, 283600.0, 277900.0, 269700.0, 259500.0, 246300.0, 228146.0, 221174.0, 218444.0, 219605.0, 220588.0, 219365.0, 214517.0, 209844.0, 201049.0, 197204.0, 198476.0, 201155.0, 202170.0, 206698.0, 207032.0, 209584.0, 209323.0, 208389.0, 214443.0, 228190.0, 235352.0, 246972.0, 257692.0, 259124.0, 257283.0, 258553.0, 256482.0, 255292.0, 253796.0, 248628.0, 244302.0, 240536.0, 233320.0, 226244.0, 220796.0, 214388.0, 207495.0, 206253.0, 206530.0], \"yaxis\": \"y\"}, {\"hoverlabel\": {\"namelength\": 0}, \"hovertemplate\": \"age_group=15-19<br>year=%{x}<br>Population=%{y}\", \"legendgroup\": \"15-19\", \"line\": {\"color\": \"#ab63fa\", \"dash\": \"solid\"}, \"mode\": \"lines\", \"name\": \"15-19\", \"showlegend\": true, \"type\": \"scattergl\", \"x\": [1957, 1958, 1959, 1960, 1961, 1962, 1963, 1964, 1965, 1966, 1967, 1968, 1969, 1970, 1971, 1972, 1973, 1974, 1975, 1976, 1977, 1978, 1979, 1980, 1981, 1982, 1983, 1984, 1985, 1986, 1987, 1988, 1989, 1990, 1991, 1992, 1993, 1994, 1995, 1996, 1997, 1998, 1999, 2000, 2001, 2002, 2003, 2004, 2005, 2006, 2007, 2008, 2009, 2010, 2011, 2012, 2013, 2014, 2015, 2016, 2017, 2018], \"xaxis\": \"x\", \"y\": [135679.0, 134300.0, 131500.0, 124700.0, 124900.0, 140000.0, 159000.0, 175800.0, 198600.0, 215200.0, 222500.0, 229800.0, 238700.0, 240682.0, 256000.0, 268300.0, 278000.0, 285000.0, 292800.0, 296200.0, 296900.0, 295900.0, 293900.0, 270536.0, 266011.0, 259173.0, 250371.0, 238083.0, 227897.0, 220939.0, 218542.0, 220242.0, 221947.0, 223305.0, 218158.0, 213332.0, 204086.0, 200002.0, 199899.0, 202379.0, 203430.0, 208282.0, 208601.0, 211286.0, 210903.0, 209687.0, 214074.0, 227417.0, 234921.0, 246547.0, 257298.0, 262856.0, 262775.0, 263750.0, 260738.0, 258861.0, 255066.0, 247337.0, 242902.0, 239771.0, 232973.0, 226520.0], \"yaxis\": \"y\"}, {\"hoverlabel\": {\"namelength\": 0}, \"hovertemplate\": \"age_group=20-24<br>year=%{x}<br>Population=%{y}\", \"legendgroup\": \"20-24\", \"line\": {\"color\": \"#FFA15A\", \"dash\": \"solid\"}, \"mode\": \"lines\", \"name\": \"20-24\", \"showlegend\": true, \"type\": \"scattergl\", \"x\": [1957, 1958, 1959, 1960, 1961, 1962, 1963, 1964, 1965, 1966, 1967, 1968, 1969, 1970, 1971, 1972, 1973, 1974, 1975, 1976, 1977, 1978, 1979, 1980, 1981, 1982, 1983, 1984, 1985, 1986, 1987, 1988, 1989, 1990, 1991, 1992, 1993, 1994, 1995, 1996, 1997, 1998, 1999, 2000, 2001, 2002, 2003, 2004, 2005, 2006, 2007, 2008, 2009, 2010, 2011, 2012, 2013, 2014, 2015, 2016, 2017, 2018], \"xaxis\": \"x\", \"y\": [119266.0, 124900.0, 133100.0, 139500.0, 142500.0, 139400.0, 135200.0, 130500.0, 123800.0, 123200.0, 138800.0, 158000.0, 174500.0, 193974.0, 220100.0, 225800.0, 233400.0, 241900.0, 249600.0, 260100.0, 272000.0, 281400.0, 289000.0, 272178.0, 278080.0, 278979.0, 278287.0, 276698.0, 271687.0, 266601.0, 259416.0, 251276.0, 239559.0, 238987.0, 234659.0, 234805.0, 237868.0, 239253.0, 237426.0, 231765.0, 226764.0, 217261.0, 213032.0, 212236.0, 214636.0, 216313.0, 215412.0, 215217.0, 218951.0, 219631.0, 218485.0, 225385.0, 241753.0, 247190.0, 255069.0, 264506.0, 266889.0, 263918.0, 264127.0, 260854.0, 259072.0, 255516.0], \"yaxis\": \"y\"}, {\"hoverlabel\": {\"namelength\": 0}, \"hovertemplate\": \"age_group=25-29<br>year=%{x}<br>Population=%{y}\", \"legendgroup\": \"25-29\", \"line\": {\"color\": \"#19d3f3\", \"dash\": \"solid\"}, \"mode\": \"lines\", \"name\": \"25-29\", \"showlegend\": true, \"type\": \"scattergl\", \"x\": [1957, 1958, 1959, 1960, 1961, 1962, 1963, 1964, 1965, 1966, 1967, 1968, 1969, 1970, 1971, 1972, 1973, 1974, 1975, 1976, 1977, 1978, 1979, 1980, 1981, 1982, 1983, 1984, 1985, 1986, 1987, 1988, 1989, 1990, 1991, 1992, 1993, 1994, 1995, 1996, 1997, 1998, 1999, 2000, 2001, 2002, 2003, 2004, 2005, 2006, 2007, 2008, 2009, 2010, 2011, 2012, 2013, 2014, 2015, 2016, 2017, 2018], \"xaxis\": \"x\", \"y\": [111726.0, 114700.0, 115100.0, 116200.0, 119600.0, 122100.0, 125000.0, 132000.0, 137900.0, 140000.0, 138400.0, 134200.0, 129000.0, 124587.0, 132400.0, 148200.0, 166800.0, 183400.0, 207100.0, 223800.0, 229000.0, 236700.0, 244900.0, 232795.0, 245845.0, 259250.0, 270328.0, 278708.0, 285241.0, 288791.0, 288082.0, 287140.0, 285964.0, 290940.0, 289840.0, 286491.0, 281790.0, 273264.0, 267011.0, 263480.0, 264770.0, 268517.0, 270217.0, 267161.0, 262754.0, 262720.0, 250878.0, 246713.0, 247799.0, 251659.0, 254523.0, 263114.0, 274308.0, 272639.0, 262606.0, 254582.0, 255615.0, 265659.0, 271030.0, 279988.0, 290198.0, 291631.0], \"yaxis\": \"y\"}, {\"hoverlabel\": {\"namelength\": 0}, \"hovertemplate\": \"age_group=30-34<br>year=%{x}<br>Population=%{y}\", \"legendgroup\": \"30-34\", \"line\": {\"color\": \"#FF6692\", \"dash\": \"solid\"}, \"mode\": \"lines\", \"name\": \"30-34\", \"showlegend\": true, \"type\": \"scattergl\", \"x\": [1957, 1958, 1959, 1960, 1961, 1962, 1963, 1964, 1965, 1966, 1967, 1968, 1969, 1970, 1971, 1972, 1973, 1974, 1975, 1976, 1977, 1978, 1979, 1980, 1981, 1982, 1983, 1984, 1985, 1986, 1987, 1988, 1989, 1990, 1991, 1992, 1993, 1994, 1995, 1996, 1997, 1998, 1999, 2000, 2001, 2002, 2003, 2004, 2005, 2006, 2007, 2008, 2009, 2010, 2011, 2012, 2013, 2014, 2015, 2016, 2017, 2018], \"xaxis\": \"x\", \"y\": [89925.0, 95100.0, 102100.0, 106600.0, 112300.0, 113000.0, 114600.0, 113100.0, 114700.0, 117400.0, 120300.0, 123600.0, 130900.0, 130130.0, 140300.0, 142600.0, 143200.0, 141100.0, 134100.0, 133800.0, 151200.0, 169400.0, 187100.0, 194250.0, 210778.0, 216756.0, 225225.0, 234720.0, 244605.0, 256413.0, 268322.0, 278032.0, 285530.0, 298323.0, 304022.0, 306029.0, 307730.0, 309334.0, 308825.0, 309093.0, 306774.0, 304104.0, 296867.0, 290290.0, 286690.0, 289184.0, 287304.0, 290489.0, 293414.0, 293251.0, 294453.0, 289817.0, 297240.0, 298687.0, 297555.0, 295396.0, 296870.0, 292287.0, 290619.0, 285544.0, 279340.0, 281397.0], \"yaxis\": \"y\"}, {\"hoverlabel\": {\"namelength\": 0}, \"hovertemplate\": \"age_group=35-39<br>year=%{x}<br>Population=%{y}\", \"legendgroup\": \"35-39\", \"line\": {\"color\": \"#B6E880\", \"dash\": \"solid\"}, \"mode\": \"lines\", \"name\": \"35-39\", \"showlegend\": true, \"type\": \"scattergl\", \"x\": [1957, 1958, 1959, 1960, 1961, 1962, 1963, 1964, 1965, 1966, 1967, 1968, 1969, 1970, 1971, 1972, 1973, 1974, 1975, 1976, 1977, 1978, 1979, 1980, 1981, 1982, 1983, 1984, 1985, 1986, 1987, 1988, 1989, 1990, 1991, 1992, 1993, 1994, 1995, 1996, 1997, 1998, 1999, 2000, 2001, 2002, 2003, 2004, 2005, 2006, 2007, 2008, 2009, 2010, 2011, 2012, 2013, 2014, 2015, 2016, 2017, 2018], \"xaxis\": \"x\", \"y\": [82709.0, 84300.0, 85200.0, 86400.0, 86200.0, 90600.0, 93800.0, 100200.0, 104000.0, 109200.0, 111300.0, 112100.0, 111600.0, 109044.0, 115700.0, 118000.0, 119300.0, 127500.0, 134000.0, 139000.0, 142300.0, 143000.0, 142100.0, 124696.0, 124791.0, 142046.0, 160052.0, 176996.0, 200017.0, 216639.0, 222455.0, 231250.0, 241269.0, 255993.0, 269191.0, 281688.0, 291779.0, 300134.0, 307435.0, 313267.0, 315944.0, 319207.0, 322289.0, 322621.0, 322878.0, 320753.0, 310643.0, 302908.0, 299153.0, 298203.0, 301973.0, 307243.0, 317311.0, 320024.0, 316161.0, 313970.0, 305503.0, 302029.0, 301067.0, 301998.0, 300956.0, 303720.0], \"yaxis\": \"y\"}, {\"hoverlabel\": {\"namelength\": 0}, \"hovertemplate\": \"age_group=40-44<br>year=%{x}<br>Population=%{y}\", \"legendgroup\": \"40-44\", \"line\": {\"color\": \"#FF97FF\", \"dash\": \"solid\"}, \"mode\": \"lines\", \"name\": \"40-44\", \"showlegend\": true, \"type\": \"scattergl\", \"x\": [1957, 1958, 1959, 1960, 1961, 1962, 1963, 1964, 1965, 1966, 1967, 1968, 1969, 1970, 1971, 1972, 1973, 1974, 1975, 1976, 1977, 1978, 1979, 1980, 1981, 1982, 1983, 1984, 1985, 1986, 1987, 1988, 1989, 1990, 1991, 1992, 1993, 1994, 1995, 1996, 1997, 1998, 1999, 2000, 2001, 2002, 2003, 2004, 2005, 2006, 2007, 2008, 2009, 2010, 2011, 2012, 2013, 2014, 2015, 2016, 2017, 2018], \"xaxis\": \"x\", \"y\": [76217.0, 77500.0, 79100.0, 80500.0, 83100.0, 82400.0, 83000.0, 82700.0, 84400.0, 85000.0, 87700.0, 91900.0, 96900.0, 97975.0, 104800.0, 106300.0, 107400.0, 107600.0, 110200.0, 113200.0, 114700.0, 117100.0, 125200.0, 124089.0, 129785.0, 133404.0, 134040.0, 133379.0, 126920.0, 126839.0, 144306.0, 162501.0, 179268.0, 206063.0, 224210.0, 231002.0, 240317.0, 250783.0, 260995.0, 273687.0, 286259.0, 296756.0, 305241.0, 312420.0, 317996.0, 320863.0, 318282.0, 321057.0, 321472.0, 323017.0, 321049.0, 317363.0, 312983.0, 309441.0, 306614.0, 308823.0, 312581.0, 316023.0, 316755.0, 313445.0, 311484.0, 303640.0], \"yaxis\": \"y\"}, {\"hoverlabel\": {\"namelength\": 0}, \"hovertemplate\": \"age_group=45-49<br>year=%{x}<br>Population=%{y}\", \"legendgroup\": \"45-49\", \"line\": {\"color\": \"#FECB52\", \"dash\": \"solid\"}, \"mode\": \"lines\", \"name\": \"45-49\", \"showlegend\": true, \"type\": \"scattergl\", \"x\": [1957, 1958, 1959, 1960, 1961, 1962, 1963, 1964, 1965, 1966, 1967, 1968, 1969, 1970, 1971, 1972, 1973, 1974, 1975, 1976, 1977, 1978, 1979, 1980, 1981, 1982, 1983, 1984, 1985, 1986, 1987, 1988, 1989, 1990, 1991, 1992, 1993, 1994, 1995, 1996, 1997, 1998, 1999, 2000, 2001, 2002, 2003, 2004, 2005, 2006, 2007, 2008, 2009, 2010, 2011, 2012, 2013, 2014, 2015, 2016, 2017, 2018], \"xaxis\": \"x\", \"y\": [66716.0, 69300.0, 72400.0, 74400.0, 74300.0, 75500.0, 75900.0, 77100.0, 77200.0, 80200.0, 79800.0, 80300.0, 80800.0, 79565.0, 83400.0, 85100.0, 88700.0, 92400.0, 97000.0, 100500.0, 102400.0, 103800.0, 104300.0, 102962.0, 105940.0, 106925.0, 109166.0, 116130.0, 121343.0, 128081.0, 132431.0, 133377.0, 133293.0, 128439.0, 129003.0, 147384.0, 166333.0, 183764.0, 208086.0, 225768.0, 232425.0, 241864.0, 252282.0, 262201.0, 274569.0, 286738.0, 292791.0, 300671.0, 307546.0, 312858.0, 315552.0, 318078.0, 322497.0, 323459.0, 323991.0, 320925.0, 316336.0, 308533.0, 303413.0, 301183.0, 303457.0, 307838.0], \"yaxis\": \"y\"}, {\"hoverlabel\": {\"namelength\": 0}, \"hovertemplate\": \"age_group=50-54<br>year=%{x}<br>Population=%{y}\", \"legendgroup\": \"50-54\", \"line\": {\"color\": \"#636efa\", \"dash\": \"solid\"}, \"mode\": \"lines\", \"name\": \"50-54\", \"showlegend\": true, \"type\": \"scattergl\", \"x\": [1957, 1958, 1959, 1960, 1961, 1962, 1963, 1964, 1965, 1966, 1967, 1968, 1969, 1970, 1971, 1972, 1973, 1974, 1975, 1976, 1977, 1978, 1979, 1980, 1981, 1982, 1983, 1984, 1985, 1986, 1987, 1988, 1989, 1990, 1991, 1992, 1993, 1994, 1995, 1996, 1997, 1998, 1999, 2000, 2001, 2002, 2003, 2004, 2005, 2006, 2007, 2008, 2009, 2010, 2011, 2012, 2013, 2014, 2015, 2016, 2017, 2018], \"xaxis\": \"x\", \"y\": [51794.0, 54200.0, 57300.0, 59600.0, 62600.0, 65700.0, 67100.0, 68500.0, 70700.0, 70600.0, 71800.0, 73000.0, 73400.0, 69675.0, 72700.0, 73500.0, 75200.0, 75800.0, 76900.0, 78300.0, 81100.0, 84500.0, 88700.0, 90174.0, 93659.0, 95677.0, 97297.0, 98519.0, 101946.0, 104026.0, 104197.0, 106281.0, 112410.0, 118092.0, 126491.0, 131903.0, 133399.0, 133810.0, 128067.0, 128497.0, 146577.0, 165340.0, 182738.0, 206657.0, 223842.0, 230367.0, 233180.0, 244110.0, 254168.0, 266994.0, 279220.0, 289189.0, 297383.0, 303044.0, 308130.0, 310376.0, 312988.0, 315503.0, 315091.0, 315598.0, 312814.0, 308965.0], \"yaxis\": \"y\"}, {\"hoverlabel\": {\"namelength\": 0}, \"hovertemplate\": \"age_group=55-59<br>year=%{x}<br>Population=%{y}\", \"legendgroup\": \"55-59\", \"line\": {\"color\": \"#EF553B\", \"dash\": \"solid\"}, \"mode\": \"lines\", \"name\": \"55-59\", \"showlegend\": true, \"type\": \"scattergl\", \"x\": [1957, 1958, 1959, 1960, 1961, 1962, 1963, 1964, 1965, 1966, 1967, 1968, 1969, 1970, 1971, 1972, 1973, 1974, 1975, 1976, 1977, 1978, 1979, 1980, 1981, 1982, 1983, 1984, 1985, 1986, 1987, 1988, 1989, 1990, 1991, 1992, 1993, 1994, 1995, 1996, 1997, 1998, 1999, 2000, 2001, 2002, 2003, 2004, 2005, 2006, 2007, 2008, 2009, 2010, 2011, 2012, 2013, 2014, 2015, 2016, 2017, 2018], \"xaxis\": \"x\", \"y\": [37456.0, 40400.0, 42900.0, 44700.0, 45900.0, 49600.0, 51000.0, 53700.0, 54900.0, 56600.0, 60100.0, 61400.0, 63800.0, 64035.0, 64900.0, 63400.0, 63900.0, 64700.0, 66000.0, 67700.0, 68200.0, 69600.0, 70500.0, 69447.0, 71367.0, 74667.0, 78476.0, 83008.0, 87264.0, 90347.0, 92180.0, 93737.0, 95645.0, 100102.0, 101397.0, 101227.0, 103680.0, 110128.0, 115531.0, 123751.0, 129004.0, 130334.0, 130632.0, 125061.0, 125449.0, 143175.0, 157894.0, 174788.0, 197803.0, 214601.0, 220983.0, 229356.0, 239947.0, 248696.0, 260678.0, 271817.0, 281069.0, 288392.0, 295063.0, 299591.0, 301678.0, 304390.0], \"yaxis\": \"y\"}, {\"hoverlabel\": {\"namelength\": 0}, \"hovertemplate\": \"age_group=60-64<br>year=%{x}<br>Population=%{y}\", \"legendgroup\": \"60-64\", \"line\": {\"color\": \"#00cc96\", \"dash\": \"solid\"}, \"mode\": \"lines\", \"name\": \"60-64\", \"showlegend\": true, \"type\": \"scattergl\", \"x\": [1957, 1958, 1959, 1960, 1961, 1962, 1963, 1964, 1965, 1966, 1967, 1968, 1969, 1970, 1971, 1972, 1973, 1974, 1975, 1976, 1977, 1978, 1979, 1980, 1981, 1982, 1983, 1984, 1985, 1986, 1987, 1988, 1989, 1990, 1991, 1992, 1993, 1994, 1995, 1996, 1997, 1998, 1999, 2000, 2001, 2002, 2003, 2004, 2005, 2006, 2007, 2008, 2009, 2010, 2011, 2012, 2013, 2014, 2015, 2016, 2017, 2018], \"xaxis\": \"x\", \"y\": [24276.0, 25900.0, 27300.0, 28700.0, 32200.0, 33800.0, 35600.0, 38200.0, 39700.0, 41100.0, 43800.0, 45400.0, 47400.0, 47962.0, 51800.0, 54200.0, 56100.0, 57200.0, 57500.0, 57400.0, 57100.0, 57400.0, 58300.0, 58449.0, 60091.0, 61174.0, 62661.0, 64118.0, 65303.0, 67457.0, 70741.0, 74487.0, 78731.0, 83021.0, 85729.0, 87394.0, 89063.0, 91308.0, 95327.0, 96790.0, 96766.0, 99179.0, 105370.0, 110503.0, 118506.0, 123438.0, 121724.0, 122736.0, 117575.0, 118242.0, 135501.0, 153161.0, 169696.0, 191995.0, 208160.0, 213996.0, 222154.0, 231502.0, 240493.0, 251853.0, 262651.0, 271688.0], \"yaxis\": \"y\"}, {\"hoverlabel\": {\"namelength\": 0}, \"hovertemplate\": \"age_group=65-69<br>year=%{x}<br>Population=%{y}\", \"legendgroup\": \"65-69\", \"line\": {\"color\": \"#ab63fa\", \"dash\": \"solid\"}, \"mode\": \"lines\", \"name\": \"65-69\", \"showlegend\": true, \"type\": \"scattergl\", \"x\": [1957, 1958, 1959, 1960, 1961, 1962, 1963, 1964, 1965, 1966, 1967, 1968, 1969, 1970, 1971, 1972, 1973, 1974, 1975, 1976, 1977, 1978, 1979, 1980, 1981, 1982, 1983, 1984, 1985, 1986, 1987, 1988, 1989, 1990, 1991, 1992, 1993, 1994, 1995, 1996, 1997, 1998, 1999, 2000, 2001, 2002, 2003, 2004, 2005, 2006, 2007, 2008, 2009, 2010, 2011, 2012, 2013, 2014, 2015, 2016, 2017, 2018], \"xaxis\": \"x\", \"y\": [15399.0, 17100.0, 17800.0, 18400.0, 19000.0, 20300.0, 21600.0, 22300.0, 24000.0, 25600.0, 27900.0, 30100.0, 31800.0, 32895.0, 34400.0, 36500.0, 37600.0, 40100.0, 41400.0, 44100.0, 46300.0, 47900.0, 48900.0, 48422.0, 48441.0, 48856.0, 49603.0, 50730.0, 52298.0, 53838.0, 55177.0, 56802.0, 58298.0, 59896.0, 61988.0, 65005.0, 68521.0, 72439.0, 76092.0, 78590.0, 80325.0, 82118.0, 84390.0, 88305.0, 89676.0, 89587.0, 89883.0, 96007.0, 101088.0, 108837.0, 113757.0, 115185.0, 116258.0, 111511.0, 112396.0, 128879.0, 145817.0, 161198.0, 182425.0, 198020.0, 203969.0, 212101.0], \"yaxis\": \"y\"}, {\"hoverlabel\": {\"namelength\": 0}, \"hovertemplate\": \"age_group=70-74<br>year=%{x}<br>Population=%{y}\", \"legendgroup\": \"70-74\", \"line\": {\"color\": \"#FFA15A\", \"dash\": \"solid\"}, \"mode\": \"lines\", \"name\": \"70-74\", \"showlegend\": true, \"type\": \"scattergl\", \"x\": [1957, 1958, 1959, 1960, 1961, 1962, 1963, 1964, 1965, 1966, 1967, 1968, 1969, 1970, 1971, 1972, 1973, 1974, 1975, 1976, 1977, 1978, 1979, 1980, 1981, 1982, 1983, 1984, 1985, 1986, 1987, 1988, 1989, 1990, 1991, 1992, 1993, 1994, 1995, 1996, 1997, 1998, 1999, 2000, 2001, 2002, 2003, 2004, 2005, 2006, 2007, 2008, 2009, 2010, 2011, 2012, 2013, 2014, 2015, 2016, 2017, 2018], \"xaxis\": \"x\", \"y\": [8774.0, 8300.0, 8950.0, 9550.0, 9900.0, 10550.0, 11100.0, 11700.0, 11950.0, 12900.0, 13350.0, 13800.0, 14350.0, 18484.0, 19650.0, 21200.0, 22850.0, 24300.0, 25050.0, 26350.0, 27400.0, 29000.0, 30450.0, 32753.0, 35064.0, 37097.0, 38666.0, 39820.0, 40673.0, 40956.0, 41727.0, 42565.0, 43497.0, 45047.0, 45868.0, 46787.0, 47988.0, 49283.0, 50597.0, 52958.0, 56176.0, 59857.0, 63592.0, 66948.0, 69048.0, 70642.0, 70002.0, 72485.0, 76545.0, 78317.0, 78631.0, 81307.0, 87428.0, 92618.0, 100073.0, 104414.0, 105746.0, 106815.0, 102631.0, 103796.0, 119494.0, 135546.0], \"yaxis\": \"y\"}, {\"hoverlabel\": {\"namelength\": 0}, \"hovertemplate\": \"age_group=75-79<br>year=%{x}<br>Population=%{y}\", \"legendgroup\": \"75-79\", \"line\": {\"color\": \"#19d3f3\", \"dash\": \"solid\"}, \"mode\": \"lines\", \"name\": \"75-79\", \"showlegend\": true, \"type\": \"scattergl\", \"x\": [1957, 1958, 1959, 1960, 1961, 1962, 1963, 1964, 1965, 1966, 1967, 1968, 1969, 1970, 1971, 1972, 1973, 1974, 1975, 1976, 1977, 1978, 1979, 1980, 1981, 1982, 1983, 1984, 1985, 1986, 1987, 1988, 1989, 1990, 1991, 1992, 1993, 1994, 1995, 1996, 1997, 1998, 1999, 2000, 2001, 2002, 2003, 2004, 2005, 2006, 2007, 2008, 2009, 2010, 2011, 2012, 2013, 2014, 2015, 2016, 2017, 2018], \"xaxis\": \"x\", \"y\": [4225.0, 4150.0, 4475.0, 4775.0, 4950.0, 5275.0, 5550.0, 5850.0, 5975.0, 6450.0, 6675.0, 6900.0, 7175.0, 10006.0, 9825.0, 10600.0, 11425.0, 12150.0, 12525.0, 13175.0, 13700.0, 14500.0, 15225.0, 18320.0, 16910.0, 17948.0, 18957.0, 19872.0, 20840.0, 21753.0, 22889.0, 23972.0, 24939.0, 32336.0, 32476.0, 32801.0, 32967.0, 33406.0, 34179.0, 34657.0, 35440.0, 36422.0, 37951.0, 39644.0, 42501.0, 45830.0, 42863.0, 47875.0, 51601.0, 54413.0, 56732.0, 59001.0, 61490.0, 65178.0, 66909.0, 67675.0, 70619.0, 76294.0, 81211.0, 87955.0, 91953.0, 93327.0], \"yaxis\": \"y\"}, {\"hoverlabel\": {\"namelength\": 0}, \"hovertemplate\": \"age_group=80-84<br>year=%{x}<br>Population=%{y}\", \"legendgroup\": \"80-84\", \"line\": {\"color\": \"#FF6692\", \"dash\": \"solid\"}, \"mode\": \"lines\", \"name\": \"80-84\", \"showlegend\": true, \"type\": \"scattergl\", \"x\": [1957, 1958, 1959, 1960, 1961, 1962, 1963, 1964, 1965, 1966, 1967, 1968, 1969, 1970, 1971, 1972, 1973, 1974, 1975, 1976, 1977, 1978, 1979, 1980, 1981, 1982, 1983, 1984, 1985, 1986, 1987, 1988, 1989, 1990, 1991, 1992, 1993, 1994, 1995, 1996, 1997, 1998, 1999, 2000, 2001, 2002, 2003, 2004, 2005, 2006, 2007, 2008, 2009, 2010, 2011, 2012, 2013, 2014, 2015, 2016, 2017, 2018], \"xaxis\": \"x\", \"y\": [1786.0, 2074.0, 2237.0, 2388.0, 2475.0, 2639.0, 2776.0, 2926.0, 2987.0, 3225.0, 3337.0, 3450.0, 3588.0, 4405.0, 4912.0, 5299.0, 5712.0, 6074.0, 6263.0, 6587.0, 6849.0, 7249.0, 7611.0, 7905.0, 8455.0, 8974.0, 9479.0, 9936.0, 10419.0, 10877.0, 11443.0, 11986.0, 12469.0, 17526.0, 18857.0, 20031.0, 20952.0, 21461.0, 21690.0, 21751.0, 21858.0, 22094.0, 22346.0, 22876.0, 23897.0, 25213.0, 25783.0, 26864.0, 27879.0, 29443.0, 31519.0, 33882.0, 37143.0, 39839.0, 42145.0, 44115.0, 46199.0, 48418.0, 51785.0, 53556.0, 54341.0, 57103.0], \"yaxis\": \"y\"}, {\"hoverlabel\": {\"namelength\": 0}, \"hovertemplate\": \"age_group=>85<br>year=%{x}<br>Population=%{y}\", \"legendgroup\": \">85\", \"line\": {\"color\": \"#B6E880\", \"dash\": \"solid\"}, \"mode\": \"lines\", \"name\": \">85\", \"showlegend\": true, \"type\": \"scattergl\", \"x\": [1957, 1958, 1959, 1960, 1961, 1962, 1963, 1964, 1965, 1966, 1967, 1968, 1969, 1970, 1971, 1972, 1973, 1974, 1975, 1976, 1977, 1978, 1979, 1980, 1981, 1982, 1983, 1984, 1985, 1986, 1987, 1988, 1989, 1990, 1991, 1992, 1993, 1994, 1995, 1996, 1997, 1998, 1999, 2000, 2001, 2002, 2003, 2004, 2005, 2006, 2007, 2008, 2009, 2010, 2011, 2012, 2013, 2014, 2015, 2016, 2017, 2018], \"xaxis\": \"x\", \"y\": [877.0, 2074.0, 2237.0, 2388.0, 2475.0, 2639.0, 2776.0, 2926.0, 2987.0, 3225.0, 3337.0, 3450.0, 3588.0, 4405.0, 4912.0, 5299.0, 5712.0, 6074.0, 6263.0, 6587.0, 6849.0, 7249.0, 7611.0, 4533.0, 8455.0, 8974.0, 9479.0, 9936.0, 10419.0, 10877.0, 11443.0, 11986.0, 12469.0, 9645.0, 10340.0, 11231.0, 12253.0, 13107.0, 14116.0, 14957.0, 15935.0, 16730.0, 17182.0, 17523.0, 18517.0, 19752.0, 20107.0, 21310.0, 22580.0, 23716.0, 24947.0, 26415.0, 27813.0, 29241.0, 31122.0, 33553.0, 36056.0, 38876.0, 41663.0, 44243.0, 46935.0, 49777.0], \"yaxis\": \"y\"}],\n",
       "                        {\"legend\": {\"title\": {\"text\": \"age_group\"}, \"tracegroupgap\": 0}, \"margin\": {\"t\": 60}, \"template\": {\"data\": {\"bar\": [{\"error_x\": {\"color\": \"#2a3f5f\"}, \"error_y\": {\"color\": \"#2a3f5f\"}, \"marker\": {\"line\": {\"color\": \"#E5ECF6\", \"width\": 0.5}}, \"type\": \"bar\"}], \"barpolar\": [{\"marker\": {\"line\": {\"color\": \"#E5ECF6\", \"width\": 0.5}}, \"type\": \"barpolar\"}], \"carpet\": [{\"aaxis\": {\"endlinecolor\": \"#2a3f5f\", \"gridcolor\": \"white\", \"linecolor\": \"white\", \"minorgridcolor\": \"white\", \"startlinecolor\": \"#2a3f5f\"}, \"baxis\": {\"endlinecolor\": \"#2a3f5f\", \"gridcolor\": \"white\", \"linecolor\": \"white\", \"minorgridcolor\": \"white\", \"startlinecolor\": \"#2a3f5f\"}, \"type\": \"carpet\"}], \"choropleth\": [{\"colorbar\": {\"outlinewidth\": 0, \"ticks\": \"\"}, \"type\": \"choropleth\"}], \"contour\": [{\"colorbar\": {\"outlinewidth\": 0, \"ticks\": \"\"}, \"colorscale\": [[0.0, \"#0d0887\"], [0.1111111111111111, \"#46039f\"], [0.2222222222222222, \"#7201a8\"], [0.3333333333333333, \"#9c179e\"], [0.4444444444444444, \"#bd3786\"], [0.5555555555555556, \"#d8576b\"], [0.6666666666666666, \"#ed7953\"], [0.7777777777777778, \"#fb9f3a\"], [0.8888888888888888, \"#fdca26\"], [1.0, \"#f0f921\"]], \"type\": \"contour\"}], \"contourcarpet\": [{\"colorbar\": {\"outlinewidth\": 0, \"ticks\": \"\"}, \"type\": \"contourcarpet\"}], \"heatmap\": [{\"colorbar\": {\"outlinewidth\": 0, \"ticks\": \"\"}, \"colorscale\": [[0.0, \"#0d0887\"], [0.1111111111111111, \"#46039f\"], [0.2222222222222222, \"#7201a8\"], [0.3333333333333333, \"#9c179e\"], [0.4444444444444444, \"#bd3786\"], [0.5555555555555556, \"#d8576b\"], [0.6666666666666666, \"#ed7953\"], [0.7777777777777778, \"#fb9f3a\"], [0.8888888888888888, \"#fdca26\"], [1.0, \"#f0f921\"]], \"type\": \"heatmap\"}], \"heatmapgl\": [{\"colorbar\": {\"outlinewidth\": 0, \"ticks\": \"\"}, \"colorscale\": [[0.0, \"#0d0887\"], [0.1111111111111111, \"#46039f\"], [0.2222222222222222, \"#7201a8\"], [0.3333333333333333, \"#9c179e\"], [0.4444444444444444, \"#bd3786\"], [0.5555555555555556, \"#d8576b\"], [0.6666666666666666, \"#ed7953\"], [0.7777777777777778, \"#fb9f3a\"], [0.8888888888888888, \"#fdca26\"], [1.0, \"#f0f921\"]], \"type\": \"heatmapgl\"}], \"histogram\": [{\"marker\": {\"colorbar\": {\"outlinewidth\": 0, \"ticks\": \"\"}}, \"type\": \"histogram\"}], \"histogram2d\": [{\"colorbar\": {\"outlinewidth\": 0, \"ticks\": \"\"}, \"colorscale\": [[0.0, \"#0d0887\"], [0.1111111111111111, \"#46039f\"], [0.2222222222222222, \"#7201a8\"], [0.3333333333333333, \"#9c179e\"], [0.4444444444444444, \"#bd3786\"], [0.5555555555555556, \"#d8576b\"], [0.6666666666666666, \"#ed7953\"], [0.7777777777777778, \"#fb9f3a\"], [0.8888888888888888, \"#fdca26\"], [1.0, \"#f0f921\"]], \"type\": \"histogram2d\"}], \"histogram2dcontour\": [{\"colorbar\": {\"outlinewidth\": 0, \"ticks\": \"\"}, \"colorscale\": [[0.0, \"#0d0887\"], [0.1111111111111111, \"#46039f\"], [0.2222222222222222, \"#7201a8\"], [0.3333333333333333, \"#9c179e\"], [0.4444444444444444, \"#bd3786\"], [0.5555555555555556, \"#d8576b\"], [0.6666666666666666, \"#ed7953\"], [0.7777777777777778, \"#fb9f3a\"], [0.8888888888888888, \"#fdca26\"], [1.0, \"#f0f921\"]], \"type\": \"histogram2dcontour\"}], \"mesh3d\": [{\"colorbar\": {\"outlinewidth\": 0, \"ticks\": \"\"}, \"type\": \"mesh3d\"}], \"parcoords\": [{\"line\": {\"colorbar\": {\"outlinewidth\": 0, \"ticks\": \"\"}}, \"type\": \"parcoords\"}], \"pie\": [{\"automargin\": true, \"type\": \"pie\"}], \"scatter\": [{\"marker\": {\"colorbar\": {\"outlinewidth\": 0, \"ticks\": \"\"}}, \"type\": \"scatter\"}], \"scatter3d\": [{\"line\": {\"colorbar\": {\"outlinewidth\": 0, \"ticks\": \"\"}}, \"marker\": {\"colorbar\": {\"outlinewidth\": 0, \"ticks\": \"\"}}, \"type\": \"scatter3d\"}], \"scattercarpet\": [{\"marker\": {\"colorbar\": {\"outlinewidth\": 0, \"ticks\": \"\"}}, \"type\": \"scattercarpet\"}], \"scattergeo\": [{\"marker\": {\"colorbar\": {\"outlinewidth\": 0, \"ticks\": \"\"}}, \"type\": \"scattergeo\"}], \"scattergl\": [{\"marker\": {\"colorbar\": {\"outlinewidth\": 0, \"ticks\": \"\"}}, \"type\": \"scattergl\"}], \"scattermapbox\": [{\"marker\": {\"colorbar\": {\"outlinewidth\": 0, \"ticks\": \"\"}}, \"type\": \"scattermapbox\"}], \"scatterpolar\": [{\"marker\": {\"colorbar\": {\"outlinewidth\": 0, \"ticks\": \"\"}}, \"type\": \"scatterpolar\"}], \"scatterpolargl\": [{\"marker\": {\"colorbar\": {\"outlinewidth\": 0, \"ticks\": \"\"}}, \"type\": \"scatterpolargl\"}], \"scatterternary\": [{\"marker\": {\"colorbar\": {\"outlinewidth\": 0, \"ticks\": \"\"}}, \"type\": \"scatterternary\"}], \"surface\": [{\"colorbar\": {\"outlinewidth\": 0, \"ticks\": \"\"}, \"colorscale\": [[0.0, \"#0d0887\"], [0.1111111111111111, \"#46039f\"], [0.2222222222222222, \"#7201a8\"], [0.3333333333333333, \"#9c179e\"], [0.4444444444444444, \"#bd3786\"], [0.5555555555555556, \"#d8576b\"], [0.6666666666666666, \"#ed7953\"], [0.7777777777777778, \"#fb9f3a\"], [0.8888888888888888, \"#fdca26\"], [1.0, \"#f0f921\"]], \"type\": \"surface\"}], \"table\": [{\"cells\": {\"fill\": {\"color\": \"#EBF0F8\"}, \"line\": {\"color\": \"white\"}}, \"header\": {\"fill\": {\"color\": \"#C8D4E3\"}, \"line\": {\"color\": \"white\"}}, \"type\": \"table\"}]}, \"layout\": {\"annotationdefaults\": {\"arrowcolor\": \"#2a3f5f\", \"arrowhead\": 0, \"arrowwidth\": 1}, \"coloraxis\": {\"colorbar\": {\"outlinewidth\": 0, \"ticks\": \"\"}}, \"colorscale\": {\"diverging\": [[0, \"#8e0152\"], [0.1, \"#c51b7d\"], [0.2, \"#de77ae\"], [0.3, \"#f1b6da\"], [0.4, \"#fde0ef\"], [0.5, \"#f7f7f7\"], [0.6, \"#e6f5d0\"], [0.7, \"#b8e186\"], [0.8, \"#7fbc41\"], [0.9, \"#4d9221\"], [1, \"#276419\"]], \"sequential\": [[0.0, \"#0d0887\"], [0.1111111111111111, \"#46039f\"], [0.2222222222222222, \"#7201a8\"], [0.3333333333333333, \"#9c179e\"], [0.4444444444444444, \"#bd3786\"], [0.5555555555555556, \"#d8576b\"], [0.6666666666666666, \"#ed7953\"], [0.7777777777777778, \"#fb9f3a\"], [0.8888888888888888, \"#fdca26\"], [1.0, \"#f0f921\"]], \"sequentialminus\": [[0.0, \"#0d0887\"], [0.1111111111111111, \"#46039f\"], [0.2222222222222222, \"#7201a8\"], [0.3333333333333333, \"#9c179e\"], [0.4444444444444444, \"#bd3786\"], [0.5555555555555556, \"#d8576b\"], [0.6666666666666666, \"#ed7953\"], [0.7777777777777778, \"#fb9f3a\"], [0.8888888888888888, \"#fdca26\"], [1.0, \"#f0f921\"]]}, \"colorway\": [\"#636efa\", \"#EF553B\", \"#00cc96\", \"#ab63fa\", \"#FFA15A\", \"#19d3f3\", \"#FF6692\", \"#B6E880\", \"#FF97FF\", \"#FECB52\"], \"font\": {\"color\": \"#2a3f5f\"}, \"geo\": {\"bgcolor\": \"white\", \"lakecolor\": \"white\", \"landcolor\": \"#E5ECF6\", \"showlakes\": true, \"showland\": true, \"subunitcolor\": \"white\"}, \"hoverlabel\": {\"align\": \"left\"}, \"hovermode\": \"closest\", \"mapbox\": {\"style\": \"light\"}, \"paper_bgcolor\": \"white\", \"plot_bgcolor\": \"#E5ECF6\", \"polar\": {\"angularaxis\": {\"gridcolor\": \"white\", \"linecolor\": \"white\", \"ticks\": \"\"}, \"bgcolor\": \"#E5ECF6\", \"radialaxis\": {\"gridcolor\": \"white\", \"linecolor\": \"white\", \"ticks\": \"\"}}, \"scene\": {\"xaxis\": {\"backgroundcolor\": \"#E5ECF6\", \"gridcolor\": \"white\", \"gridwidth\": 2, \"linecolor\": \"white\", \"showbackground\": true, \"ticks\": \"\", \"zerolinecolor\": \"white\"}, \"yaxis\": {\"backgroundcolor\": \"#E5ECF6\", \"gridcolor\": \"white\", \"gridwidth\": 2, \"linecolor\": \"white\", \"showbackground\": true, \"ticks\": \"\", \"zerolinecolor\": \"white\"}, \"zaxis\": {\"backgroundcolor\": \"#E5ECF6\", \"gridcolor\": \"white\", \"gridwidth\": 2, \"linecolor\": \"white\", \"showbackground\": true, \"ticks\": \"\", \"zerolinecolor\": \"white\"}}, \"shapedefaults\": {\"line\": {\"color\": \"#2a3f5f\"}}, \"ternary\": {\"aaxis\": {\"gridcolor\": \"white\", \"linecolor\": \"white\", \"ticks\": \"\"}, \"baxis\": {\"gridcolor\": \"white\", \"linecolor\": \"white\", \"ticks\": \"\"}, \"bgcolor\": \"#E5ECF6\", \"caxis\": {\"gridcolor\": \"white\", \"linecolor\": \"white\", \"ticks\": \"\"}}, \"title\": {\"x\": 0.05}, \"xaxis\": {\"automargin\": true, \"gridcolor\": \"white\", \"linecolor\": \"white\", \"ticks\": \"\", \"title\": {\"standoff\": 15}, \"zerolinecolor\": \"white\", \"zerolinewidth\": 2}, \"yaxis\": {\"automargin\": true, \"gridcolor\": \"white\", \"linecolor\": \"white\", \"ticks\": \"\", \"title\": {\"standoff\": 15}, \"zerolinecolor\": \"white\", \"zerolinewidth\": 2}}}, \"xaxis\": {\"anchor\": \"y\", \"domain\": [0.0, 1.0], \"title\": {\"text\": \"year\"}}, \"yaxis\": {\"anchor\": \"x\", \"domain\": [0.0, 1.0], \"title\": {\"text\": \"Population\"}}},\n",
       "                        {\"responsive\": true}\n",
       "                    ).then(function(){\n",
       "                            \n",
       "var gd = document.getElementById('1abbc2e7-4db9-42d3-9ea0-3cbb91f0cb56');\n",
       "var x = new MutationObserver(function (mutations, observer) {{\n",
       "        var display = window.getComputedStyle(gd).display;\n",
       "        if (!display || display === 'none') {{\n",
       "            console.log([gd, 'removed!']);\n",
       "            Plotly.purge(gd);\n",
       "            observer.disconnect();\n",
       "        }}\n",
       "}});\n",
       "\n",
       "// Listen for the removal of the full notebook cells\n",
       "var notebookContainer = gd.closest('#notebook-container');\n",
       "if (notebookContainer) {{\n",
       "    x.observe(notebookContainer, {childList: true});\n",
       "}}\n",
       "\n",
       "// Listen for the clearing of the current output cell\n",
       "var outputEl = gd.closest('.output');\n",
       "if (outputEl) {{\n",
       "    x.observe(outputEl, {childList: true});\n",
       "}}\n",
       "\n",
       "                        })\n",
       "                };\n",
       "                });\n",
       "            </script>\n",
       "        </div>"
      ]
     },
     "metadata": {},
     "output_type": "display_data"
    }
   ],
   "source": [
    "#We can see that major population growth in singapore happened during 1990 \n",
    "#Which explains its new found status in 1990 as one of the world's most prosperous nations, with a highly developed free market economy, strong international trading links\n",
    "#Also while singapore population is increasing we can see dip in child population in the recent years\n",
    "fig2 = px.line(df_year_ag, x=\"year\", y=\"Population\", color='age_group')\n",
    "fig2.show()"
   ]
  },
  {
   "cell_type": "code",
   "execution_count": 56,
   "metadata": {},
   "outputs": [],
   "source": [
    "#new datframe with year, Gender and population\n",
    "df_year_g = pd.DataFrame(columns=['year','Gender','Population'])"
   ]
  },
  {
   "cell_type": "code",
   "execution_count": 57,
   "metadata": {},
   "outputs": [],
   "source": [
    "#determining population by Gender in each year\n",
    "for i in year_list:\n",
    "    for g in gender_list:\n",
    "        pop = df[(df['year']==i)&(df['Ethinicity']=='Mixed')&(df['Gender']==g)]['value'].sum()\n",
    "        df_year_g = df_year_g.append({'year':i,'Gender':g,'Population':pop},ignore_index=True)"
   ]
  },
  {
   "cell_type": "code",
   "execution_count": 58,
   "metadata": {},
   "outputs": [
    {
     "data": {
      "text/html": [
       "<div>\n",
       "<style scoped>\n",
       "    .dataframe tbody tr th:only-of-type {\n",
       "        vertical-align: middle;\n",
       "    }\n",
       "\n",
       "    .dataframe tbody tr th {\n",
       "        vertical-align: top;\n",
       "    }\n",
       "\n",
       "    .dataframe thead th {\n",
       "        text-align: right;\n",
       "    }\n",
       "</style>\n",
       "<table border=\"1\" class=\"dataframe\">\n",
       "  <thead>\n",
       "    <tr style=\"text-align: right;\">\n",
       "      <th></th>\n",
       "      <th>year</th>\n",
       "      <th>Gender</th>\n",
       "      <th>Population</th>\n",
       "    </tr>\n",
       "  </thead>\n",
       "  <tbody>\n",
       "    <tr>\n",
       "      <th>0</th>\n",
       "      <td>1957</td>\n",
       "      <td>Mixed</td>\n",
       "      <td>1445929.0</td>\n",
       "    </tr>\n",
       "    <tr>\n",
       "      <th>1</th>\n",
       "      <td>1957</td>\n",
       "      <td>Male</td>\n",
       "      <td>762760.0</td>\n",
       "    </tr>\n",
       "    <tr>\n",
       "      <th>2</th>\n",
       "      <td>1957</td>\n",
       "      <td>Female</td>\n",
       "      <td>683169.0</td>\n",
       "    </tr>\n",
       "    <tr>\n",
       "      <th>3</th>\n",
       "      <td>1958</td>\n",
       "      <td>Mixed</td>\n",
       "      <td>1518800.0</td>\n",
       "    </tr>\n",
       "    <tr>\n",
       "      <th>4</th>\n",
       "      <td>1958</td>\n",
       "      <td>Male</td>\n",
       "      <td>797601.0</td>\n",
       "    </tr>\n",
       "    <tr>\n",
       "      <th>...</th>\n",
       "      <td>...</td>\n",
       "      <td>...</td>\n",
       "      <td>...</td>\n",
       "    </tr>\n",
       "    <tr>\n",
       "      <th>181</th>\n",
       "      <td>2017</td>\n",
       "      <td>Male</td>\n",
       "      <td>1943545.0</td>\n",
       "    </tr>\n",
       "    <tr>\n",
       "      <th>182</th>\n",
       "      <td>2017</td>\n",
       "      <td>Female</td>\n",
       "      <td>2022251.0</td>\n",
       "    </tr>\n",
       "    <tr>\n",
       "      <th>183</th>\n",
       "      <td>2018</td>\n",
       "      <td>Mixed</td>\n",
       "      <td>3994283.0</td>\n",
       "    </tr>\n",
       "    <tr>\n",
       "      <th>184</th>\n",
       "      <td>2018</td>\n",
       "      <td>Male</td>\n",
       "      <td>1955838.0</td>\n",
       "    </tr>\n",
       "    <tr>\n",
       "      <th>185</th>\n",
       "      <td>2018</td>\n",
       "      <td>Female</td>\n",
       "      <td>2038445.0</td>\n",
       "    </tr>\n",
       "  </tbody>\n",
       "</table>\n",
       "<p>186 rows × 3 columns</p>\n",
       "</div>"
      ],
      "text/plain": [
       "     year  Gender  Population\n",
       "0    1957   Mixed   1445929.0\n",
       "1    1957    Male    762760.0\n",
       "2    1957  Female    683169.0\n",
       "3    1958   Mixed   1518800.0\n",
       "4    1958    Male    797601.0\n",
       "..    ...     ...         ...\n",
       "181  2017    Male   1943545.0\n",
       "182  2017  Female   2022251.0\n",
       "183  2018   Mixed   3994283.0\n",
       "184  2018    Male   1955838.0\n",
       "185  2018  Female   2038445.0\n",
       "\n",
       "[186 rows x 3 columns]"
      ]
     },
     "execution_count": 58,
     "metadata": {},
     "output_type": "execute_result"
    }
   ],
   "source": [
    "df_year_g"
   ]
  },
  {
   "cell_type": "code",
   "execution_count": 61,
   "metadata": {},
   "outputs": [
    {
     "data": {
      "application/vnd.plotly.v1+json": {
       "config": {
        "plotlyServerURL": "https://plot.ly"
       },
       "data": [
        {
         "hoverlabel": {
          "namelength": 0
         },
         "hovertemplate": "Gender=Mixed<br>year=%{x}<br>Population=%{y}",
         "legendgroup": "Mixed",
         "line": {
          "color": "#636efa",
          "dash": "solid"
         },
         "mode": "lines",
         "name": "Mixed",
         "showlegend": true,
         "type": "scatter",
         "x": [
          1957,
          1958,
          1959,
          1960,
          1961,
          1962,
          1963,
          1964,
          1965,
          1966,
          1967,
          1968,
          1969,
          1970,
          1971,
          1972,
          1973,
          1974,
          1975,
          1976,
          1977,
          1978,
          1979,
          1980,
          1981,
          1982,
          1983,
          1984,
          1985,
          1986,
          1987,
          1988,
          1989,
          1990,
          1991,
          1992,
          1993,
          1994,
          1995,
          1996,
          1997,
          1998,
          1999,
          2000,
          2001,
          2002,
          2003,
          2004,
          2005,
          2006,
          2007,
          2008,
          2009,
          2010,
          2011,
          2012,
          2013,
          2014,
          2015,
          2016,
          2017,
          2018
         ],
         "xaxis": "x",
         "y": [
          1445929,
          1518800,
          1587201,
          1646401,
          1702400,
          1750201,
          1795000,
          1841600,
          1886901,
          1934400,
          1977601,
          2012000,
          2042501,
          2015615,
          2112899,
          2152400,
          2192999,
          2229800,
          2262599,
          2293301,
          2325300,
          2353600,
          2383499,
          2282125,
          2325649,
          2366908,
          2406916,
          2443779,
          2481612,
          2516048,
          2549814,
          2593081,
          2641246,
          2735868,
          2794704,
          2849753,
          2904546,
          2959351,
          3013518,
          3068130,
          3123403,
          3180019,
          3229681,
          3273363,
          3325902,
          3382944,
          3366891,
          3413266,
          3467814,
          3525894,
          3583082,
          3642659,
          3733876,
          3771721,
          3789251,
          3818205,
          3844751,
          3870739,
          3902690,
          3933559,
          3965796,
          3994283
         ],
         "yaxis": "y"
        },
        {
         "hoverlabel": {
          "namelength": 0
         },
         "hovertemplate": "Gender=Male<br>year=%{x}<br>Population=%{y}",
         "legendgroup": "Male",
         "line": {
          "color": "#EF553B",
          "dash": "solid"
         },
         "mode": "lines",
         "name": "Male",
         "showlegend": true,
         "type": "scatter",
         "x": [
          1957,
          1958,
          1959,
          1960,
          1961,
          1962,
          1963,
          1964,
          1965,
          1966,
          1967,
          1968,
          1969,
          1970,
          1971,
          1972,
          1973,
          1974,
          1975,
          1976,
          1977,
          1978,
          1979,
          1980,
          1981,
          1982,
          1983,
          1984,
          1985,
          1986,
          1987,
          1988,
          1989,
          1990,
          1991,
          1992,
          1993,
          1994,
          1995,
          1996,
          1997,
          1998,
          1999,
          2000,
          2001,
          2002,
          2003,
          2004,
          2005,
          2006,
          2007,
          2008,
          2009,
          2010,
          2011,
          2012,
          2013,
          2014,
          2015,
          2016,
          2017,
          2018
         ],
         "xaxis": "x",
         "y": [
          762760,
          797601,
          830801,
          859599,
          886499,
          909499,
          929300,
          951501,
          973800,
          995799,
          1017401,
          1034100,
          1046900,
          1032322,
          1081201,
          1101100,
          1121400,
          1139700,
          1156100,
          1171299,
          1187300,
          1201400,
          1216299,
          1159011,
          1181679,
          1202158,
          1222022,
          1240330,
          1259206,
          1276500,
          1293516,
          1315463,
          1339773,
          1386291,
          1414309,
          1439064,
          1464223,
          1489181,
          1514020,
          1540018,
          1565751,
          1591816,
          1614805,
          1634667,
          1658558,
          1684295,
          1673401,
          1695031,
          1721139,
          1748242,
          1775477,
          1802992,
          1844732,
          1861133,
          1868170,
          1880046,
          1891504,
          1902410,
          1916628,
          1929526,
          1943545,
          1955838
         ],
         "yaxis": "y"
        },
        {
         "hoverlabel": {
          "namelength": 0
         },
         "hovertemplate": "Gender=Female<br>year=%{x}<br>Population=%{y}",
         "legendgroup": "Female",
         "line": {
          "color": "#00cc96",
          "dash": "solid"
         },
         "mode": "lines",
         "name": "Female",
         "showlegend": true,
         "type": "scatter",
         "x": [
          1957,
          1958,
          1959,
          1960,
          1961,
          1962,
          1963,
          1964,
          1965,
          1966,
          1967,
          1968,
          1969,
          1970,
          1971,
          1972,
          1973,
          1974,
          1975,
          1976,
          1977,
          1978,
          1979,
          1980,
          1981,
          1982,
          1983,
          1984,
          1985,
          1986,
          1987,
          1988,
          1989,
          1990,
          1991,
          1992,
          1993,
          1994,
          1995,
          1996,
          1997,
          1998,
          1999,
          2000,
          2001,
          2002,
          2003,
          2004,
          2005,
          2006,
          2007,
          2008,
          2009,
          2010,
          2011,
          2012,
          2013,
          2014,
          2015,
          2016,
          2017,
          2018
         ],
         "xaxis": "x",
         "y": [
          683169,
          721201,
          756400,
          786800,
          815899,
          840700,
          865700,
          890101,
          913099,
          938599,
          960200,
          977900,
          995599,
          983293,
          1031700,
          1051300,
          1071601,
          1090100,
          1106499,
          1122000,
          1138000,
          1152200,
          1167200,
          1123114,
          1143969,
          1164750,
          1184896,
          1203450,
          1222407,
          1239551,
          1256300,
          1277617,
          1301474,
          1349577,
          1380398,
          1410689,
          1440326,
          1470169,
          1499504,
          1528112,
          1557652,
          1588202,
          1614877,
          1638696,
          1667344,
          1698649,
          1693490,
          1718235,
          1746675,
          1777652,
          1807605,
          1839667,
          1889144,
          1910588,
          1921081,
          1938159,
          1953247,
          1968329,
          1986062,
          2004033,
          2022251,
          2038445
         ],
         "yaxis": "y"
        }
       ],
       "layout": {
        "legend": {
         "title": {
          "text": "Gender"
         },
         "tracegroupgap": 0
        },
        "margin": {
         "t": 60
        },
        "template": {
         "data": {
          "bar": [
           {
            "error_x": {
             "color": "#2a3f5f"
            },
            "error_y": {
             "color": "#2a3f5f"
            },
            "marker": {
             "line": {
              "color": "#E5ECF6",
              "width": 0.5
             }
            },
            "type": "bar"
           }
          ],
          "barpolar": [
           {
            "marker": {
             "line": {
              "color": "#E5ECF6",
              "width": 0.5
             }
            },
            "type": "barpolar"
           }
          ],
          "carpet": [
           {
            "aaxis": {
             "endlinecolor": "#2a3f5f",
             "gridcolor": "white",
             "linecolor": "white",
             "minorgridcolor": "white",
             "startlinecolor": "#2a3f5f"
            },
            "baxis": {
             "endlinecolor": "#2a3f5f",
             "gridcolor": "white",
             "linecolor": "white",
             "minorgridcolor": "white",
             "startlinecolor": "#2a3f5f"
            },
            "type": "carpet"
           }
          ],
          "choropleth": [
           {
            "colorbar": {
             "outlinewidth": 0,
             "ticks": ""
            },
            "type": "choropleth"
           }
          ],
          "contour": [
           {
            "colorbar": {
             "outlinewidth": 0,
             "ticks": ""
            },
            "colorscale": [
             [
              0,
              "#0d0887"
             ],
             [
              0.1111111111111111,
              "#46039f"
             ],
             [
              0.2222222222222222,
              "#7201a8"
             ],
             [
              0.3333333333333333,
              "#9c179e"
             ],
             [
              0.4444444444444444,
              "#bd3786"
             ],
             [
              0.5555555555555556,
              "#d8576b"
             ],
             [
              0.6666666666666666,
              "#ed7953"
             ],
             [
              0.7777777777777778,
              "#fb9f3a"
             ],
             [
              0.8888888888888888,
              "#fdca26"
             ],
             [
              1,
              "#f0f921"
             ]
            ],
            "type": "contour"
           }
          ],
          "contourcarpet": [
           {
            "colorbar": {
             "outlinewidth": 0,
             "ticks": ""
            },
            "type": "contourcarpet"
           }
          ],
          "heatmap": [
           {
            "colorbar": {
             "outlinewidth": 0,
             "ticks": ""
            },
            "colorscale": [
             [
              0,
              "#0d0887"
             ],
             [
              0.1111111111111111,
              "#46039f"
             ],
             [
              0.2222222222222222,
              "#7201a8"
             ],
             [
              0.3333333333333333,
              "#9c179e"
             ],
             [
              0.4444444444444444,
              "#bd3786"
             ],
             [
              0.5555555555555556,
              "#d8576b"
             ],
             [
              0.6666666666666666,
              "#ed7953"
             ],
             [
              0.7777777777777778,
              "#fb9f3a"
             ],
             [
              0.8888888888888888,
              "#fdca26"
             ],
             [
              1,
              "#f0f921"
             ]
            ],
            "type": "heatmap"
           }
          ],
          "heatmapgl": [
           {
            "colorbar": {
             "outlinewidth": 0,
             "ticks": ""
            },
            "colorscale": [
             [
              0,
              "#0d0887"
             ],
             [
              0.1111111111111111,
              "#46039f"
             ],
             [
              0.2222222222222222,
              "#7201a8"
             ],
             [
              0.3333333333333333,
              "#9c179e"
             ],
             [
              0.4444444444444444,
              "#bd3786"
             ],
             [
              0.5555555555555556,
              "#d8576b"
             ],
             [
              0.6666666666666666,
              "#ed7953"
             ],
             [
              0.7777777777777778,
              "#fb9f3a"
             ],
             [
              0.8888888888888888,
              "#fdca26"
             ],
             [
              1,
              "#f0f921"
             ]
            ],
            "type": "heatmapgl"
           }
          ],
          "histogram": [
           {
            "marker": {
             "colorbar": {
              "outlinewidth": 0,
              "ticks": ""
             }
            },
            "type": "histogram"
           }
          ],
          "histogram2d": [
           {
            "colorbar": {
             "outlinewidth": 0,
             "ticks": ""
            },
            "colorscale": [
             [
              0,
              "#0d0887"
             ],
             [
              0.1111111111111111,
              "#46039f"
             ],
             [
              0.2222222222222222,
              "#7201a8"
             ],
             [
              0.3333333333333333,
              "#9c179e"
             ],
             [
              0.4444444444444444,
              "#bd3786"
             ],
             [
              0.5555555555555556,
              "#d8576b"
             ],
             [
              0.6666666666666666,
              "#ed7953"
             ],
             [
              0.7777777777777778,
              "#fb9f3a"
             ],
             [
              0.8888888888888888,
              "#fdca26"
             ],
             [
              1,
              "#f0f921"
             ]
            ],
            "type": "histogram2d"
           }
          ],
          "histogram2dcontour": [
           {
            "colorbar": {
             "outlinewidth": 0,
             "ticks": ""
            },
            "colorscale": [
             [
              0,
              "#0d0887"
             ],
             [
              0.1111111111111111,
              "#46039f"
             ],
             [
              0.2222222222222222,
              "#7201a8"
             ],
             [
              0.3333333333333333,
              "#9c179e"
             ],
             [
              0.4444444444444444,
              "#bd3786"
             ],
             [
              0.5555555555555556,
              "#d8576b"
             ],
             [
              0.6666666666666666,
              "#ed7953"
             ],
             [
              0.7777777777777778,
              "#fb9f3a"
             ],
             [
              0.8888888888888888,
              "#fdca26"
             ],
             [
              1,
              "#f0f921"
             ]
            ],
            "type": "histogram2dcontour"
           }
          ],
          "mesh3d": [
           {
            "colorbar": {
             "outlinewidth": 0,
             "ticks": ""
            },
            "type": "mesh3d"
           }
          ],
          "parcoords": [
           {
            "line": {
             "colorbar": {
              "outlinewidth": 0,
              "ticks": ""
             }
            },
            "type": "parcoords"
           }
          ],
          "pie": [
           {
            "automargin": true,
            "type": "pie"
           }
          ],
          "scatter": [
           {
            "marker": {
             "colorbar": {
              "outlinewidth": 0,
              "ticks": ""
             }
            },
            "type": "scatter"
           }
          ],
          "scatter3d": [
           {
            "line": {
             "colorbar": {
              "outlinewidth": 0,
              "ticks": ""
             }
            },
            "marker": {
             "colorbar": {
              "outlinewidth": 0,
              "ticks": ""
             }
            },
            "type": "scatter3d"
           }
          ],
          "scattercarpet": [
           {
            "marker": {
             "colorbar": {
              "outlinewidth": 0,
              "ticks": ""
             }
            },
            "type": "scattercarpet"
           }
          ],
          "scattergeo": [
           {
            "marker": {
             "colorbar": {
              "outlinewidth": 0,
              "ticks": ""
             }
            },
            "type": "scattergeo"
           }
          ],
          "scattergl": [
           {
            "marker": {
             "colorbar": {
              "outlinewidth": 0,
              "ticks": ""
             }
            },
            "type": "scattergl"
           }
          ],
          "scattermapbox": [
           {
            "marker": {
             "colorbar": {
              "outlinewidth": 0,
              "ticks": ""
             }
            },
            "type": "scattermapbox"
           }
          ],
          "scatterpolar": [
           {
            "marker": {
             "colorbar": {
              "outlinewidth": 0,
              "ticks": ""
             }
            },
            "type": "scatterpolar"
           }
          ],
          "scatterpolargl": [
           {
            "marker": {
             "colorbar": {
              "outlinewidth": 0,
              "ticks": ""
             }
            },
            "type": "scatterpolargl"
           }
          ],
          "scatterternary": [
           {
            "marker": {
             "colorbar": {
              "outlinewidth": 0,
              "ticks": ""
             }
            },
            "type": "scatterternary"
           }
          ],
          "surface": [
           {
            "colorbar": {
             "outlinewidth": 0,
             "ticks": ""
            },
            "colorscale": [
             [
              0,
              "#0d0887"
             ],
             [
              0.1111111111111111,
              "#46039f"
             ],
             [
              0.2222222222222222,
              "#7201a8"
             ],
             [
              0.3333333333333333,
              "#9c179e"
             ],
             [
              0.4444444444444444,
              "#bd3786"
             ],
             [
              0.5555555555555556,
              "#d8576b"
             ],
             [
              0.6666666666666666,
              "#ed7953"
             ],
             [
              0.7777777777777778,
              "#fb9f3a"
             ],
             [
              0.8888888888888888,
              "#fdca26"
             ],
             [
              1,
              "#f0f921"
             ]
            ],
            "type": "surface"
           }
          ],
          "table": [
           {
            "cells": {
             "fill": {
              "color": "#EBF0F8"
             },
             "line": {
              "color": "white"
             }
            },
            "header": {
             "fill": {
              "color": "#C8D4E3"
             },
             "line": {
              "color": "white"
             }
            },
            "type": "table"
           }
          ]
         },
         "layout": {
          "annotationdefaults": {
           "arrowcolor": "#2a3f5f",
           "arrowhead": 0,
           "arrowwidth": 1
          },
          "coloraxis": {
           "colorbar": {
            "outlinewidth": 0,
            "ticks": ""
           }
          },
          "colorscale": {
           "diverging": [
            [
             0,
             "#8e0152"
            ],
            [
             0.1,
             "#c51b7d"
            ],
            [
             0.2,
             "#de77ae"
            ],
            [
             0.3,
             "#f1b6da"
            ],
            [
             0.4,
             "#fde0ef"
            ],
            [
             0.5,
             "#f7f7f7"
            ],
            [
             0.6,
             "#e6f5d0"
            ],
            [
             0.7,
             "#b8e186"
            ],
            [
             0.8,
             "#7fbc41"
            ],
            [
             0.9,
             "#4d9221"
            ],
            [
             1,
             "#276419"
            ]
           ],
           "sequential": [
            [
             0,
             "#0d0887"
            ],
            [
             0.1111111111111111,
             "#46039f"
            ],
            [
             0.2222222222222222,
             "#7201a8"
            ],
            [
             0.3333333333333333,
             "#9c179e"
            ],
            [
             0.4444444444444444,
             "#bd3786"
            ],
            [
             0.5555555555555556,
             "#d8576b"
            ],
            [
             0.6666666666666666,
             "#ed7953"
            ],
            [
             0.7777777777777778,
             "#fb9f3a"
            ],
            [
             0.8888888888888888,
             "#fdca26"
            ],
            [
             1,
             "#f0f921"
            ]
           ],
           "sequentialminus": [
            [
             0,
             "#0d0887"
            ],
            [
             0.1111111111111111,
             "#46039f"
            ],
            [
             0.2222222222222222,
             "#7201a8"
            ],
            [
             0.3333333333333333,
             "#9c179e"
            ],
            [
             0.4444444444444444,
             "#bd3786"
            ],
            [
             0.5555555555555556,
             "#d8576b"
            ],
            [
             0.6666666666666666,
             "#ed7953"
            ],
            [
             0.7777777777777778,
             "#fb9f3a"
            ],
            [
             0.8888888888888888,
             "#fdca26"
            ],
            [
             1,
             "#f0f921"
            ]
           ]
          },
          "colorway": [
           "#636efa",
           "#EF553B",
           "#00cc96",
           "#ab63fa",
           "#FFA15A",
           "#19d3f3",
           "#FF6692",
           "#B6E880",
           "#FF97FF",
           "#FECB52"
          ],
          "font": {
           "color": "#2a3f5f"
          },
          "geo": {
           "bgcolor": "white",
           "lakecolor": "white",
           "landcolor": "#E5ECF6",
           "showlakes": true,
           "showland": true,
           "subunitcolor": "white"
          },
          "hoverlabel": {
           "align": "left"
          },
          "hovermode": "closest",
          "mapbox": {
           "style": "light"
          },
          "paper_bgcolor": "white",
          "plot_bgcolor": "#E5ECF6",
          "polar": {
           "angularaxis": {
            "gridcolor": "white",
            "linecolor": "white",
            "ticks": ""
           },
           "bgcolor": "#E5ECF6",
           "radialaxis": {
            "gridcolor": "white",
            "linecolor": "white",
            "ticks": ""
           }
          },
          "scene": {
           "xaxis": {
            "backgroundcolor": "#E5ECF6",
            "gridcolor": "white",
            "gridwidth": 2,
            "linecolor": "white",
            "showbackground": true,
            "ticks": "",
            "zerolinecolor": "white"
           },
           "yaxis": {
            "backgroundcolor": "#E5ECF6",
            "gridcolor": "white",
            "gridwidth": 2,
            "linecolor": "white",
            "showbackground": true,
            "ticks": "",
            "zerolinecolor": "white"
           },
           "zaxis": {
            "backgroundcolor": "#E5ECF6",
            "gridcolor": "white",
            "gridwidth": 2,
            "linecolor": "white",
            "showbackground": true,
            "ticks": "",
            "zerolinecolor": "white"
           }
          },
          "shapedefaults": {
           "line": {
            "color": "#2a3f5f"
           }
          },
          "ternary": {
           "aaxis": {
            "gridcolor": "white",
            "linecolor": "white",
            "ticks": ""
           },
           "baxis": {
            "gridcolor": "white",
            "linecolor": "white",
            "ticks": ""
           },
           "bgcolor": "#E5ECF6",
           "caxis": {
            "gridcolor": "white",
            "linecolor": "white",
            "ticks": ""
           }
          },
          "title": {
           "x": 0.05
          },
          "xaxis": {
           "automargin": true,
           "gridcolor": "white",
           "linecolor": "white",
           "ticks": "",
           "title": {
            "standoff": 15
           },
           "zerolinecolor": "white",
           "zerolinewidth": 2
          },
          "yaxis": {
           "automargin": true,
           "gridcolor": "white",
           "linecolor": "white",
           "ticks": "",
           "title": {
            "standoff": 15
           },
           "zerolinecolor": "white",
           "zerolinewidth": 2
          }
         }
        },
        "xaxis": {
         "anchor": "y",
         "domain": [
          0,
          1
         ],
         "title": {
          "text": "year"
         }
        },
        "yaxis": {
         "anchor": "x",
         "domain": [
          0,
          1
         ],
         "title": {
          "text": "Population"
         }
        }
       }
      },
      "text/html": [
       "<div>\n",
       "        \n",
       "        \n",
       "            <div id=\"e27dfd5d-e53e-46ec-b49e-f0a9c8c251c6\" class=\"plotly-graph-div\" style=\"height:525px; width:100%;\"></div>\n",
       "            <script type=\"text/javascript\">\n",
       "                require([\"plotly\"], function(Plotly) {\n",
       "                    window.PLOTLYENV=window.PLOTLYENV || {};\n",
       "                    \n",
       "                if (document.getElementById(\"e27dfd5d-e53e-46ec-b49e-f0a9c8c251c6\")) {\n",
       "                    Plotly.newPlot(\n",
       "                        'e27dfd5d-e53e-46ec-b49e-f0a9c8c251c6',\n",
       "                        [{\"hoverlabel\": {\"namelength\": 0}, \"hovertemplate\": \"Gender=Mixed<br>year=%{x}<br>Population=%{y}\", \"legendgroup\": \"Mixed\", \"line\": {\"color\": \"#636efa\", \"dash\": \"solid\"}, \"mode\": \"lines\", \"name\": \"Mixed\", \"showlegend\": true, \"type\": \"scatter\", \"x\": [1957, 1958, 1959, 1960, 1961, 1962, 1963, 1964, 1965, 1966, 1967, 1968, 1969, 1970, 1971, 1972, 1973, 1974, 1975, 1976, 1977, 1978, 1979, 1980, 1981, 1982, 1983, 1984, 1985, 1986, 1987, 1988, 1989, 1990, 1991, 1992, 1993, 1994, 1995, 1996, 1997, 1998, 1999, 2000, 2001, 2002, 2003, 2004, 2005, 2006, 2007, 2008, 2009, 2010, 2011, 2012, 2013, 2014, 2015, 2016, 2017, 2018], \"xaxis\": \"x\", \"y\": [1445929.0, 1518800.0, 1587201.0, 1646401.0, 1702400.0, 1750201.0, 1795000.0, 1841600.0, 1886901.0, 1934400.0, 1977601.0, 2012000.0, 2042501.0, 2015615.0, 2112899.0, 2152400.0, 2192999.0, 2229800.0, 2262599.0, 2293301.0, 2325300.0, 2353600.0, 2383499.0, 2282125.0, 2325649.0, 2366908.0, 2406916.0, 2443779.0, 2481612.0, 2516048.0, 2549814.0, 2593081.0, 2641246.0, 2735868.0, 2794704.0, 2849753.0, 2904546.0, 2959351.0, 3013518.0, 3068130.0, 3123403.0, 3180019.0, 3229681.0, 3273363.0, 3325902.0, 3382944.0, 3366891.0, 3413266.0, 3467814.0, 3525894.0, 3583082.0, 3642659.0, 3733876.0, 3771721.0, 3789251.0, 3818205.0, 3844751.0, 3870739.0, 3902690.0, 3933559.0, 3965796.0, 3994283.0], \"yaxis\": \"y\"}, {\"hoverlabel\": {\"namelength\": 0}, \"hovertemplate\": \"Gender=Male<br>year=%{x}<br>Population=%{y}\", \"legendgroup\": \"Male\", \"line\": {\"color\": \"#EF553B\", \"dash\": \"solid\"}, \"mode\": \"lines\", \"name\": \"Male\", \"showlegend\": true, \"type\": \"scatter\", \"x\": [1957, 1958, 1959, 1960, 1961, 1962, 1963, 1964, 1965, 1966, 1967, 1968, 1969, 1970, 1971, 1972, 1973, 1974, 1975, 1976, 1977, 1978, 1979, 1980, 1981, 1982, 1983, 1984, 1985, 1986, 1987, 1988, 1989, 1990, 1991, 1992, 1993, 1994, 1995, 1996, 1997, 1998, 1999, 2000, 2001, 2002, 2003, 2004, 2005, 2006, 2007, 2008, 2009, 2010, 2011, 2012, 2013, 2014, 2015, 2016, 2017, 2018], \"xaxis\": \"x\", \"y\": [762760.0, 797601.0, 830801.0, 859599.0, 886499.0, 909499.0, 929300.0, 951501.0, 973800.0, 995799.0, 1017401.0, 1034100.0, 1046900.0, 1032322.0, 1081201.0, 1101100.0, 1121400.0, 1139700.0, 1156100.0, 1171299.0, 1187300.0, 1201400.0, 1216299.0, 1159011.0, 1181679.0, 1202158.0, 1222022.0, 1240330.0, 1259206.0, 1276500.0, 1293516.0, 1315463.0, 1339773.0, 1386291.0, 1414309.0, 1439064.0, 1464223.0, 1489181.0, 1514020.0, 1540018.0, 1565751.0, 1591816.0, 1614805.0, 1634667.0, 1658558.0, 1684295.0, 1673401.0, 1695031.0, 1721139.0, 1748242.0, 1775477.0, 1802992.0, 1844732.0, 1861133.0, 1868170.0, 1880046.0, 1891504.0, 1902410.0, 1916628.0, 1929526.0, 1943545.0, 1955838.0], \"yaxis\": \"y\"}, {\"hoverlabel\": {\"namelength\": 0}, \"hovertemplate\": \"Gender=Female<br>year=%{x}<br>Population=%{y}\", \"legendgroup\": \"Female\", \"line\": {\"color\": \"#00cc96\", \"dash\": \"solid\"}, \"mode\": \"lines\", \"name\": \"Female\", \"showlegend\": true, \"type\": \"scatter\", \"x\": [1957, 1958, 1959, 1960, 1961, 1962, 1963, 1964, 1965, 1966, 1967, 1968, 1969, 1970, 1971, 1972, 1973, 1974, 1975, 1976, 1977, 1978, 1979, 1980, 1981, 1982, 1983, 1984, 1985, 1986, 1987, 1988, 1989, 1990, 1991, 1992, 1993, 1994, 1995, 1996, 1997, 1998, 1999, 2000, 2001, 2002, 2003, 2004, 2005, 2006, 2007, 2008, 2009, 2010, 2011, 2012, 2013, 2014, 2015, 2016, 2017, 2018], \"xaxis\": \"x\", \"y\": [683169.0, 721201.0, 756400.0, 786800.0, 815899.0, 840700.0, 865700.0, 890101.0, 913099.0, 938599.0, 960200.0, 977900.0, 995599.0, 983293.0, 1031700.0, 1051300.0, 1071601.0, 1090100.0, 1106499.0, 1122000.0, 1138000.0, 1152200.0, 1167200.0, 1123114.0, 1143969.0, 1164750.0, 1184896.0, 1203450.0, 1222407.0, 1239551.0, 1256300.0, 1277617.0, 1301474.0, 1349577.0, 1380398.0, 1410689.0, 1440326.0, 1470169.0, 1499504.0, 1528112.0, 1557652.0, 1588202.0, 1614877.0, 1638696.0, 1667344.0, 1698649.0, 1693490.0, 1718235.0, 1746675.0, 1777652.0, 1807605.0, 1839667.0, 1889144.0, 1910588.0, 1921081.0, 1938159.0, 1953247.0, 1968329.0, 1986062.0, 2004033.0, 2022251.0, 2038445.0], \"yaxis\": \"y\"}],\n",
       "                        {\"legend\": {\"title\": {\"text\": \"Gender\"}, \"tracegroupgap\": 0}, \"margin\": {\"t\": 60}, \"template\": {\"data\": {\"bar\": [{\"error_x\": {\"color\": \"#2a3f5f\"}, \"error_y\": {\"color\": \"#2a3f5f\"}, \"marker\": {\"line\": {\"color\": \"#E5ECF6\", \"width\": 0.5}}, \"type\": \"bar\"}], \"barpolar\": [{\"marker\": {\"line\": {\"color\": \"#E5ECF6\", \"width\": 0.5}}, \"type\": \"barpolar\"}], \"carpet\": [{\"aaxis\": {\"endlinecolor\": \"#2a3f5f\", \"gridcolor\": \"white\", \"linecolor\": \"white\", \"minorgridcolor\": \"white\", \"startlinecolor\": \"#2a3f5f\"}, \"baxis\": {\"endlinecolor\": \"#2a3f5f\", \"gridcolor\": \"white\", \"linecolor\": \"white\", \"minorgridcolor\": \"white\", \"startlinecolor\": \"#2a3f5f\"}, \"type\": \"carpet\"}], \"choropleth\": [{\"colorbar\": {\"outlinewidth\": 0, \"ticks\": \"\"}, \"type\": \"choropleth\"}], \"contour\": [{\"colorbar\": {\"outlinewidth\": 0, \"ticks\": \"\"}, \"colorscale\": [[0.0, \"#0d0887\"], [0.1111111111111111, \"#46039f\"], [0.2222222222222222, \"#7201a8\"], [0.3333333333333333, \"#9c179e\"], [0.4444444444444444, \"#bd3786\"], [0.5555555555555556, \"#d8576b\"], [0.6666666666666666, \"#ed7953\"], [0.7777777777777778, \"#fb9f3a\"], [0.8888888888888888, \"#fdca26\"], [1.0, \"#f0f921\"]], \"type\": \"contour\"}], \"contourcarpet\": [{\"colorbar\": {\"outlinewidth\": 0, \"ticks\": \"\"}, \"type\": \"contourcarpet\"}], \"heatmap\": [{\"colorbar\": {\"outlinewidth\": 0, \"ticks\": \"\"}, \"colorscale\": [[0.0, \"#0d0887\"], [0.1111111111111111, \"#46039f\"], [0.2222222222222222, \"#7201a8\"], [0.3333333333333333, \"#9c179e\"], [0.4444444444444444, \"#bd3786\"], [0.5555555555555556, \"#d8576b\"], [0.6666666666666666, \"#ed7953\"], [0.7777777777777778, \"#fb9f3a\"], [0.8888888888888888, \"#fdca26\"], [1.0, \"#f0f921\"]], \"type\": \"heatmap\"}], \"heatmapgl\": [{\"colorbar\": {\"outlinewidth\": 0, \"ticks\": \"\"}, \"colorscale\": [[0.0, \"#0d0887\"], [0.1111111111111111, \"#46039f\"], [0.2222222222222222, \"#7201a8\"], [0.3333333333333333, \"#9c179e\"], [0.4444444444444444, \"#bd3786\"], [0.5555555555555556, \"#d8576b\"], [0.6666666666666666, \"#ed7953\"], [0.7777777777777778, \"#fb9f3a\"], [0.8888888888888888, \"#fdca26\"], [1.0, \"#f0f921\"]], \"type\": \"heatmapgl\"}], \"histogram\": [{\"marker\": {\"colorbar\": {\"outlinewidth\": 0, \"ticks\": \"\"}}, \"type\": \"histogram\"}], \"histogram2d\": [{\"colorbar\": {\"outlinewidth\": 0, \"ticks\": \"\"}, \"colorscale\": [[0.0, \"#0d0887\"], [0.1111111111111111, \"#46039f\"], [0.2222222222222222, \"#7201a8\"], [0.3333333333333333, \"#9c179e\"], [0.4444444444444444, \"#bd3786\"], [0.5555555555555556, \"#d8576b\"], [0.6666666666666666, \"#ed7953\"], [0.7777777777777778, \"#fb9f3a\"], [0.8888888888888888, \"#fdca26\"], [1.0, \"#f0f921\"]], \"type\": \"histogram2d\"}], \"histogram2dcontour\": [{\"colorbar\": {\"outlinewidth\": 0, \"ticks\": \"\"}, \"colorscale\": [[0.0, \"#0d0887\"], [0.1111111111111111, \"#46039f\"], [0.2222222222222222, \"#7201a8\"], [0.3333333333333333, \"#9c179e\"], [0.4444444444444444, \"#bd3786\"], [0.5555555555555556, \"#d8576b\"], [0.6666666666666666, \"#ed7953\"], [0.7777777777777778, \"#fb9f3a\"], [0.8888888888888888, \"#fdca26\"], [1.0, \"#f0f921\"]], \"type\": \"histogram2dcontour\"}], \"mesh3d\": [{\"colorbar\": {\"outlinewidth\": 0, \"ticks\": \"\"}, \"type\": \"mesh3d\"}], \"parcoords\": [{\"line\": {\"colorbar\": {\"outlinewidth\": 0, \"ticks\": \"\"}}, \"type\": \"parcoords\"}], \"pie\": [{\"automargin\": true, \"type\": \"pie\"}], \"scatter\": [{\"marker\": {\"colorbar\": {\"outlinewidth\": 0, \"ticks\": \"\"}}, \"type\": \"scatter\"}], \"scatter3d\": [{\"line\": {\"colorbar\": {\"outlinewidth\": 0, \"ticks\": \"\"}}, \"marker\": {\"colorbar\": {\"outlinewidth\": 0, \"ticks\": \"\"}}, \"type\": \"scatter3d\"}], \"scattercarpet\": [{\"marker\": {\"colorbar\": {\"outlinewidth\": 0, \"ticks\": \"\"}}, \"type\": \"scattercarpet\"}], \"scattergeo\": [{\"marker\": {\"colorbar\": {\"outlinewidth\": 0, \"ticks\": \"\"}}, \"type\": \"scattergeo\"}], \"scattergl\": [{\"marker\": {\"colorbar\": {\"outlinewidth\": 0, \"ticks\": \"\"}}, \"type\": \"scattergl\"}], \"scattermapbox\": [{\"marker\": {\"colorbar\": {\"outlinewidth\": 0, \"ticks\": \"\"}}, \"type\": \"scattermapbox\"}], \"scatterpolar\": [{\"marker\": {\"colorbar\": {\"outlinewidth\": 0, \"ticks\": \"\"}}, \"type\": \"scatterpolar\"}], \"scatterpolargl\": [{\"marker\": {\"colorbar\": {\"outlinewidth\": 0, \"ticks\": \"\"}}, \"type\": \"scatterpolargl\"}], \"scatterternary\": [{\"marker\": {\"colorbar\": {\"outlinewidth\": 0, \"ticks\": \"\"}}, \"type\": \"scatterternary\"}], \"surface\": [{\"colorbar\": {\"outlinewidth\": 0, \"ticks\": \"\"}, \"colorscale\": [[0.0, \"#0d0887\"], [0.1111111111111111, \"#46039f\"], [0.2222222222222222, \"#7201a8\"], [0.3333333333333333, \"#9c179e\"], [0.4444444444444444, \"#bd3786\"], [0.5555555555555556, \"#d8576b\"], [0.6666666666666666, \"#ed7953\"], [0.7777777777777778, \"#fb9f3a\"], [0.8888888888888888, \"#fdca26\"], [1.0, \"#f0f921\"]], \"type\": \"surface\"}], \"table\": [{\"cells\": {\"fill\": {\"color\": \"#EBF0F8\"}, \"line\": {\"color\": \"white\"}}, \"header\": {\"fill\": {\"color\": \"#C8D4E3\"}, \"line\": {\"color\": \"white\"}}, \"type\": \"table\"}]}, \"layout\": {\"annotationdefaults\": {\"arrowcolor\": \"#2a3f5f\", \"arrowhead\": 0, \"arrowwidth\": 1}, \"coloraxis\": {\"colorbar\": {\"outlinewidth\": 0, \"ticks\": \"\"}}, \"colorscale\": {\"diverging\": [[0, \"#8e0152\"], [0.1, \"#c51b7d\"], [0.2, \"#de77ae\"], [0.3, \"#f1b6da\"], [0.4, \"#fde0ef\"], [0.5, \"#f7f7f7\"], [0.6, \"#e6f5d0\"], [0.7, \"#b8e186\"], [0.8, \"#7fbc41\"], [0.9, \"#4d9221\"], [1, \"#276419\"]], \"sequential\": [[0.0, \"#0d0887\"], [0.1111111111111111, \"#46039f\"], [0.2222222222222222, \"#7201a8\"], [0.3333333333333333, \"#9c179e\"], [0.4444444444444444, \"#bd3786\"], [0.5555555555555556, \"#d8576b\"], [0.6666666666666666, \"#ed7953\"], [0.7777777777777778, \"#fb9f3a\"], [0.8888888888888888, \"#fdca26\"], [1.0, \"#f0f921\"]], \"sequentialminus\": [[0.0, \"#0d0887\"], [0.1111111111111111, \"#46039f\"], [0.2222222222222222, \"#7201a8\"], [0.3333333333333333, \"#9c179e\"], [0.4444444444444444, \"#bd3786\"], [0.5555555555555556, \"#d8576b\"], [0.6666666666666666, \"#ed7953\"], [0.7777777777777778, \"#fb9f3a\"], [0.8888888888888888, \"#fdca26\"], [1.0, \"#f0f921\"]]}, \"colorway\": [\"#636efa\", \"#EF553B\", \"#00cc96\", \"#ab63fa\", \"#FFA15A\", \"#19d3f3\", \"#FF6692\", \"#B6E880\", \"#FF97FF\", \"#FECB52\"], \"font\": {\"color\": \"#2a3f5f\"}, \"geo\": {\"bgcolor\": \"white\", \"lakecolor\": \"white\", \"landcolor\": \"#E5ECF6\", \"showlakes\": true, \"showland\": true, \"subunitcolor\": \"white\"}, \"hoverlabel\": {\"align\": \"left\"}, \"hovermode\": \"closest\", \"mapbox\": {\"style\": \"light\"}, \"paper_bgcolor\": \"white\", \"plot_bgcolor\": \"#E5ECF6\", \"polar\": {\"angularaxis\": {\"gridcolor\": \"white\", \"linecolor\": \"white\", \"ticks\": \"\"}, \"bgcolor\": \"#E5ECF6\", \"radialaxis\": {\"gridcolor\": \"white\", \"linecolor\": \"white\", \"ticks\": \"\"}}, \"scene\": {\"xaxis\": {\"backgroundcolor\": \"#E5ECF6\", \"gridcolor\": \"white\", \"gridwidth\": 2, \"linecolor\": \"white\", \"showbackground\": true, \"ticks\": \"\", \"zerolinecolor\": \"white\"}, \"yaxis\": {\"backgroundcolor\": \"#E5ECF6\", \"gridcolor\": \"white\", \"gridwidth\": 2, \"linecolor\": \"white\", \"showbackground\": true, \"ticks\": \"\", \"zerolinecolor\": \"white\"}, \"zaxis\": {\"backgroundcolor\": \"#E5ECF6\", \"gridcolor\": \"white\", \"gridwidth\": 2, \"linecolor\": \"white\", \"showbackground\": true, \"ticks\": \"\", \"zerolinecolor\": \"white\"}}, \"shapedefaults\": {\"line\": {\"color\": \"#2a3f5f\"}}, \"ternary\": {\"aaxis\": {\"gridcolor\": \"white\", \"linecolor\": \"white\", \"ticks\": \"\"}, \"baxis\": {\"gridcolor\": \"white\", \"linecolor\": \"white\", \"ticks\": \"\"}, \"bgcolor\": \"#E5ECF6\", \"caxis\": {\"gridcolor\": \"white\", \"linecolor\": \"white\", \"ticks\": \"\"}}, \"title\": {\"x\": 0.05}, \"xaxis\": {\"automargin\": true, \"gridcolor\": \"white\", \"linecolor\": \"white\", \"ticks\": \"\", \"title\": {\"standoff\": 15}, \"zerolinecolor\": \"white\", \"zerolinewidth\": 2}, \"yaxis\": {\"automargin\": true, \"gridcolor\": \"white\", \"linecolor\": \"white\", \"ticks\": \"\", \"title\": {\"standoff\": 15}, \"zerolinecolor\": \"white\", \"zerolinewidth\": 2}}}, \"xaxis\": {\"anchor\": \"y\", \"domain\": [0.0, 1.0], \"title\": {\"text\": \"year\"}}, \"yaxis\": {\"anchor\": \"x\", \"domain\": [0.0, 1.0], \"title\": {\"text\": \"Population\"}}},\n",
       "                        {\"responsive\": true}\n",
       "                    ).then(function(){\n",
       "                            \n",
       "var gd = document.getElementById('e27dfd5d-e53e-46ec-b49e-f0a9c8c251c6');\n",
       "var x = new MutationObserver(function (mutations, observer) {{\n",
       "        var display = window.getComputedStyle(gd).display;\n",
       "        if (!display || display === 'none') {{\n",
       "            console.log([gd, 'removed!']);\n",
       "            Plotly.purge(gd);\n",
       "            observer.disconnect();\n",
       "        }}\n",
       "}});\n",
       "\n",
       "// Listen for the removal of the full notebook cells\n",
       "var notebookContainer = gd.closest('#notebook-container');\n",
       "if (notebookContainer) {{\n",
       "    x.observe(notebookContainer, {childList: true});\n",
       "}}\n",
       "\n",
       "// Listen for the clearing of the current output cell\n",
       "var outputEl = gd.closest('.output');\n",
       "if (outputEl) {{\n",
       "    x.observe(outputEl, {childList: true});\n",
       "}}\n",
       "\n",
       "                        })\n",
       "                };\n",
       "                });\n",
       "            </script>\n",
       "        </div>"
      ]
     },
     "metadata": {},
     "output_type": "display_data"
    }
   ],
   "source": [
    "#While there was higher percentage of males in the early years. Females became prominent gender by 1999\n",
    "#the gap has been increasing ever since\n",
    "fig3 = px.line(df_year_g, x=\"year\", y=\"Population\", color='Gender')\n",
    "fig3.show()"
   ]
  },
  {
   "cell_type": "code",
   "execution_count": 60,
   "metadata": {},
   "outputs": [],
   "source": [
    "##Thank you##"
   ]
  },
  {
   "cell_type": "code",
   "execution_count": null,
   "metadata": {},
   "outputs": [],
   "source": []
  }
 ],
 "metadata": {
  "kernelspec": {
   "display_name": "Python 3",
   "language": "python",
   "name": "python3"
  },
  "language_info": {
   "codemirror_mode": {
    "name": "ipython",
    "version": 3
   },
   "file_extension": ".py",
   "mimetype": "text/x-python",
   "name": "python",
   "nbconvert_exporter": "python",
   "pygments_lexer": "ipython3",
   "version": "3.7.6"
  }
 },
 "nbformat": 4,
 "nbformat_minor": 4
}
